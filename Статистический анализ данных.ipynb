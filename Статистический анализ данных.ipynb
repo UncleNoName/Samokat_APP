{
 "cells": [
  {
   "cell_type": "markdown",
   "id": "1b068ceb",
   "metadata": {},
   "source": [
    "# Проект: Статистический анализ данных\n",
    "\n",
    "**Описание проекта:**\n",
    "\n",
    "Имеются данные мобильного приложения GoFast о некоторых пользователях из нескольких городов, а также об их поездках на самокатах. Для передвижения по городу, пользователи могут использовать сервис без подписки или с подпиской Ultra.\n",
    "\n",
    "**Цель проекта:**\n",
    "\n",
    "Проанализировать данные и проверить некоторые гипотезы, которые могут помочь бизнесу вырасти.\n",
    "\n",
    "**Описание данных:**\n",
    "\n",
    "**Пользователи** — users_go.csv\n",
    "\n",
    "`user_id` - уникальный идентификатор пользователя\n",
    "\n",
    "`name` - имя пользователя\n",
    "\n",
    "`age` - возраст\n",
    "\n",
    "`city` - город\n",
    "\n",
    "`subscription_type` - тип подписки (free, ultra)\n",
    "\n",
    "**Поездки** — rides_go.csv\n",
    "\n",
    "`user_id` - уникальный идентификатор пользователя\n",
    "\n",
    "`distance` - расстояние, которое пользователь проехал в текущей сессии (в метрах)\n",
    "\n",
    "`duration` - продолжительность сессии (в минутах) — время с того момента, как пользователь нажал кнопку «Начать поездку» до момента, как он нажал кнопку «Завершить поездку»\n",
    "\n",
    "`date` - дата совершения поездки\n",
    "\n",
    "**Подписки** — subscriptions_go.csv\n",
    "\n",
    "`subscription_type` - тип подписки\n",
    "\n",
    "`minute_price` - стоимость одной минуты поездки по данной подписке\n",
    "\n",
    "`start_ride_price` - стоимость начала поездки\n",
    "\n",
    "`subscription_fee` - стоимость ежемесячного платежа"
   ]
  },
  {
   "cell_type": "markdown",
   "id": "35202ca0",
   "metadata": {},
   "source": [
    "**Импортируем необходимые библиотеки:**"
   ]
  },
  {
   "cell_type": "code",
   "execution_count": 1,
   "id": "b9410636",
   "metadata": {},
   "outputs": [],
   "source": [
    "import pandas as pd\n",
    "import matplotlib.pyplot as plt\n",
    "import seaborn as sns\n",
    "import numpy as np\n",
    "from scipy import stats as st\n",
    "from scipy.stats import binom, norm \n",
    "from math import sqrt\n",
    "\n",
    "import warnings\n",
    "warnings.filterwarnings(\"ignore\")"
   ]
  },
  {
   "cell_type": "markdown",
   "id": "fe555413",
   "metadata": {},
   "source": [
    "#### Шаг 1. Загрузка данных"
   ]
  },
  {
   "cell_type": "code",
   "execution_count": 2,
   "id": "fe6aa4fd",
   "metadata": {},
   "outputs": [],
   "source": [
    "users,rides,subscriptions = (pd.read_csv('/datasets/users_go.csv'),\n",
    "                                pd.read_csv('/datasets/rides_go.csv'),\n",
    "                                pd.read_csv('/datasets/subscriptions_go.csv'))"
   ]
  },
  {
   "cell_type": "markdown",
   "id": "dd620df5",
   "metadata": {},
   "source": [
    "##### Посмотрим на представленные таблицы:"
   ]
  },
  {
   "cell_type": "markdown",
   "id": "933da014",
   "metadata": {},
   "source": [
    "**USERS**"
   ]
  },
  {
   "cell_type": "code",
   "execution_count": 3,
   "id": "ba6d32f8",
   "metadata": {},
   "outputs": [
    {
     "data": {
      "text/html": [
       "<div>\n",
       "<style scoped>\n",
       "    .dataframe tbody tr th:only-of-type {\n",
       "        vertical-align: middle;\n",
       "    }\n",
       "\n",
       "    .dataframe tbody tr th {\n",
       "        vertical-align: top;\n",
       "    }\n",
       "\n",
       "    .dataframe thead th {\n",
       "        text-align: right;\n",
       "    }\n",
       "</style>\n",
       "<table border=\"1\" class=\"dataframe\">\n",
       "  <thead>\n",
       "    <tr style=\"text-align: right;\">\n",
       "      <th></th>\n",
       "      <th>user_id</th>\n",
       "      <th>name</th>\n",
       "      <th>age</th>\n",
       "      <th>city</th>\n",
       "      <th>subscription_type</th>\n",
       "    </tr>\n",
       "  </thead>\n",
       "  <tbody>\n",
       "    <tr>\n",
       "      <th>0</th>\n",
       "      <td>1</td>\n",
       "      <td>Кира</td>\n",
       "      <td>22</td>\n",
       "      <td>Тюмень</td>\n",
       "      <td>ultra</td>\n",
       "    </tr>\n",
       "    <tr>\n",
       "      <th>1</th>\n",
       "      <td>2</td>\n",
       "      <td>Станислав</td>\n",
       "      <td>31</td>\n",
       "      <td>Омск</td>\n",
       "      <td>ultra</td>\n",
       "    </tr>\n",
       "    <tr>\n",
       "      <th>2</th>\n",
       "      <td>3</td>\n",
       "      <td>Алексей</td>\n",
       "      <td>20</td>\n",
       "      <td>Москва</td>\n",
       "      <td>ultra</td>\n",
       "    </tr>\n",
       "    <tr>\n",
       "      <th>3</th>\n",
       "      <td>4</td>\n",
       "      <td>Константин</td>\n",
       "      <td>26</td>\n",
       "      <td>Ростов-на-Дону</td>\n",
       "      <td>ultra</td>\n",
       "    </tr>\n",
       "    <tr>\n",
       "      <th>4</th>\n",
       "      <td>5</td>\n",
       "      <td>Адель</td>\n",
       "      <td>28</td>\n",
       "      <td>Омск</td>\n",
       "      <td>ultra</td>\n",
       "    </tr>\n",
       "    <tr>\n",
       "      <th>5</th>\n",
       "      <td>6</td>\n",
       "      <td>Регина</td>\n",
       "      <td>25</td>\n",
       "      <td>Краснодар</td>\n",
       "      <td>ultra</td>\n",
       "    </tr>\n",
       "    <tr>\n",
       "      <th>6</th>\n",
       "      <td>7</td>\n",
       "      <td>Игорь</td>\n",
       "      <td>23</td>\n",
       "      <td>Омск</td>\n",
       "      <td>ultra</td>\n",
       "    </tr>\n",
       "  </tbody>\n",
       "</table>\n",
       "</div>"
      ],
      "text/plain": [
       "   user_id        name  age            city subscription_type\n",
       "0        1        Кира   22          Тюмень             ultra\n",
       "1        2   Станислав   31            Омск             ultra\n",
       "2        3     Алексей   20          Москва             ultra\n",
       "3        4  Константин   26  Ростов-на-Дону             ultra\n",
       "4        5       Адель   28            Омск             ultra\n",
       "5        6      Регина   25       Краснодар             ultra\n",
       "6        7       Игорь   23            Омск             ultra"
      ]
     },
     "execution_count": 3,
     "metadata": {},
     "output_type": "execute_result"
    }
   ],
   "source": [
    "users.head(7)"
   ]
  },
  {
   "cell_type": "code",
   "execution_count": 4,
   "id": "8ae1c469",
   "metadata": {},
   "outputs": [
    {
     "name": "stdout",
     "output_type": "stream",
     "text": [
      "<class 'pandas.core.frame.DataFrame'>\n",
      "RangeIndex: 1565 entries, 0 to 1564\n",
      "Data columns (total 5 columns):\n",
      " #   Column             Non-Null Count  Dtype \n",
      "---  ------             --------------  ----- \n",
      " 0   user_id            1565 non-null   int64 \n",
      " 1   name               1565 non-null   object\n",
      " 2   age                1565 non-null   int64 \n",
      " 3   city               1565 non-null   object\n",
      " 4   subscription_type  1565 non-null   object\n",
      "dtypes: int64(2), object(3)\n",
      "memory usage: 61.3+ KB\n"
     ]
    }
   ],
   "source": [
    "users.info()"
   ]
  },
  {
   "cell_type": "markdown",
   "id": "8299e38a",
   "metadata": {},
   "source": [
    "Кол-во строк: 1565"
   ]
  },
  {
   "cell_type": "markdown",
   "id": "43321518",
   "metadata": {},
   "source": [
    "**Изучим пропуски:**"
   ]
  },
  {
   "cell_type": "code",
   "execution_count": 5,
   "id": "23cdaf25",
   "metadata": {},
   "outputs": [
    {
     "data": {
      "text/plain": [
       "user_id              0\n",
       "name                 0\n",
       "age                  0\n",
       "city                 0\n",
       "subscription_type    0\n",
       "dtype: int64"
      ]
     },
     "execution_count": 5,
     "metadata": {},
     "output_type": "execute_result"
    }
   ],
   "source": [
    "users.isna().sum().sort_values()"
   ]
  },
  {
   "cell_type": "markdown",
   "id": "06d5043c",
   "metadata": {},
   "source": [
    "**Посмотрим на явные дубликаты:**"
   ]
  },
  {
   "cell_type": "code",
   "execution_count": 6,
   "id": "f394844c",
   "metadata": {},
   "outputs": [
    {
     "data": {
      "text/plain": [
       "31"
      ]
     },
     "execution_count": 6,
     "metadata": {},
     "output_type": "execute_result"
    }
   ],
   "source": [
    "users.duplicated().sum()"
   ]
  },
  {
   "cell_type": "markdown",
   "id": "ec269d31",
   "metadata": {},
   "source": [
    "Дубликатов 31"
   ]
  },
  {
   "cell_type": "markdown",
   "id": "06fb8726",
   "metadata": {},
   "source": [
    "**Посмотрим на описание числовых значений:**"
   ]
  },
  {
   "cell_type": "code",
   "execution_count": 7,
   "id": "798fb9aa",
   "metadata": {},
   "outputs": [
    {
     "data": {
      "text/html": [
       "<div>\n",
       "<style scoped>\n",
       "    .dataframe tbody tr th:only-of-type {\n",
       "        vertical-align: middle;\n",
       "    }\n",
       "\n",
       "    .dataframe tbody tr th {\n",
       "        vertical-align: top;\n",
       "    }\n",
       "\n",
       "    .dataframe thead th {\n",
       "        text-align: right;\n",
       "    }\n",
       "</style>\n",
       "<table border=\"1\" class=\"dataframe\">\n",
       "  <thead>\n",
       "    <tr style=\"text-align: right;\">\n",
       "      <th></th>\n",
       "      <th>user_id</th>\n",
       "      <th>age</th>\n",
       "    </tr>\n",
       "  </thead>\n",
       "  <tbody>\n",
       "    <tr>\n",
       "      <th>count</th>\n",
       "      <td>1565.000000</td>\n",
       "      <td>1565.000000</td>\n",
       "    </tr>\n",
       "    <tr>\n",
       "      <th>mean</th>\n",
       "      <td>762.633866</td>\n",
       "      <td>24.922045</td>\n",
       "    </tr>\n",
       "    <tr>\n",
       "      <th>std</th>\n",
       "      <td>443.260155</td>\n",
       "      <td>4.553496</td>\n",
       "    </tr>\n",
       "    <tr>\n",
       "      <th>min</th>\n",
       "      <td>1.000000</td>\n",
       "      <td>12.000000</td>\n",
       "    </tr>\n",
       "    <tr>\n",
       "      <th>25%</th>\n",
       "      <td>378.000000</td>\n",
       "      <td>22.000000</td>\n",
       "    </tr>\n",
       "    <tr>\n",
       "      <th>50%</th>\n",
       "      <td>762.000000</td>\n",
       "      <td>25.000000</td>\n",
       "    </tr>\n",
       "    <tr>\n",
       "      <th>75%</th>\n",
       "      <td>1146.000000</td>\n",
       "      <td>28.000000</td>\n",
       "    </tr>\n",
       "    <tr>\n",
       "      <th>max</th>\n",
       "      <td>1534.000000</td>\n",
       "      <td>43.000000</td>\n",
       "    </tr>\n",
       "  </tbody>\n",
       "</table>\n",
       "</div>"
      ],
      "text/plain": [
       "           user_id          age\n",
       "count  1565.000000  1565.000000\n",
       "mean    762.633866    24.922045\n",
       "std     443.260155     4.553496\n",
       "min       1.000000    12.000000\n",
       "25%     378.000000    22.000000\n",
       "50%     762.000000    25.000000\n",
       "75%    1146.000000    28.000000\n",
       "max    1534.000000    43.000000"
      ]
     },
     "execution_count": 7,
     "metadata": {},
     "output_type": "execute_result"
    }
   ],
   "source": [
    "users.describe()"
   ]
  },
  {
   "cell_type": "markdown",
   "id": "8b895a56",
   "metadata": {},
   "source": [
    "**RIDES**"
   ]
  },
  {
   "cell_type": "code",
   "execution_count": 8,
   "id": "9a877a16",
   "metadata": {},
   "outputs": [
    {
     "data": {
      "text/html": [
       "<div>\n",
       "<style scoped>\n",
       "    .dataframe tbody tr th:only-of-type {\n",
       "        vertical-align: middle;\n",
       "    }\n",
       "\n",
       "    .dataframe tbody tr th {\n",
       "        vertical-align: top;\n",
       "    }\n",
       "\n",
       "    .dataframe thead th {\n",
       "        text-align: right;\n",
       "    }\n",
       "</style>\n",
       "<table border=\"1\" class=\"dataframe\">\n",
       "  <thead>\n",
       "    <tr style=\"text-align: right;\">\n",
       "      <th></th>\n",
       "      <th>user_id</th>\n",
       "      <th>distance</th>\n",
       "      <th>duration</th>\n",
       "      <th>date</th>\n",
       "    </tr>\n",
       "  </thead>\n",
       "  <tbody>\n",
       "    <tr>\n",
       "      <th>0</th>\n",
       "      <td>1</td>\n",
       "      <td>4409.919140</td>\n",
       "      <td>25.599769</td>\n",
       "      <td>2021-01-01</td>\n",
       "    </tr>\n",
       "    <tr>\n",
       "      <th>1</th>\n",
       "      <td>1</td>\n",
       "      <td>2617.592153</td>\n",
       "      <td>15.816871</td>\n",
       "      <td>2021-01-18</td>\n",
       "    </tr>\n",
       "    <tr>\n",
       "      <th>2</th>\n",
       "      <td>1</td>\n",
       "      <td>754.159807</td>\n",
       "      <td>6.232113</td>\n",
       "      <td>2021-04-20</td>\n",
       "    </tr>\n",
       "    <tr>\n",
       "      <th>3</th>\n",
       "      <td>1</td>\n",
       "      <td>2694.783254</td>\n",
       "      <td>18.511000</td>\n",
       "      <td>2021-08-11</td>\n",
       "    </tr>\n",
       "    <tr>\n",
       "      <th>4</th>\n",
       "      <td>1</td>\n",
       "      <td>4028.687306</td>\n",
       "      <td>26.265803</td>\n",
       "      <td>2021-08-28</td>\n",
       "    </tr>\n",
       "    <tr>\n",
       "      <th>5</th>\n",
       "      <td>1</td>\n",
       "      <td>2770.890808</td>\n",
       "      <td>16.650138</td>\n",
       "      <td>2021-10-09</td>\n",
       "    </tr>\n",
       "    <tr>\n",
       "      <th>6</th>\n",
       "      <td>1</td>\n",
       "      <td>3039.020292</td>\n",
       "      <td>14.927879</td>\n",
       "      <td>2021-10-19</td>\n",
       "    </tr>\n",
       "  </tbody>\n",
       "</table>\n",
       "</div>"
      ],
      "text/plain": [
       "   user_id     distance   duration        date\n",
       "0        1  4409.919140  25.599769  2021-01-01\n",
       "1        1  2617.592153  15.816871  2021-01-18\n",
       "2        1   754.159807   6.232113  2021-04-20\n",
       "3        1  2694.783254  18.511000  2021-08-11\n",
       "4        1  4028.687306  26.265803  2021-08-28\n",
       "5        1  2770.890808  16.650138  2021-10-09\n",
       "6        1  3039.020292  14.927879  2021-10-19"
      ]
     },
     "execution_count": 8,
     "metadata": {},
     "output_type": "execute_result"
    }
   ],
   "source": [
    "rides.head(7)"
   ]
  },
  {
   "cell_type": "code",
   "execution_count": 9,
   "id": "3ec01f53",
   "metadata": {},
   "outputs": [
    {
     "name": "stdout",
     "output_type": "stream",
     "text": [
      "<class 'pandas.core.frame.DataFrame'>\n",
      "RangeIndex: 18068 entries, 0 to 18067\n",
      "Data columns (total 4 columns):\n",
      " #   Column    Non-Null Count  Dtype  \n",
      "---  ------    --------------  -----  \n",
      " 0   user_id   18068 non-null  int64  \n",
      " 1   distance  18068 non-null  float64\n",
      " 2   duration  18068 non-null  float64\n",
      " 3   date      18068 non-null  object \n",
      "dtypes: float64(2), int64(1), object(1)\n",
      "memory usage: 564.8+ KB\n"
     ]
    }
   ],
   "source": [
    "rides.info()"
   ]
  },
  {
   "cell_type": "markdown",
   "id": "04744222",
   "metadata": {},
   "source": [
    "Кол-во строк: 18068"
   ]
  },
  {
   "cell_type": "markdown",
   "id": "d7c745fe",
   "metadata": {},
   "source": [
    "**Изучим пропуски:**"
   ]
  },
  {
   "cell_type": "code",
   "execution_count": 10,
   "id": "c3a4f27f",
   "metadata": {},
   "outputs": [
    {
     "data": {
      "text/plain": [
       "user_id     0\n",
       "distance    0\n",
       "duration    0\n",
       "date        0\n",
       "dtype: int64"
      ]
     },
     "execution_count": 10,
     "metadata": {},
     "output_type": "execute_result"
    }
   ],
   "source": [
    "rides.isna().sum().sort_values()"
   ]
  },
  {
   "cell_type": "markdown",
   "id": "1e60b69f",
   "metadata": {},
   "source": [
    "**Посмотрим на явные дубликаты:**"
   ]
  },
  {
   "cell_type": "code",
   "execution_count": 11,
   "id": "e917717a",
   "metadata": {},
   "outputs": [
    {
     "data": {
      "text/plain": [
       "0"
      ]
     },
     "execution_count": 11,
     "metadata": {},
     "output_type": "execute_result"
    }
   ],
   "source": [
    "rides.duplicated().sum()"
   ]
  },
  {
   "cell_type": "markdown",
   "id": "a5aa152d",
   "metadata": {},
   "source": [
    "Дубликатов 0"
   ]
  },
  {
   "cell_type": "markdown",
   "id": "ec8e299e",
   "metadata": {},
   "source": [
    "**Посмотрим на описание числовых значений:**"
   ]
  },
  {
   "cell_type": "code",
   "execution_count": 12,
   "id": "e7e30001",
   "metadata": {},
   "outputs": [
    {
     "data": {
      "text/html": [
       "<div>\n",
       "<style scoped>\n",
       "    .dataframe tbody tr th:only-of-type {\n",
       "        vertical-align: middle;\n",
       "    }\n",
       "\n",
       "    .dataframe tbody tr th {\n",
       "        vertical-align: top;\n",
       "    }\n",
       "\n",
       "    .dataframe thead th {\n",
       "        text-align: right;\n",
       "    }\n",
       "</style>\n",
       "<table border=\"1\" class=\"dataframe\">\n",
       "  <thead>\n",
       "    <tr style=\"text-align: right;\">\n",
       "      <th></th>\n",
       "      <th>user_id</th>\n",
       "      <th>distance</th>\n",
       "      <th>duration</th>\n",
       "    </tr>\n",
       "  </thead>\n",
       "  <tbody>\n",
       "    <tr>\n",
       "      <th>count</th>\n",
       "      <td>18068.000000</td>\n",
       "      <td>18068.000000</td>\n",
       "      <td>18068.000000</td>\n",
       "    </tr>\n",
       "    <tr>\n",
       "      <th>mean</th>\n",
       "      <td>842.869936</td>\n",
       "      <td>3070.659976</td>\n",
       "      <td>17.805011</td>\n",
       "    </tr>\n",
       "    <tr>\n",
       "      <th>std</th>\n",
       "      <td>434.734317</td>\n",
       "      <td>1116.831209</td>\n",
       "      <td>6.091051</td>\n",
       "    </tr>\n",
       "    <tr>\n",
       "      <th>min</th>\n",
       "      <td>1.000000</td>\n",
       "      <td>0.855683</td>\n",
       "      <td>0.500000</td>\n",
       "    </tr>\n",
       "    <tr>\n",
       "      <th>25%</th>\n",
       "      <td>487.000000</td>\n",
       "      <td>2543.226360</td>\n",
       "      <td>13.597563</td>\n",
       "    </tr>\n",
       "    <tr>\n",
       "      <th>50%</th>\n",
       "      <td>889.000000</td>\n",
       "      <td>3133.609994</td>\n",
       "      <td>17.678395</td>\n",
       "    </tr>\n",
       "    <tr>\n",
       "      <th>75%</th>\n",
       "      <td>1213.250000</td>\n",
       "      <td>3776.222735</td>\n",
       "      <td>21.724800</td>\n",
       "    </tr>\n",
       "    <tr>\n",
       "      <th>max</th>\n",
       "      <td>1534.000000</td>\n",
       "      <td>7211.007745</td>\n",
       "      <td>40.823963</td>\n",
       "    </tr>\n",
       "  </tbody>\n",
       "</table>\n",
       "</div>"
      ],
      "text/plain": [
       "            user_id      distance      duration\n",
       "count  18068.000000  18068.000000  18068.000000\n",
       "mean     842.869936   3070.659976     17.805011\n",
       "std      434.734317   1116.831209      6.091051\n",
       "min        1.000000      0.855683      0.500000\n",
       "25%      487.000000   2543.226360     13.597563\n",
       "50%      889.000000   3133.609994     17.678395\n",
       "75%     1213.250000   3776.222735     21.724800\n",
       "max     1534.000000   7211.007745     40.823963"
      ]
     },
     "execution_count": 12,
     "metadata": {},
     "output_type": "execute_result"
    }
   ],
   "source": [
    "rides.describe()"
   ]
  },
  {
   "cell_type": "markdown",
   "id": "3efcc988",
   "metadata": {},
   "source": [
    "**SUBSCRIPTIONS**"
   ]
  },
  {
   "cell_type": "code",
   "execution_count": 13,
   "id": "3d52eb27",
   "metadata": {},
   "outputs": [
    {
     "data": {
      "text/html": [
       "<div>\n",
       "<style scoped>\n",
       "    .dataframe tbody tr th:only-of-type {\n",
       "        vertical-align: middle;\n",
       "    }\n",
       "\n",
       "    .dataframe tbody tr th {\n",
       "        vertical-align: top;\n",
       "    }\n",
       "\n",
       "    .dataframe thead th {\n",
       "        text-align: right;\n",
       "    }\n",
       "</style>\n",
       "<table border=\"1\" class=\"dataframe\">\n",
       "  <thead>\n",
       "    <tr style=\"text-align: right;\">\n",
       "      <th></th>\n",
       "      <th>subscription_type</th>\n",
       "      <th>minute_price</th>\n",
       "      <th>start_ride_price</th>\n",
       "      <th>subscription_fee</th>\n",
       "    </tr>\n",
       "  </thead>\n",
       "  <tbody>\n",
       "    <tr>\n",
       "      <th>0</th>\n",
       "      <td>free</td>\n",
       "      <td>8</td>\n",
       "      <td>50</td>\n",
       "      <td>0</td>\n",
       "    </tr>\n",
       "    <tr>\n",
       "      <th>1</th>\n",
       "      <td>ultra</td>\n",
       "      <td>6</td>\n",
       "      <td>0</td>\n",
       "      <td>199</td>\n",
       "    </tr>\n",
       "  </tbody>\n",
       "</table>\n",
       "</div>"
      ],
      "text/plain": [
       "  subscription_type  minute_price  start_ride_price  subscription_fee\n",
       "0              free             8                50                 0\n",
       "1             ultra             6                 0               199"
      ]
     },
     "execution_count": 13,
     "metadata": {},
     "output_type": "execute_result"
    }
   ],
   "source": [
    "subscriptions.head(7)"
   ]
  },
  {
   "cell_type": "code",
   "execution_count": 14,
   "id": "58cadd3b",
   "metadata": {},
   "outputs": [
    {
     "name": "stdout",
     "output_type": "stream",
     "text": [
      "<class 'pandas.core.frame.DataFrame'>\n",
      "RangeIndex: 2 entries, 0 to 1\n",
      "Data columns (total 4 columns):\n",
      " #   Column             Non-Null Count  Dtype \n",
      "---  ------             --------------  ----- \n",
      " 0   subscription_type  2 non-null      object\n",
      " 1   minute_price       2 non-null      int64 \n",
      " 2   start_ride_price   2 non-null      int64 \n",
      " 3   subscription_fee   2 non-null      int64 \n",
      "dtypes: int64(3), object(1)\n",
      "memory usage: 192.0+ bytes\n"
     ]
    }
   ],
   "source": [
    "subscriptions.info()"
   ]
  },
  {
   "cell_type": "markdown",
   "id": "6cbe86b1",
   "metadata": {},
   "source": [
    "Кол-во строк: 2"
   ]
  },
  {
   "cell_type": "markdown",
   "id": "89e63ed6",
   "metadata": {},
   "source": [
    "**Изучим пропуски:**"
   ]
  },
  {
   "cell_type": "code",
   "execution_count": 15,
   "id": "a93893a0",
   "metadata": {},
   "outputs": [
    {
     "data": {
      "text/plain": [
       "subscription_type    0\n",
       "minute_price         0\n",
       "start_ride_price     0\n",
       "subscription_fee     0\n",
       "dtype: int64"
      ]
     },
     "execution_count": 15,
     "metadata": {},
     "output_type": "execute_result"
    }
   ],
   "source": [
    "subscriptions.isna().sum().sort_values()"
   ]
  },
  {
   "cell_type": "markdown",
   "id": "6b0b622e",
   "metadata": {},
   "source": [
    "**Посмотрим на явные дубликаты:**"
   ]
  },
  {
   "cell_type": "code",
   "execution_count": 16,
   "id": "b40ccb82",
   "metadata": {},
   "outputs": [
    {
     "data": {
      "text/plain": [
       "0"
      ]
     },
     "execution_count": 16,
     "metadata": {},
     "output_type": "execute_result"
    }
   ],
   "source": [
    "subscriptions.duplicated().sum()"
   ]
  },
  {
   "cell_type": "markdown",
   "id": "e6a44d28",
   "metadata": {},
   "source": [
    "Дубликатов 0"
   ]
  },
  {
   "cell_type": "markdown",
   "id": "2928984a",
   "metadata": {},
   "source": [
    "**Посмотрим на описание числовых значений:**"
   ]
  },
  {
   "cell_type": "code",
   "execution_count": 17,
   "id": "5de70cc9",
   "metadata": {},
   "outputs": [
    {
     "data": {
      "text/html": [
       "<div>\n",
       "<style scoped>\n",
       "    .dataframe tbody tr th:only-of-type {\n",
       "        vertical-align: middle;\n",
       "    }\n",
       "\n",
       "    .dataframe tbody tr th {\n",
       "        vertical-align: top;\n",
       "    }\n",
       "\n",
       "    .dataframe thead th {\n",
       "        text-align: right;\n",
       "    }\n",
       "</style>\n",
       "<table border=\"1\" class=\"dataframe\">\n",
       "  <thead>\n",
       "    <tr style=\"text-align: right;\">\n",
       "      <th></th>\n",
       "      <th>minute_price</th>\n",
       "      <th>start_ride_price</th>\n",
       "      <th>subscription_fee</th>\n",
       "    </tr>\n",
       "  </thead>\n",
       "  <tbody>\n",
       "    <tr>\n",
       "      <th>count</th>\n",
       "      <td>2.000000</td>\n",
       "      <td>2.000000</td>\n",
       "      <td>2.000000</td>\n",
       "    </tr>\n",
       "    <tr>\n",
       "      <th>mean</th>\n",
       "      <td>7.000000</td>\n",
       "      <td>25.000000</td>\n",
       "      <td>99.500000</td>\n",
       "    </tr>\n",
       "    <tr>\n",
       "      <th>std</th>\n",
       "      <td>1.414214</td>\n",
       "      <td>35.355339</td>\n",
       "      <td>140.714249</td>\n",
       "    </tr>\n",
       "    <tr>\n",
       "      <th>min</th>\n",
       "      <td>6.000000</td>\n",
       "      <td>0.000000</td>\n",
       "      <td>0.000000</td>\n",
       "    </tr>\n",
       "    <tr>\n",
       "      <th>25%</th>\n",
       "      <td>6.500000</td>\n",
       "      <td>12.500000</td>\n",
       "      <td>49.750000</td>\n",
       "    </tr>\n",
       "    <tr>\n",
       "      <th>50%</th>\n",
       "      <td>7.000000</td>\n",
       "      <td>25.000000</td>\n",
       "      <td>99.500000</td>\n",
       "    </tr>\n",
       "    <tr>\n",
       "      <th>75%</th>\n",
       "      <td>7.500000</td>\n",
       "      <td>37.500000</td>\n",
       "      <td>149.250000</td>\n",
       "    </tr>\n",
       "    <tr>\n",
       "      <th>max</th>\n",
       "      <td>8.000000</td>\n",
       "      <td>50.000000</td>\n",
       "      <td>199.000000</td>\n",
       "    </tr>\n",
       "  </tbody>\n",
       "</table>\n",
       "</div>"
      ],
      "text/plain": [
       "       minute_price  start_ride_price  subscription_fee\n",
       "count      2.000000          2.000000          2.000000\n",
       "mean       7.000000         25.000000         99.500000\n",
       "std        1.414214         35.355339        140.714249\n",
       "min        6.000000          0.000000          0.000000\n",
       "25%        6.500000         12.500000         49.750000\n",
       "50%        7.000000         25.000000         99.500000\n",
       "75%        7.500000         37.500000        149.250000\n",
       "max        8.000000         50.000000        199.000000"
      ]
     },
     "execution_count": 17,
     "metadata": {},
     "output_type": "execute_result"
    }
   ],
   "source": [
    "subscriptions.describe()"
   ]
  },
  {
   "cell_type": "markdown",
   "id": "76d49558",
   "metadata": {},
   "source": [
    "##### Промежуточный вывод:"
   ]
  },
  {
   "cell_type": "markdown",
   "id": "c4d31569",
   "metadata": {},
   "source": [
    "Итого мы имеем 3 датафрейма: **пользователи(users)**, **поездки(rides)**, **подписки(subscriptions)**"
   ]
  },
  {
   "cell_type": "markdown",
   "id": "2cd083fe",
   "metadata": {},
   "source": [
    "Таблица **users**:\n",
    "\n",
    "* Тип данных корректный, пропуски отсутствуют, имеется 31 явный дубликат.\n",
    "\n",
    "* Судя по столбцу **age**, медианные значения почти совподают(**25** и **24.9**). 75% пользователей имеют возраст до **28 лет**."
   ]
  },
  {
   "cell_type": "markdown",
   "id": "58efaa53",
   "metadata": {},
   "source": [
    "Таблица **rides**:\n",
    "\n",
    "* Необходимо поменять тип данных столбца поездки на **datetime**, пропуски отсутствуют, явные дубликаты отсутствуют\n",
    "* Минимальное расстояние поездки - **0.86м.**\n",
    "* Среднее расстояние поездки - **3км.**\n",
    "* Средняя продолжительность поездок - **18 мин.**\n"
   ]
  },
  {
   "cell_type": "markdown",
   "id": "4c488e7b",
   "metadata": {},
   "source": [
    "Таблица **subscriptions**:\n",
    "\n",
    "* Тип данных корректный, пропуски отсутствуют, явные дубликаты отсутствуют\n",
    "* **без подписки**(**free**) стоимость минуты поездки - **8 руб.**, стоимость начала поездки - **50 руб.**, абонентская плата - **отсутствует**\n",
    "* по подписке **ultra** стоимость минуты поездки - **6руб.**, стоимость начала поездки - **бесплатно**, абонентская плата - **199руб/мес**"
   ]
  },
  {
   "cell_type": "markdown",
   "id": "b271e4d8",
   "metadata": {},
   "source": [
    "#### Шаг 2. Предобработка данных"
   ]
  },
  {
   "cell_type": "markdown",
   "id": "0816156b",
   "metadata": {},
   "source": [
    "##### Наведём порядок в данных"
   ]
  },
  {
   "cell_type": "markdown",
   "id": "2ee50ed5",
   "metadata": {},
   "source": [
    "**Приведем столбец date таблицы rides к корректному типу:**"
   ]
  },
  {
   "cell_type": "code",
   "execution_count": 18,
   "id": "70afe892",
   "metadata": {},
   "outputs": [],
   "source": [
    "rides['date'] = pd.to_datetime(rides['date']).dt.date"
   ]
  },
  {
   "cell_type": "code",
   "execution_count": 19,
   "id": "b4b99ff6",
   "metadata": {},
   "outputs": [
    {
     "data": {
      "text/plain": [
       "0        2021-01-01\n",
       "1        2021-01-18\n",
       "2        2021-04-20\n",
       "3        2021-08-11\n",
       "4        2021-08-28\n",
       "            ...    \n",
       "18063    2021-11-04\n",
       "18064    2021-11-16\n",
       "18065    2021-11-18\n",
       "18066    2021-11-27\n",
       "18067    2021-12-29\n",
       "Name: date, Length: 18068, dtype: object"
      ]
     },
     "execution_count": 19,
     "metadata": {},
     "output_type": "execute_result"
    }
   ],
   "source": [
    "rides['date']"
   ]
  },
  {
   "cell_type": "markdown",
   "id": "4886fdb6",
   "metadata": {},
   "source": [
    "**Посмотрим на разброс дат:**"
   ]
  },
  {
   "cell_type": "code",
   "execution_count": 20,
   "id": "5ccb75c4",
   "metadata": {},
   "outputs": [
    {
     "name": "stdout",
     "output_type": "stream",
     "text": [
      "Минимальная дата: 2021-01-01\n",
      "Максимальная дата: 2021-12-30\n"
     ]
    }
   ],
   "source": [
    "print('Минимальная дата:', rides['date'].min())\n",
    "print('Максимальная дата:',  rides['date'].max())"
   ]
  },
  {
   "cell_type": "markdown",
   "id": "e5d32bc8",
   "metadata": {},
   "source": [
    "Получается, что исследуемый год  - **2021**\n",
    "\n",
    "Добавим отдельный столбец  с номером месяца:"
   ]
  },
  {
   "cell_type": "code",
   "execution_count": 21,
   "id": "ef34ccae",
   "metadata": {},
   "outputs": [
    {
     "data": {
      "text/html": [
       "<div>\n",
       "<style scoped>\n",
       "    .dataframe tbody tr th:only-of-type {\n",
       "        vertical-align: middle;\n",
       "    }\n",
       "\n",
       "    .dataframe tbody tr th {\n",
       "        vertical-align: top;\n",
       "    }\n",
       "\n",
       "    .dataframe thead th {\n",
       "        text-align: right;\n",
       "    }\n",
       "</style>\n",
       "<table border=\"1\" class=\"dataframe\">\n",
       "  <thead>\n",
       "    <tr style=\"text-align: right;\">\n",
       "      <th></th>\n",
       "      <th>user_id</th>\n",
       "      <th>distance</th>\n",
       "      <th>duration</th>\n",
       "      <th>date</th>\n",
       "      <th>month</th>\n",
       "    </tr>\n",
       "  </thead>\n",
       "  <tbody>\n",
       "    <tr>\n",
       "      <th>0</th>\n",
       "      <td>1</td>\n",
       "      <td>4409.919140</td>\n",
       "      <td>25.599769</td>\n",
       "      <td>2021-01-01</td>\n",
       "      <td>1</td>\n",
       "    </tr>\n",
       "    <tr>\n",
       "      <th>1</th>\n",
       "      <td>1</td>\n",
       "      <td>2617.592153</td>\n",
       "      <td>15.816871</td>\n",
       "      <td>2021-01-18</td>\n",
       "      <td>1</td>\n",
       "    </tr>\n",
       "    <tr>\n",
       "      <th>2</th>\n",
       "      <td>1</td>\n",
       "      <td>754.159807</td>\n",
       "      <td>6.232113</td>\n",
       "      <td>2021-04-20</td>\n",
       "      <td>4</td>\n",
       "    </tr>\n",
       "    <tr>\n",
       "      <th>3</th>\n",
       "      <td>1</td>\n",
       "      <td>2694.783254</td>\n",
       "      <td>18.511000</td>\n",
       "      <td>2021-08-11</td>\n",
       "      <td>8</td>\n",
       "    </tr>\n",
       "    <tr>\n",
       "      <th>4</th>\n",
       "      <td>1</td>\n",
       "      <td>4028.687306</td>\n",
       "      <td>26.265803</td>\n",
       "      <td>2021-08-28</td>\n",
       "      <td>8</td>\n",
       "    </tr>\n",
       "    <tr>\n",
       "      <th>...</th>\n",
       "      <td>...</td>\n",
       "      <td>...</td>\n",
       "      <td>...</td>\n",
       "      <td>...</td>\n",
       "      <td>...</td>\n",
       "    </tr>\n",
       "    <tr>\n",
       "      <th>18063</th>\n",
       "      <td>1534</td>\n",
       "      <td>3781.098080</td>\n",
       "      <td>19.822962</td>\n",
       "      <td>2021-11-04</td>\n",
       "      <td>11</td>\n",
       "    </tr>\n",
       "    <tr>\n",
       "      <th>18064</th>\n",
       "      <td>1534</td>\n",
       "      <td>2840.423057</td>\n",
       "      <td>21.409799</td>\n",
       "      <td>2021-11-16</td>\n",
       "      <td>11</td>\n",
       "    </tr>\n",
       "    <tr>\n",
       "      <th>18065</th>\n",
       "      <td>1534</td>\n",
       "      <td>3826.185507</td>\n",
       "      <td>18.435051</td>\n",
       "      <td>2021-11-18</td>\n",
       "      <td>11</td>\n",
       "    </tr>\n",
       "    <tr>\n",
       "      <th>18066</th>\n",
       "      <td>1534</td>\n",
       "      <td>2902.308661</td>\n",
       "      <td>16.674362</td>\n",
       "      <td>2021-11-27</td>\n",
       "      <td>11</td>\n",
       "    </tr>\n",
       "    <tr>\n",
       "      <th>18067</th>\n",
       "      <td>1534</td>\n",
       "      <td>2371.711192</td>\n",
       "      <td>15.893917</td>\n",
       "      <td>2021-12-29</td>\n",
       "      <td>12</td>\n",
       "    </tr>\n",
       "  </tbody>\n",
       "</table>\n",
       "<p>18068 rows × 5 columns</p>\n",
       "</div>"
      ],
      "text/plain": [
       "       user_id     distance   duration        date  month\n",
       "0            1  4409.919140  25.599769  2021-01-01      1\n",
       "1            1  2617.592153  15.816871  2021-01-18      1\n",
       "2            1   754.159807   6.232113  2021-04-20      4\n",
       "3            1  2694.783254  18.511000  2021-08-11      8\n",
       "4            1  4028.687306  26.265803  2021-08-28      8\n",
       "...        ...          ...        ...         ...    ...\n",
       "18063     1534  3781.098080  19.822962  2021-11-04     11\n",
       "18064     1534  2840.423057  21.409799  2021-11-16     11\n",
       "18065     1534  3826.185507  18.435051  2021-11-18     11\n",
       "18066     1534  2902.308661  16.674362  2021-11-27     11\n",
       "18067     1534  2371.711192  15.893917  2021-12-29     12\n",
       "\n",
       "[18068 rows x 5 columns]"
      ]
     },
     "execution_count": 21,
     "metadata": {},
     "output_type": "execute_result"
    }
   ],
   "source": [
    "rides['month'] =pd.to_datetime(rides['date']).dt.month\n",
    "rides"
   ]
  },
  {
   "cell_type": "markdown",
   "id": "5f8f9509",
   "metadata": {},
   "source": [
    "**Убираем явные дубликаты в users**"
   ]
  },
  {
   "cell_type": "code",
   "execution_count": 22,
   "id": "833dc3af",
   "metadata": {},
   "outputs": [
    {
     "data": {
      "text/plain": [
       "0"
      ]
     },
     "execution_count": 22,
     "metadata": {},
     "output_type": "execute_result"
    }
   ],
   "source": [
    "users.drop_duplicates(inplace=True)\n",
    "users.duplicated().sum()"
   ]
  },
  {
   "cell_type": "markdown",
   "id": "542678af",
   "metadata": {},
   "source": [
    "##### Расширим наблюдения из выводов"
   ]
  },
  {
   "cell_type": "markdown",
   "id": "21b5b490",
   "metadata": {},
   "source": [
    "**Посмотрим на распределение продолжительности поездок и расстояния оных(за 1 поездку)**:"
   ]
  },
  {
   "cell_type": "code",
   "execution_count": 23,
   "id": "e51f5e18",
   "metadata": {},
   "outputs": [
    {
     "data": {
      "image/png": "[encoded data removed]",
      "text/plain": [
       "<Figure size 720x720 with 1 Axes>"
      ]
     },
     "metadata": {
      "needs_background": "light"
     },
     "output_type": "display_data"
    }
   ],
   "source": [
    "plt.figure(figsize=(10,10))\n",
    "sns.set_style(\"darkgrid\")\n",
    "_ = sns.boxplot(y='duration',data=rides)\n",
    "_.axes.set_title('Распределение продолжительности поездок',fontsize=25,loc ='center')\n",
    "_.set_xlabel('')\n",
    "_.set_ylabel('продолжительность, мин', fontsize=15)\n",
    "plt.show()"
   ]
  },
  {
   "cell_type": "markdown",
   "id": "7302782d",
   "metadata": {},
   "source": [
    "Судя по графику основная масса поездок, сосредоточилась в диапазоне **15-23 мин**, также наблюдаются выбросы **менее 2 мин.** и **более 35 мин.** "
   ]
  },
  {
   "cell_type": "markdown",
   "id": "63e38ac8",
   "metadata": {},
   "source": [
    "**Изучим выбросы:**"
   ]
  },
  {
   "cell_type": "markdown",
   "id": "6937c9aa",
   "metadata": {},
   "source": [
    "**Более подробно глянем на строки с продолжительностью менее 2х мин**:"
   ]
  },
  {
   "cell_type": "code",
   "execution_count": 24,
   "id": "dce0d7cb",
   "metadata": {},
   "outputs": [
    {
     "data": {
      "text/html": [
       "<div>\n",
       "<style scoped>\n",
       "    .dataframe tbody tr th:only-of-type {\n",
       "        vertical-align: middle;\n",
       "    }\n",
       "\n",
       "    .dataframe tbody tr th {\n",
       "        vertical-align: top;\n",
       "    }\n",
       "\n",
       "    .dataframe thead th {\n",
       "        text-align: right;\n",
       "    }\n",
       "</style>\n",
       "<table border=\"1\" class=\"dataframe\">\n",
       "  <thead>\n",
       "    <tr style=\"text-align: right;\">\n",
       "      <th></th>\n",
       "      <th>user_id</th>\n",
       "      <th>distance</th>\n",
       "      <th>duration</th>\n",
       "      <th>date</th>\n",
       "      <th>month</th>\n",
       "    </tr>\n",
       "  </thead>\n",
       "  <tbody>\n",
       "    <tr>\n",
       "      <th>6531</th>\n",
       "      <td>701</td>\n",
       "      <td>4196.445201</td>\n",
       "      <td>0.5</td>\n",
       "      <td>2021-08-31</td>\n",
       "      <td>8</td>\n",
       "    </tr>\n",
       "    <tr>\n",
       "      <th>6570</th>\n",
       "      <td>704</td>\n",
       "      <td>4830.824371</td>\n",
       "      <td>0.5</td>\n",
       "      <td>2021-10-14</td>\n",
       "      <td>10</td>\n",
       "    </tr>\n",
       "    <tr>\n",
       "      <th>6680</th>\n",
       "      <td>712</td>\n",
       "      <td>4684.004397</td>\n",
       "      <td>0.5</td>\n",
       "      <td>2021-03-04</td>\n",
       "      <td>3</td>\n",
       "    </tr>\n",
       "    <tr>\n",
       "      <th>6695</th>\n",
       "      <td>713</td>\n",
       "      <td>5215.642710</td>\n",
       "      <td>0.5</td>\n",
       "      <td>2021-02-25</td>\n",
       "      <td>2</td>\n",
       "    </tr>\n",
       "    <tr>\n",
       "      <th>6768</th>\n",
       "      <td>718</td>\n",
       "      <td>5197.436649</td>\n",
       "      <td>0.5</td>\n",
       "      <td>2021-02-11</td>\n",
       "      <td>2</td>\n",
       "    </tr>\n",
       "    <tr>\n",
       "      <th>...</th>\n",
       "      <td>...</td>\n",
       "      <td>...</td>\n",
       "      <td>...</td>\n",
       "      <td>...</td>\n",
       "      <td>...</td>\n",
       "    </tr>\n",
       "    <tr>\n",
       "      <th>17004</th>\n",
       "      <td>1460</td>\n",
       "      <td>5531.335845</td>\n",
       "      <td>0.5</td>\n",
       "      <td>2021-01-19</td>\n",
       "      <td>1</td>\n",
       "    </tr>\n",
       "    <tr>\n",
       "      <th>17242</th>\n",
       "      <td>1477</td>\n",
       "      <td>6724.932981</td>\n",
       "      <td>0.5</td>\n",
       "      <td>2021-01-12</td>\n",
       "      <td>1</td>\n",
       "    </tr>\n",
       "    <tr>\n",
       "      <th>17314</th>\n",
       "      <td>1483</td>\n",
       "      <td>4445.481070</td>\n",
       "      <td>0.5</td>\n",
       "      <td>2021-03-06</td>\n",
       "      <td>3</td>\n",
       "    </tr>\n",
       "    <tr>\n",
       "      <th>17505</th>\n",
       "      <td>1496</td>\n",
       "      <td>5722.551787</td>\n",
       "      <td>0.5</td>\n",
       "      <td>2021-02-14</td>\n",
       "      <td>2</td>\n",
       "    </tr>\n",
       "    <tr>\n",
       "      <th>17909</th>\n",
       "      <td>1524</td>\n",
       "      <td>4103.998874</td>\n",
       "      <td>0.5</td>\n",
       "      <td>2021-06-18</td>\n",
       "      <td>6</td>\n",
       "    </tr>\n",
       "  </tbody>\n",
       "</table>\n",
       "<p>95 rows × 5 columns</p>\n",
       "</div>"
      ],
      "text/plain": [
       "       user_id     distance  duration        date  month\n",
       "6531       701  4196.445201       0.5  2021-08-31      8\n",
       "6570       704  4830.824371       0.5  2021-10-14     10\n",
       "6680       712  4684.004397       0.5  2021-03-04      3\n",
       "6695       713  5215.642710       0.5  2021-02-25      2\n",
       "6768       718  5197.436649       0.5  2021-02-11      2\n",
       "...        ...          ...       ...         ...    ...\n",
       "17004     1460  5531.335845       0.5  2021-01-19      1\n",
       "17242     1477  6724.932981       0.5  2021-01-12      1\n",
       "17314     1483  4445.481070       0.5  2021-03-06      3\n",
       "17505     1496  5722.551787       0.5  2021-02-14      2\n",
       "17909     1524  4103.998874       0.5  2021-06-18      6\n",
       "\n",
       "[95 rows x 5 columns]"
      ]
     },
     "execution_count": 24,
     "metadata": {},
     "output_type": "execute_result"
    }
   ],
   "source": [
    "rides.query('duration < 2')"
   ]
  },
  {
   "cell_type": "code",
   "execution_count": 25,
   "id": "48e14db0",
   "metadata": {},
   "outputs": [
    {
     "data": {
      "text/plain": [
       "4030.308008428866"
      ]
     },
     "execution_count": 25,
     "metadata": {},
     "output_type": "execute_result"
    }
   ],
   "source": [
    "rides.query('duration < 2')['distance'].min()"
   ]
  },
  {
   "cell_type": "markdown",
   "id": "b9966025",
   "metadata": {},
   "source": [
    "**Посмотрим, какой процент данных менее 2х мин.**:"
   ]
  },
  {
   "cell_type": "code",
   "execution_count": 26,
   "id": "b7dba358",
   "metadata": {},
   "outputs": [
    {
     "data": {
      "text/plain": [
       "0.5257914545052026"
      ]
     },
     "execution_count": 26,
     "metadata": {},
     "output_type": "execute_result"
    }
   ],
   "source": [
    "x =95/18068*100 #делим строки менее 2х минут на общее количество строк в rides и ум ножаем на 100\n",
    "x"
   ]
  },
  {
   "cell_type": "markdown",
   "id": "5a969bb3",
   "metadata": {},
   "source": [
    "Получается эти данные составляют **менее 1%**"
   ]
  },
  {
   "cell_type": "markdown",
   "id": "26ac4c4b",
   "metadata": {},
   "source": [
    "В итоге, в **rides** присутствует **95 строк** с продолжительностю поездки **менее 2х мин.**, при этом минимальное расстояние **4030м(+-4км)**, следовательно вкралась какая-то ошибка. Возможно во время поездки \"забаговался\" счётчик продолжительности сессии. Поскольку корректную продолжительность сессии указать не представляется возможным, **опустим** эти данные, дабы не искажать последущее исследование."
   ]
  },
  {
   "cell_type": "code",
   "execution_count": 27,
   "id": "549d9d92",
   "metadata": {},
   "outputs": [],
   "source": [
    "rides.drop(index=rides.query('duration < 2').index, inplace=True)"
   ]
  },
  {
   "cell_type": "markdown",
   "id": "c8a6fc1c",
   "metadata": {},
   "source": [
    "**Более подробно глянем на строки с продолжительностью более 35 минут**"
   ]
  },
  {
   "cell_type": "code",
   "execution_count": 28,
   "id": "515a80dc",
   "metadata": {},
   "outputs": [
    {
     "data": {
      "text/html": [
       "<div>\n",
       "<style scoped>\n",
       "    .dataframe tbody tr th:only-of-type {\n",
       "        vertical-align: middle;\n",
       "    }\n",
       "\n",
       "    .dataframe tbody tr th {\n",
       "        vertical-align: top;\n",
       "    }\n",
       "\n",
       "    .dataframe thead th {\n",
       "        text-align: right;\n",
       "    }\n",
       "</style>\n",
       "<table border=\"1\" class=\"dataframe\">\n",
       "  <thead>\n",
       "    <tr style=\"text-align: right;\">\n",
       "      <th></th>\n",
       "      <th>user_id</th>\n",
       "      <th>distance</th>\n",
       "      <th>duration</th>\n",
       "      <th>date</th>\n",
       "      <th>month</th>\n",
       "    </tr>\n",
       "  </thead>\n",
       "  <tbody>\n",
       "    <tr>\n",
       "      <th>42</th>\n",
       "      <td>4</td>\n",
       "      <td>4649.488243</td>\n",
       "      <td>35.896929</td>\n",
       "      <td>2021-08-14</td>\n",
       "      <td>8</td>\n",
       "    </tr>\n",
       "    <tr>\n",
       "      <th>143</th>\n",
       "      <td>15</td>\n",
       "      <td>4187.621459</td>\n",
       "      <td>38.125729</td>\n",
       "      <td>2021-01-13</td>\n",
       "      <td>1</td>\n",
       "    </tr>\n",
       "    <tr>\n",
       "      <th>499</th>\n",
       "      <td>55</td>\n",
       "      <td>4151.081878</td>\n",
       "      <td>36.906491</td>\n",
       "      <td>2021-06-30</td>\n",
       "      <td>6</td>\n",
       "    </tr>\n",
       "    <tr>\n",
       "      <th>524</th>\n",
       "      <td>58</td>\n",
       "      <td>4763.920660</td>\n",
       "      <td>35.819603</td>\n",
       "      <td>2021-02-17</td>\n",
       "      <td>2</td>\n",
       "    </tr>\n",
       "    <tr>\n",
       "      <th>854</th>\n",
       "      <td>91</td>\n",
       "      <td>4444.579979</td>\n",
       "      <td>35.222900</td>\n",
       "      <td>2021-11-05</td>\n",
       "      <td>11</td>\n",
       "    </tr>\n",
       "    <tr>\n",
       "      <th>1111</th>\n",
       "      <td>119</td>\n",
       "      <td>4060.082639</td>\n",
       "      <td>35.360496</td>\n",
       "      <td>2021-05-15</td>\n",
       "      <td>5</td>\n",
       "    </tr>\n",
       "    <tr>\n",
       "      <th>1455</th>\n",
       "      <td>158</td>\n",
       "      <td>3967.285849</td>\n",
       "      <td>35.803715</td>\n",
       "      <td>2021-05-09</td>\n",
       "      <td>5</td>\n",
       "    </tr>\n",
       "    <tr>\n",
       "      <th>1621</th>\n",
       "      <td>174</td>\n",
       "      <td>3794.401307</td>\n",
       "      <td>35.766408</td>\n",
       "      <td>2021-12-23</td>\n",
       "      <td>12</td>\n",
       "    </tr>\n",
       "    <tr>\n",
       "      <th>1694</th>\n",
       "      <td>183</td>\n",
       "      <td>4473.798120</td>\n",
       "      <td>36.402535</td>\n",
       "      <td>2021-01-02</td>\n",
       "      <td>1</td>\n",
       "    </tr>\n",
       "    <tr>\n",
       "      <th>1894</th>\n",
       "      <td>205</td>\n",
       "      <td>4218.386189</td>\n",
       "      <td>36.310317</td>\n",
       "      <td>2021-08-26</td>\n",
       "      <td>8</td>\n",
       "    </tr>\n",
       "    <tr>\n",
       "      <th>1998</th>\n",
       "      <td>216</td>\n",
       "      <td>4831.339954</td>\n",
       "      <td>38.352763</td>\n",
       "      <td>2021-05-11</td>\n",
       "      <td>5</td>\n",
       "    </tr>\n",
       "    <tr>\n",
       "      <th>2163</th>\n",
       "      <td>231</td>\n",
       "      <td>4456.236915</td>\n",
       "      <td>35.281185</td>\n",
       "      <td>2021-06-14</td>\n",
       "      <td>6</td>\n",
       "    </tr>\n",
       "    <tr>\n",
       "      <th>2232</th>\n",
       "      <td>239</td>\n",
       "      <td>4262.351696</td>\n",
       "      <td>35.574110</td>\n",
       "      <td>2021-02-17</td>\n",
       "      <td>2</td>\n",
       "    </tr>\n",
       "    <tr>\n",
       "      <th>2264</th>\n",
       "      <td>242</td>\n",
       "      <td>4561.197441</td>\n",
       "      <td>35.879259</td>\n",
       "      <td>2021-07-26</td>\n",
       "      <td>7</td>\n",
       "    </tr>\n",
       "    <tr>\n",
       "      <th>2279</th>\n",
       "      <td>243</td>\n",
       "      <td>3915.218384</td>\n",
       "      <td>36.491310</td>\n",
       "      <td>2021-12-30</td>\n",
       "      <td>12</td>\n",
       "    </tr>\n",
       "    <tr>\n",
       "      <th>2530</th>\n",
       "      <td>268</td>\n",
       "      <td>4698.794985</td>\n",
       "      <td>35.192770</td>\n",
       "      <td>2021-06-28</td>\n",
       "      <td>6</td>\n",
       "    </tr>\n",
       "    <tr>\n",
       "      <th>2623</th>\n",
       "      <td>278</td>\n",
       "      <td>4754.433686</td>\n",
       "      <td>39.526602</td>\n",
       "      <td>2021-12-02</td>\n",
       "      <td>12</td>\n",
       "    </tr>\n",
       "    <tr>\n",
       "      <th>2841</th>\n",
       "      <td>304</td>\n",
       "      <td>4786.184341</td>\n",
       "      <td>35.106460</td>\n",
       "      <td>2021-02-26</td>\n",
       "      <td>2</td>\n",
       "    </tr>\n",
       "    <tr>\n",
       "      <th>3729</th>\n",
       "      <td>401</td>\n",
       "      <td>4002.356795</td>\n",
       "      <td>37.014141</td>\n",
       "      <td>2021-09-21</td>\n",
       "      <td>9</td>\n",
       "    </tr>\n",
       "    <tr>\n",
       "      <th>3941</th>\n",
       "      <td>424</td>\n",
       "      <td>4138.578818</td>\n",
       "      <td>35.574066</td>\n",
       "      <td>2021-11-14</td>\n",
       "      <td>11</td>\n",
       "    </tr>\n",
       "    <tr>\n",
       "      <th>4215</th>\n",
       "      <td>454</td>\n",
       "      <td>5137.327103</td>\n",
       "      <td>40.823963</td>\n",
       "      <td>2021-12-27</td>\n",
       "      <td>12</td>\n",
       "    </tr>\n",
       "    <tr>\n",
       "      <th>4239</th>\n",
       "      <td>457</td>\n",
       "      <td>4804.404530</td>\n",
       "      <td>35.205843</td>\n",
       "      <td>2021-11-28</td>\n",
       "      <td>11</td>\n",
       "    </tr>\n",
       "    <tr>\n",
       "      <th>4653</th>\n",
       "      <td>501</td>\n",
       "      <td>4103.765788</td>\n",
       "      <td>36.622595</td>\n",
       "      <td>2021-05-24</td>\n",
       "      <td>5</td>\n",
       "    </tr>\n",
       "    <tr>\n",
       "      <th>4709</th>\n",
       "      <td>507</td>\n",
       "      <td>4645.642671</td>\n",
       "      <td>39.873856</td>\n",
       "      <td>2021-01-15</td>\n",
       "      <td>1</td>\n",
       "    </tr>\n",
       "    <tr>\n",
       "      <th>5013</th>\n",
       "      <td>540</td>\n",
       "      <td>4446.311684</td>\n",
       "      <td>36.252609</td>\n",
       "      <td>2021-02-15</td>\n",
       "      <td>2</td>\n",
       "    </tr>\n",
       "    <tr>\n",
       "      <th>5312</th>\n",
       "      <td>570</td>\n",
       "      <td>4366.325701</td>\n",
       "      <td>35.816322</td>\n",
       "      <td>2021-12-07</td>\n",
       "      <td>12</td>\n",
       "    </tr>\n",
       "    <tr>\n",
       "      <th>6348</th>\n",
       "      <td>681</td>\n",
       "      <td>4134.884947</td>\n",
       "      <td>36.809310</td>\n",
       "      <td>2021-05-01</td>\n",
       "      <td>5</td>\n",
       "    </tr>\n",
       "    <tr>\n",
       "      <th>6453</th>\n",
       "      <td>694</td>\n",
       "      <td>4210.871467</td>\n",
       "      <td>38.265229</td>\n",
       "      <td>2021-03-11</td>\n",
       "      <td>3</td>\n",
       "    </tr>\n",
       "  </tbody>\n",
       "</table>\n",
       "</div>"
      ],
      "text/plain": [
       "      user_id     distance   duration        date  month\n",
       "42          4  4649.488243  35.896929  2021-08-14      8\n",
       "143        15  4187.621459  38.125729  2021-01-13      1\n",
       "499        55  4151.081878  36.906491  2021-06-30      6\n",
       "524        58  4763.920660  35.819603  2021-02-17      2\n",
       "854        91  4444.579979  35.222900  2021-11-05     11\n",
       "1111      119  4060.082639  35.360496  2021-05-15      5\n",
       "1455      158  3967.285849  35.803715  2021-05-09      5\n",
       "1621      174  3794.401307  35.766408  2021-12-23     12\n",
       "1694      183  4473.798120  36.402535  2021-01-02      1\n",
       "1894      205  4218.386189  36.310317  2021-08-26      8\n",
       "1998      216  4831.339954  38.352763  2021-05-11      5\n",
       "2163      231  4456.236915  35.281185  2021-06-14      6\n",
       "2232      239  4262.351696  35.574110  2021-02-17      2\n",
       "2264      242  4561.197441  35.879259  2021-07-26      7\n",
       "2279      243  3915.218384  36.491310  2021-12-30     12\n",
       "2530      268  4698.794985  35.192770  2021-06-28      6\n",
       "2623      278  4754.433686  39.526602  2021-12-02     12\n",
       "2841      304  4786.184341  35.106460  2021-02-26      2\n",
       "3729      401  4002.356795  37.014141  2021-09-21      9\n",
       "3941      424  4138.578818  35.574066  2021-11-14     11\n",
       "4215      454  5137.327103  40.823963  2021-12-27     12\n",
       "4239      457  4804.404530  35.205843  2021-11-28     11\n",
       "4653      501  4103.765788  36.622595  2021-05-24      5\n",
       "4709      507  4645.642671  39.873856  2021-01-15      1\n",
       "5013      540  4446.311684  36.252609  2021-02-15      2\n",
       "5312      570  4366.325701  35.816322  2021-12-07     12\n",
       "6348      681  4134.884947  36.809310  2021-05-01      5\n",
       "6453      694  4210.871467  38.265229  2021-03-11      3"
      ]
     },
     "execution_count": 28,
     "metadata": {},
     "output_type": "execute_result"
    }
   ],
   "source": [
    "rides.query('duration > 35')"
   ]
  },
  {
   "cell_type": "markdown",
   "id": "30d7b02e",
   "metadata": {},
   "source": [
    "Тут тяжело предположить причины такой длительной сессии. Может быть всё что угодно: низкая скорость, остановки, случайно незавершённая сессия и тп. Поэтому оставим данные без изменений."
   ]
  },
  {
   "cell_type": "markdown",
   "id": "bb0098b7",
   "metadata": {},
   "source": [
    "**Изучим расстояние за сессию**:"
   ]
  },
  {
   "cell_type": "code",
   "execution_count": 29,
   "id": "d64960cc",
   "metadata": {},
   "outputs": [
    {
     "data": {
      "image/png": "[encoded data removed]",
      "text/plain": [
       "<Figure size 720x720 with 1 Axes>"
      ]
     },
     "metadata": {},
     "output_type": "display_data"
    }
   ],
   "source": [
    "plt.figure(figsize=(10,10))\n",
    "sns.set_style(\"darkgrid\")\n",
    "_ = sns.boxplot(y='distance',data=rides)\n",
    "_.axes.set_title('Распределение расстояния поездок',fontsize=25, loc ='center')\n",
    "_.set_xlabel('')\n",
    "_.set_ylabel('расстояние, м', fontsize=15)\n",
    "plt.show()"
   ]
  },
  {
   "cell_type": "markdown",
   "id": "b8e05082",
   "metadata": {},
   "source": [
    "Основная масса поездок от **2500 м.** до **4000 м.** Выбросы присутствуют в районе **менее 600 м.** и **более 5600 м.**"
   ]
  },
  {
   "cell_type": "markdown",
   "id": "058eea41",
   "metadata": {},
   "source": [
    "**Изучим выбросы:**"
   ]
  },
  {
   "cell_type": "markdown",
   "id": "638ef10b",
   "metadata": {},
   "source": [
    "**Посмотрим на строки с расстоянием менее 600 м.**"
   ]
  },
  {
   "cell_type": "code",
   "execution_count": 30,
   "id": "1396e1ee",
   "metadata": {},
   "outputs": [
    {
     "data": {
      "text/html": [
       "<div>\n",
       "<style scoped>\n",
       "    .dataframe tbody tr th:only-of-type {\n",
       "        vertical-align: middle;\n",
       "    }\n",
       "\n",
       "    .dataframe tbody tr th {\n",
       "        vertical-align: top;\n",
       "    }\n",
       "\n",
       "    .dataframe thead th {\n",
       "        text-align: right;\n",
       "    }\n",
       "</style>\n",
       "<table border=\"1\" class=\"dataframe\">\n",
       "  <thead>\n",
       "    <tr style=\"text-align: right;\">\n",
       "      <th></th>\n",
       "      <th>user_id</th>\n",
       "      <th>distance</th>\n",
       "      <th>duration</th>\n",
       "      <th>date</th>\n",
       "      <th>month</th>\n",
       "    </tr>\n",
       "  </thead>\n",
       "  <tbody>\n",
       "    <tr>\n",
       "      <th>197</th>\n",
       "      <td>21</td>\n",
       "      <td>518.341543</td>\n",
       "      <td>10.151870</td>\n",
       "      <td>2021-02-03</td>\n",
       "      <td>2</td>\n",
       "    </tr>\n",
       "    <tr>\n",
       "      <th>204</th>\n",
       "      <td>21</td>\n",
       "      <td>517.912395</td>\n",
       "      <td>14.219625</td>\n",
       "      <td>2021-10-01</td>\n",
       "      <td>10</td>\n",
       "    </tr>\n",
       "    <tr>\n",
       "      <th>228</th>\n",
       "      <td>24</td>\n",
       "      <td>409.829089</td>\n",
       "      <td>10.294197</td>\n",
       "      <td>2021-04-04</td>\n",
       "      <td>4</td>\n",
       "    </tr>\n",
       "    <tr>\n",
       "      <th>406</th>\n",
       "      <td>44</td>\n",
       "      <td>504.654111</td>\n",
       "      <td>4.513962</td>\n",
       "      <td>2021-01-25</td>\n",
       "      <td>1</td>\n",
       "    </tr>\n",
       "    <tr>\n",
       "      <th>463</th>\n",
       "      <td>50</td>\n",
       "      <td>307.532350</td>\n",
       "      <td>6.230129</td>\n",
       "      <td>2021-08-05</td>\n",
       "      <td>8</td>\n",
       "    </tr>\n",
       "    <tr>\n",
       "      <th>...</th>\n",
       "      <td>...</td>\n",
       "      <td>...</td>\n",
       "      <td>...</td>\n",
       "      <td>...</td>\n",
       "      <td>...</td>\n",
       "    </tr>\n",
       "    <tr>\n",
       "      <th>18007</th>\n",
       "      <td>1531</td>\n",
       "      <td>450.981518</td>\n",
       "      <td>15.591699</td>\n",
       "      <td>2021-02-14</td>\n",
       "      <td>2</td>\n",
       "    </tr>\n",
       "    <tr>\n",
       "      <th>18018</th>\n",
       "      <td>1531</td>\n",
       "      <td>375.107762</td>\n",
       "      <td>5.406654</td>\n",
       "      <td>2021-06-27</td>\n",
       "      <td>6</td>\n",
       "    </tr>\n",
       "    <tr>\n",
       "      <th>18031</th>\n",
       "      <td>1532</td>\n",
       "      <td>303.787850</td>\n",
       "      <td>7.792490</td>\n",
       "      <td>2021-05-21</td>\n",
       "      <td>5</td>\n",
       "    </tr>\n",
       "    <tr>\n",
       "      <th>18043</th>\n",
       "      <td>1533</td>\n",
       "      <td>310.488247</td>\n",
       "      <td>10.642389</td>\n",
       "      <td>2021-02-21</td>\n",
       "      <td>2</td>\n",
       "    </tr>\n",
       "    <tr>\n",
       "      <th>18058</th>\n",
       "      <td>1534</td>\n",
       "      <td>195.447469</td>\n",
       "      <td>6.469074</td>\n",
       "      <td>2021-06-11</td>\n",
       "      <td>6</td>\n",
       "    </tr>\n",
       "  </tbody>\n",
       "</table>\n",
       "<p>728 rows × 5 columns</p>\n",
       "</div>"
      ],
      "text/plain": [
       "       user_id    distance   duration        date  month\n",
       "197         21  518.341543  10.151870  2021-02-03      2\n",
       "204         21  517.912395  14.219625  2021-10-01     10\n",
       "228         24  409.829089  10.294197  2021-04-04      4\n",
       "406         44  504.654111   4.513962  2021-01-25      1\n",
       "463         50  307.532350   6.230129  2021-08-05      8\n",
       "...        ...         ...        ...         ...    ...\n",
       "18007     1531  450.981518  15.591699  2021-02-14      2\n",
       "18018     1531  375.107762   5.406654  2021-06-27      6\n",
       "18031     1532  303.787850   7.792490  2021-05-21      5\n",
       "18043     1533  310.488247  10.642389  2021-02-21      2\n",
       "18058     1534  195.447469   6.469074  2021-06-11      6\n",
       "\n",
       "[728 rows x 5 columns]"
      ]
     },
     "execution_count": 30,
     "metadata": {},
     "output_type": "execute_result"
    }
   ],
   "source": [
    "rides.query('distance < 600')"
   ]
  },
  {
   "cell_type": "markdown",
   "id": "14535ff4",
   "metadata": {},
   "source": [
    "**Посмотрим, какой процент данных менее 600 м.:**"
   ]
  },
  {
   "cell_type": "code",
   "execution_count": 31,
   "id": "ab6b405a",
   "metadata": {},
   "outputs": [
    {
     "data": {
      "text/plain": [
       "4.02922293557671"
      ]
     },
     "execution_count": 31,
     "metadata": {},
     "output_type": "execute_result"
    }
   ],
   "source": [
    "x=728/18068*100\n",
    "x"
   ]
  },
  {
   "cell_type": "markdown",
   "id": "0a121042",
   "metadata": {},
   "source": [
    "Получается эти данные составляют **4%**"
   ]
  },
  {
   "cell_type": "markdown",
   "id": "55c2d61d",
   "metadata": {},
   "source": [
    "Причины по кеоторым пользователи ехали на самокате **менее 600 м.** могут быть разные(может торопились куда-то). Поскольку нас болше интересует **продолжительность** поездок, нежели их **расстояние** оставим данные без изменений, тем более, что таких данных **менее 5%** ."
   ]
  },
  {
   "cell_type": "markdown",
   "id": "dbdaf63d",
   "metadata": {},
   "source": [
    "**Посмотрим на строки с расстоянием более 5600 м.**"
   ]
  },
  {
   "cell_type": "code",
   "execution_count": 32,
   "id": "1f732fff",
   "metadata": {},
   "outputs": [
    {
     "data": {
      "text/html": [
       "<div>\n",
       "<style scoped>\n",
       "    .dataframe tbody tr th:only-of-type {\n",
       "        vertical-align: middle;\n",
       "    }\n",
       "\n",
       "    .dataframe tbody tr th {\n",
       "        vertical-align: top;\n",
       "    }\n",
       "\n",
       "    .dataframe thead th {\n",
       "        text-align: right;\n",
       "    }\n",
       "</style>\n",
       "<table border=\"1\" class=\"dataframe\">\n",
       "  <thead>\n",
       "    <tr style=\"text-align: right;\">\n",
       "      <th></th>\n",
       "      <th>user_id</th>\n",
       "      <th>distance</th>\n",
       "      <th>duration</th>\n",
       "      <th>date</th>\n",
       "      <th>month</th>\n",
       "    </tr>\n",
       "  </thead>\n",
       "  <tbody>\n",
       "    <tr>\n",
       "      <th>6312</th>\n",
       "      <td>677</td>\n",
       "      <td>5699.769662</td>\n",
       "      <td>18.213792</td>\n",
       "      <td>2021-03-12</td>\n",
       "      <td>3</td>\n",
       "    </tr>\n",
       "    <tr>\n",
       "      <th>6549</th>\n",
       "      <td>702</td>\n",
       "      <td>5924.120648</td>\n",
       "      <td>21.156693</td>\n",
       "      <td>2021-11-19</td>\n",
       "      <td>11</td>\n",
       "    </tr>\n",
       "    <tr>\n",
       "      <th>6754</th>\n",
       "      <td>716</td>\n",
       "      <td>5835.527411</td>\n",
       "      <td>20.506582</td>\n",
       "      <td>2021-11-05</td>\n",
       "      <td>11</td>\n",
       "    </tr>\n",
       "    <tr>\n",
       "      <th>6788</th>\n",
       "      <td>719</td>\n",
       "      <td>5648.444936</td>\n",
       "      <td>19.837195</td>\n",
       "      <td>2021-10-13</td>\n",
       "      <td>10</td>\n",
       "    </tr>\n",
       "    <tr>\n",
       "      <th>7026</th>\n",
       "      <td>736</td>\n",
       "      <td>5787.742203</td>\n",
       "      <td>15.890581</td>\n",
       "      <td>2021-02-09</td>\n",
       "      <td>2</td>\n",
       "    </tr>\n",
       "    <tr>\n",
       "      <th>...</th>\n",
       "      <td>...</td>\n",
       "      <td>...</td>\n",
       "      <td>...</td>\n",
       "      <td>...</td>\n",
       "      <td>...</td>\n",
       "    </tr>\n",
       "    <tr>\n",
       "      <th>17389</th>\n",
       "      <td>1488</td>\n",
       "      <td>5630.700924</td>\n",
       "      <td>24.356457</td>\n",
       "      <td>2021-06-12</td>\n",
       "      <td>6</td>\n",
       "    </tr>\n",
       "    <tr>\n",
       "      <th>17418</th>\n",
       "      <td>1490</td>\n",
       "      <td>5830.284286</td>\n",
       "      <td>20.660569</td>\n",
       "      <td>2021-01-22</td>\n",
       "      <td>1</td>\n",
       "    </tr>\n",
       "    <tr>\n",
       "      <th>17681</th>\n",
       "      <td>1508</td>\n",
       "      <td>5600.052517</td>\n",
       "      <td>19.586316</td>\n",
       "      <td>2021-11-14</td>\n",
       "      <td>11</td>\n",
       "    </tr>\n",
       "    <tr>\n",
       "      <th>17773</th>\n",
       "      <td>1514</td>\n",
       "      <td>6039.465068</td>\n",
       "      <td>26.421033</td>\n",
       "      <td>2021-09-28</td>\n",
       "      <td>9</td>\n",
       "    </tr>\n",
       "    <tr>\n",
       "      <th>17822</th>\n",
       "      <td>1517</td>\n",
       "      <td>6131.833778</td>\n",
       "      <td>24.395501</td>\n",
       "      <td>2021-12-17</td>\n",
       "      <td>12</td>\n",
       "    </tr>\n",
       "  </tbody>\n",
       "</table>\n",
       "<p>115 rows × 5 columns</p>\n",
       "</div>"
      ],
      "text/plain": [
       "       user_id     distance   duration        date  month\n",
       "6312       677  5699.769662  18.213792  2021-03-12      3\n",
       "6549       702  5924.120648  21.156693  2021-11-19     11\n",
       "6754       716  5835.527411  20.506582  2021-11-05     11\n",
       "6788       719  5648.444936  19.837195  2021-10-13     10\n",
       "7026       736  5787.742203  15.890581  2021-02-09      2\n",
       "...        ...          ...        ...         ...    ...\n",
       "17389     1488  5630.700924  24.356457  2021-06-12      6\n",
       "17418     1490  5830.284286  20.660569  2021-01-22      1\n",
       "17681     1508  5600.052517  19.586316  2021-11-14     11\n",
       "17773     1514  6039.465068  26.421033  2021-09-28      9\n",
       "17822     1517  6131.833778  24.395501  2021-12-17     12\n",
       "\n",
       "[115 rows x 5 columns]"
      ]
     },
     "execution_count": 32,
     "metadata": {},
     "output_type": "execute_result"
    }
   ],
   "source": [
    "rides.query('distance > 5600')"
   ]
  },
  {
   "cell_type": "markdown",
   "id": "1b1ed187",
   "metadata": {},
   "source": [
    "**Посмотрим, какой процент данных более 5600 м.:**"
   ]
  },
  {
   "cell_type": "code",
   "execution_count": 33,
   "id": "99ddcd30",
   "metadata": {},
   "outputs": [
    {
     "data": {
      "text/plain": [
       "0.6364843922957716"
      ]
     },
     "execution_count": 33,
     "metadata": {},
     "output_type": "execute_result"
    }
   ],
   "source": [
    "x=115/18068*100\n",
    "x"
   ]
  },
  {
   "cell_type": "markdown",
   "id": "1b574a5a",
   "metadata": {},
   "source": [
    "Получается эти данные составляют **менее 1%**"
   ]
  },
  {
   "cell_type": "markdown",
   "id": "a246c85b",
   "metadata": {},
   "source": [
    "Ситуация аналогичная предыдущей, оставим без изменений."
   ]
  },
  {
   "cell_type": "markdown",
   "id": "40f84d30",
   "metadata": {},
   "source": [
    "**Обновим индексы**:"
   ]
  },
  {
   "cell_type": "code",
   "execution_count": 34,
   "id": "5402b717",
   "metadata": {},
   "outputs": [],
   "source": [
    "rides.reset_index(drop=True, inplace = True)"
   ]
  },
  {
   "cell_type": "markdown",
   "id": "8de4c9ce",
   "metadata": {},
   "source": [
    "**Округлим продолжительность поездок до целого числа**:"
   ]
  },
  {
   "cell_type": "code",
   "execution_count": 35,
   "id": "81d4ce91",
   "metadata": {},
   "outputs": [
    {
     "data": {
      "text/plain": [
       "0        26.0\n",
       "1        16.0\n",
       "2         7.0\n",
       "3        19.0\n",
       "4        27.0\n",
       "         ... \n",
       "17968    20.0\n",
       "17969    22.0\n",
       "17970    19.0\n",
       "17971    17.0\n",
       "17972    16.0\n",
       "Name: duration, Length: 17973, dtype: float64"
      ]
     },
     "execution_count": 35,
     "metadata": {},
     "output_type": "execute_result"
    }
   ],
   "source": [
    "rides['duration'] = np.ceil(rides['duration'])\n",
    "rides['duration']"
   ]
  },
  {
   "cell_type": "markdown",
   "id": "1363a2ec",
   "metadata": {},
   "source": [
    "##### Промежуточный вывод"
   ]
  },
  {
   "cell_type": "markdown",
   "id": "8e1b8045",
   "metadata": {},
   "source": [
    "**В ходе предобработки данных:**\n",
    "\n",
    "* привели столбец **date** таблицы **rides** к **datetime** \n",
    "* удалены явные дубликаты из таблицы **users**\n",
    "* удалены выбивающиеся значения из таблицы **rides**\n",
    "* округлён продолжительности поездок\n",
    "* в таблицу **rides** добавлен столбец с номером месяца поездки."
   ]
  },
  {
   "cell_type": "markdown",
   "id": "2e3250f6",
   "metadata": {},
   "source": [
    "#### Шаг 3. Исследовательский анализ данных"
   ]
  },
  {
   "cell_type": "markdown",
   "id": "dfa79b3b",
   "metadata": {},
   "source": [
    "# Частота встречаемости городов"
   ]
  },
  {
   "cell_type": "markdown",
   "id": "d050e5a8",
   "metadata": {},
   "source": [
    "**Для начала посмотрим на представленные города:**"
   ]
  },
  {
   "cell_type": "code",
   "execution_count": 36,
   "id": "2cb350a2",
   "metadata": {},
   "outputs": [
    {
     "data": {
      "text/plain": [
       "array(['Тюмень', 'Омск', 'Москва', 'Ростов-на-Дону', 'Краснодар',\n",
       "       'Пятигорск', 'Екатеринбург', 'Сочи'], dtype=object)"
      ]
     },
     "execution_count": 36,
     "metadata": {},
     "output_type": "execute_result"
    }
   ],
   "source": [
    "users['city'].unique()"
   ]
  },
  {
   "cell_type": "markdown",
   "id": "bce5ab86",
   "metadata": {},
   "source": [
    "**Построим график распределения пользователей по городам для наглядности:**"
   ]
  },
  {
   "cell_type": "code",
   "execution_count": 37,
   "id": "cd407f86",
   "metadata": {},
   "outputs": [
    {
     "data": {
      "image/png": "[encoded data removed]",
      "text/plain": [
       "<Figure size 1080x720 with 1 Axes>"
      ]
     },
     "metadata": {},
     "output_type": "display_data"
    }
   ],
   "source": [
    "city_order = ['Тюмень','Омск','Москва','Ростов-на-Дону','Краснодар','Пятигорск','Екатеринбург','Сочи']\n",
    "\n",
    "countplt, ax = plt.subplots(figsize = (15, 10))\n",
    "ax = sns.countplot(x= 'city', data=users, order = city_order, color = 'purple')\n",
    "ax.set_title('Распределение пользователей по городам', fontsize = 19, loc ='center')\n",
    "ax.set_xlabel('')\n",
    "ax.set_ylabel('Количество пользователей', fontsize = 15)\n",
    "for rect in ax.patches:\n",
    "        ax.text (rect.get_x() + rect.get_width()  / 2,rect.get_height()+ 0.75,rect.get_height(),horizontalalignment='center', fontsize = 13)\n",
    "plt.show()\n"
   ]
  },
  {
   "cell_type": "markdown",
   "id": "b24c71c5",
   "metadata": {},
   "source": [
    "**Расположим их в порядке убывания для нагляджности**"
   ]
  },
  {
   "cell_type": "code",
   "execution_count": 38,
   "id": "f216b38d",
   "metadata": {},
   "outputs": [
    {
     "data": {
      "image/png": "[encoded data removed]",
      "text/plain": [
       "<Figure size 1080x720 with 1 Axes>"
      ]
     },
     "metadata": {},
     "output_type": "display_data"
    }
   ],
   "source": [
    "city_order = ['Пятигорск', 'Екатеринбург', 'Ростов-на-Дону', 'Краснодар', 'Сочи', 'Омск', 'Тюмень', 'Москва']\n",
    "\n",
    "countplt, ax = plt.subplots(figsize = (15, 10))\n",
    "ax = sns.countplot(x= 'city', data=users, order = city_order, color = 'purple')\n",
    "ax.set_title('Распределение пользователей по городам', fontsize = 19, loc ='center')\n",
    "ax.set_xlabel('')\n",
    "ax.set_ylabel('Количество пользователей', fontsize = 15)\n",
    "for rect in ax.patches:\n",
    "        ax.text (rect.get_x() + rect.get_width()  / 2,rect.get_height()+ 0.75,rect.get_height(),horizontalalignment='center', fontsize = 13)\n",
    "plt.show()"
   ]
  },
  {
   "cell_type": "markdown",
   "id": "65ab2020",
   "metadata": {},
   "source": [
    "**Посмотрем в разрезе долей**"
   ]
  },
  {
   "cell_type": "code",
   "execution_count": 39,
   "id": "79c88d20",
   "metadata": {},
   "outputs": [
    {
     "data": {
      "image/png": "[encoded data removed]",
      "text/plain": [
       "<Figure size 720x720 with 1 Axes>"
      ]
     },
     "metadata": {},
     "output_type": "display_data"
    }
   ],
   "source": [
    "(users['city']\n",
    " .value_counts()\n",
    " .plot(kind='pie', figsize=(10,10), autopct='%1.0f%%',\n",
    "       explode=(0.02, 0.02, 0.02, 0.02, 0.02, 0.02, 0.02, 0.02),\n",
    "       colors = ['#F31DED','#F65AF2','#F65AF2','#F65AF2', '#FFAFED','#FFAFED','#FFAFED','#FFF0FA'])\n",
    ")\n",
    "plt.title('\\nДоля пользователей по городам\\n', fontsize = 19, loc ='center')\n",
    "plt.ylabel('')\n",
    "plt.show()"
   ]
  },
  {
   "cell_type": "markdown",
   "id": "1a277729",
   "metadata": {},
   "source": [
    "**Исходя из графиков, можно сделать выводы:** \n",
    "* cреди городвов наблюдается разброс, как количественно, так и в долях\n",
    "* самый популярный город - Пятигорск(**219** пользователей, **14%** от общего кол-ва)\n",
    "* самый непопулярный город - Москва(**168** пользователей, **11%** от общего кол-ва)"
   ]
  },
  {
   "cell_type": "markdown",
   "id": "d8dff35e",
   "metadata": {},
   "source": [
    "# Соотношение пользователей с подпиской и без подписки"
   ]
  },
  {
   "cell_type": "code",
   "execution_count": 40,
   "id": "9120ac6a",
   "metadata": {},
   "outputs": [
    {
     "data": {
      "text/plain": [
       "array(['ultra', 'free'], dtype=object)"
      ]
     },
     "execution_count": 40,
     "metadata": {},
     "output_type": "execute_result"
    }
   ],
   "source": [
    "users['subscription_type'].unique()"
   ]
  },
  {
   "cell_type": "markdown",
   "id": "020ec8b5",
   "metadata": {},
   "source": [
    "**Как мы уже знаем есть 2 типа пользователей:**\n",
    "    \n",
    " * **ultra**(с подпиской)\n",
    " * **free**(без подписки)"
   ]
  },
  {
   "cell_type": "markdown",
   "id": "51f685a2",
   "metadata": {},
   "source": [
    "**Посмотрим на количественный параметр**:"
   ]
  },
  {
   "cell_type": "code",
   "execution_count": 41,
   "id": "2adbe319",
   "metadata": {},
   "outputs": [
    {
     "data": {
      "text/plain": [
       "free     835\n",
       "ultra    699\n",
       "Name: subscription_type, dtype: int64"
      ]
     },
     "execution_count": 41,
     "metadata": {},
     "output_type": "execute_result"
    }
   ],
   "source": [
    "users[\"subscription_type\"].value_counts()"
   ]
  },
  {
   "cell_type": "markdown",
   "id": "4d4bd9fe",
   "metadata": {},
   "source": [
    "Итак, пользователей с подпиской **699**, пользователей без подписки **835**"
   ]
  },
  {
   "cell_type": "markdown",
   "id": "0a6b302a",
   "metadata": {},
   "source": [
    "**Посмотрим на соотношение:**"
   ]
  },
  {
   "cell_type": "code",
   "execution_count": 42,
   "id": "31182571",
   "metadata": {},
   "outputs": [
    {
     "data": {
      "text/plain": [
       "54.43285528031291"
      ]
     },
     "execution_count": 42,
     "metadata": {},
     "output_type": "execute_result"
    }
   ],
   "source": [
    "x = 835/(835+699)*100\n",
    "x"
   ]
  },
  {
   "cell_type": "code",
   "execution_count": 43,
   "id": "a8d8aa67",
   "metadata": {},
   "outputs": [
    {
     "data": {
      "text/plain": [
       "45.56714471968709"
      ]
     },
     "execution_count": 43,
     "metadata": {},
     "output_type": "execute_result"
    }
   ],
   "source": [
    "y = 699/(835+699)*100\n",
    "y"
   ]
  },
  {
   "cell_type": "markdown",
   "id": "2186ea61",
   "metadata": {},
   "source": [
    "Получается, что пользователей с **без подписки** - **54%**, пользователей **с подпиской** - **46%**"
   ]
  },
  {
   "cell_type": "markdown",
   "id": "805ce1a4",
   "metadata": {},
   "source": [
    "**Визуализируем полученные результаты:**"
   ]
  },
  {
   "cell_type": "code",
   "execution_count": 44,
   "id": "49845e7a",
   "metadata": {},
   "outputs": [
    {
     "data": {
      "image/png": "[encoded data removed]",
      "text/plain": [
       "<Figure size 720x720 with 1 Axes>"
      ]
     },
     "metadata": {},
     "output_type": "display_data"
    }
   ],
   "source": [
    "(users['subscription_type']\n",
    " .value_counts()\n",
    " .plot(kind='pie', figsize=(10,10), autopct='%1.0f%%',\n",
    "       explode=(0.02, 0.02), textprops = {\"fontsize\":15},\n",
    "       colors = ['#F31DED','#FFAFED'])\n",
    ")\n",
    "plt.title('Соотношение пользователей по наличию подписки', fontsize = 19, loc ='center')\n",
    "plt.ylabel('')\n",
    "plt.show()"
   ]
  },
  {
   "cell_type": "markdown",
   "id": "18702c3d",
   "metadata": {},
   "source": [
    "**Итого:**\n",
    "* пользователей с подпиской - **699(46%)**\n",
    "* пользователей без подпсики - **835(54%)**"
   ]
  },
  {
   "cell_type": "markdown",
   "id": "855b8c9a",
   "metadata": {},
   "source": [
    "# Возраст пользователей"
   ]
  },
  {
   "cell_type": "markdown",
   "id": "6c89a083",
   "metadata": {},
   "source": [
    "**Посмотрим на распределение пользователей по возрасту**:"
   ]
  },
  {
   "cell_type": "code",
   "execution_count": 45,
   "id": "39d1745b",
   "metadata": {},
   "outputs": [
    {
     "data": {
      "image/png": "[encoded data removed]",
      "text/plain": [
       "<Figure size 1080x720 with 1 Axes>"
      ]
     },
     "metadata": {},
     "output_type": "display_data"
    }
   ],
   "source": [
    "plt.figure(figsize=(15,10))\n",
    "sns.histplot(data = users, x = 'age', color = 'purple', alpha = 1, binwidth = 1)\n",
    "plt.title('Распределение пользователей по возрасту', fontsize=19, loc ='center')\n",
    "plt.xlabel('Возраст пользователей', fontsize = 15)\n",
    "plt.ylabel('Кол-во пользователей', fontsize = 15)\n",
    "plt.show()"
   ]
  },
  {
   "cell_type": "markdown",
   "id": "5617a7fc",
   "metadata": {},
   "source": [
    "**Всё как мы и писали ранее**:\n",
    "\n",
    " * средний возраст пользователей - **25 лет**\n",
    " * самый молодой пользователь - **12 лет**\n",
    " * самый старший пользователь - **43 года**\n",
    " * больше всего пользоватлей от **12 до 26 лет**."
   ]
  },
  {
   "cell_type": "markdown",
   "id": "c70e6c15",
   "metadata": {},
   "source": [
    "# Расстояние, которое пользователь преодалел за одну поездку"
   ]
  },
  {
   "cell_type": "markdown",
   "id": "d68f84b5",
   "metadata": {},
   "source": [
    "**Посмотрим на распределение расстояний поездок по пользователям**:"
   ]
  },
  {
   "cell_type": "code",
   "execution_count": 46,
   "id": "abde415f",
   "metadata": {},
   "outputs": [
    {
     "data": {
      "image/png": "[encoded data removed]",
      "text/plain": [
       "<Figure size 1080x720 with 1 Axes>"
      ]
     },
     "metadata": {},
     "output_type": "display_data"
    }
   ],
   "source": [
    "plt.figure(figsize=(15,10))\n",
    "sns.histplot(data = rides, x = 'distance', color = 'purple', alpha = 1)\n",
    "plt.title('Расстояние поездок', fontsize = 20, loc ='center')\n",
    "plt.xlabel('Дистанция, м', fontsize = 14)\n",
    "plt.ylabel('Кол-во пользователей', fontsize = 14)\n",
    "plt.show()"
   ]
  },
  {
   "cell_type": "markdown",
   "id": "4994cfc6",
   "metadata": {},
   "source": [
    "**Видим следущее:**\n",
    "\n",
    "* Самое часто-пройденное расстояние - от **2500м.** до **3500м.**\n",
    "* Пользователи часто арендуют самокат для коротких поездок(**1500м.**)"
   ]
  },
  {
   "cell_type": "markdown",
   "id": "0cbd28f5",
   "metadata": {},
   "source": [
    "# Продолжительность поездок"
   ]
  },
  {
   "cell_type": "markdown",
   "id": "7de8d37e",
   "metadata": {},
   "source": [
    "**Посмотрим на продолжительность поездок пользователей**:"
   ]
  },
  {
   "cell_type": "code",
   "execution_count": 47,
   "id": "473dccf3",
   "metadata": {},
   "outputs": [
    {
     "data": {
      "image/png": "[encoded data removed]",
      "text/plain": [
       "<Figure size 1080x720 with 1 Axes>"
      ]
     },
     "metadata": {},
     "output_type": "display_data"
    }
   ],
   "source": [
    "plt.figure(figsize=(15,10))\n",
    "sns.histplot(data = rides, x = 'duration', color='purple', alpha = 1, bins = 39)\n",
    "plt.title('Продолжительность поездок', fontsize = 20, loc ='center')\n",
    "plt.xlabel('Время поездки, м', fontsize = 15)\n",
    "plt.ylabel('Кол-во пользователей', fontsize = 15)\n",
    "plt.show()"
   ]
  },
  {
   "cell_type": "markdown",
   "id": "7a9af317",
   "metadata": {},
   "source": [
    "**Видим следущее:**\n",
    "\n",
    "* чаще всего присутствуют сессии от **15 мин.** до **21 мин.**\n",
    "* кол-во поездок менее **8 мин** и более **30 мин** незначительно\n",
    "* максимальная продолжительность сессии - **41 мин**"
   ]
  },
  {
   "cell_type": "markdown",
   "id": "1f9f1dab",
   "metadata": {},
   "source": [
    "##### Промежуточный вывод\n",
    "\n",
    "* Самый популярный город - Пятигорск(**219** пользователей, **14%** от общего кол-ва)\n",
    "* Самый непопулярный город - Москва(**168** пользователей, **11%** от общего кол-ва)\n",
    "* Пользователей с подпиской - **699(46%)**\n",
    "* Пользователей без подпсики - **835(54%)**\n",
    "* Средний возраст пользователей - **25 лет**\n",
    "* Самый молодой пользователь - **12 лет**\n",
    "* Самый старший пользователь - **43 года**\n",
    "* Больше всего пользоватлей от **12 до 26 лет**.\n",
    "* Самое часто-пройденное расстояние - от **2500м.** до **3500м.**\n",
    "* Чаще всего присутствуют сессии от **15 мин.** до **21 мин.**\n",
    "* Максимальная продолжительность сессии - **41 мин**"
   ]
  },
  {
   "cell_type": "markdown",
   "id": "cf07c650",
   "metadata": {},
   "source": [
    "#### Шаг 4. Объединение данных"
   ]
  },
  {
   "cell_type": "markdown",
   "id": "82db5d43",
   "metadata": {},
   "source": [
    "**Объеденим данные о пользователях, поездках и подписках в один датафрейм**"
   ]
  },
  {
   "cell_type": "code",
   "execution_count": 48,
   "id": "38290062",
   "metadata": {},
   "outputs": [
    {
     "data": {
      "text/html": [
       "<div>\n",
       "<style scoped>\n",
       "    .dataframe tbody tr th:only-of-type {\n",
       "        vertical-align: middle;\n",
       "    }\n",
       "\n",
       "    .dataframe tbody tr th {\n",
       "        vertical-align: top;\n",
       "    }\n",
       "\n",
       "    .dataframe thead th {\n",
       "        text-align: right;\n",
       "    }\n",
       "</style>\n",
       "<table border=\"1\" class=\"dataframe\">\n",
       "  <thead>\n",
       "    <tr style=\"text-align: right;\">\n",
       "      <th></th>\n",
       "      <th>user_id</th>\n",
       "      <th>name</th>\n",
       "      <th>age</th>\n",
       "      <th>city</th>\n",
       "      <th>subscription_type</th>\n",
       "      <th>distance</th>\n",
       "      <th>duration</th>\n",
       "      <th>date</th>\n",
       "      <th>month</th>\n",
       "      <th>minute_price</th>\n",
       "      <th>start_ride_price</th>\n",
       "      <th>subscription_fee</th>\n",
       "    </tr>\n",
       "  </thead>\n",
       "  <tbody>\n",
       "    <tr>\n",
       "      <th>10253</th>\n",
       "      <td>977</td>\n",
       "      <td>Амалия</td>\n",
       "      <td>22</td>\n",
       "      <td>Москва</td>\n",
       "      <td>free</td>\n",
       "      <td>2163.486458</td>\n",
       "      <td>11.0</td>\n",
       "      <td>2021-05-05</td>\n",
       "      <td>5</td>\n",
       "      <td>8</td>\n",
       "      <td>50</td>\n",
       "      <td>0</td>\n",
       "    </tr>\n",
       "    <tr>\n",
       "      <th>1839</th>\n",
       "      <td>198</td>\n",
       "      <td>Марсель</td>\n",
       "      <td>27</td>\n",
       "      <td>Сочи</td>\n",
       "      <td>ultra</td>\n",
       "      <td>3617.383999</td>\n",
       "      <td>18.0</td>\n",
       "      <td>2021-11-02</td>\n",
       "      <td>11</td>\n",
       "      <td>6</td>\n",
       "      <td>0</td>\n",
       "      <td>199</td>\n",
       "    </tr>\n",
       "    <tr>\n",
       "      <th>11338</th>\n",
       "      <td>1056</td>\n",
       "      <td>Милена</td>\n",
       "      <td>27</td>\n",
       "      <td>Пятигорск</td>\n",
       "      <td>free</td>\n",
       "      <td>3774.374245</td>\n",
       "      <td>22.0</td>\n",
       "      <td>2021-12-01</td>\n",
       "      <td>12</td>\n",
       "      <td>8</td>\n",
       "      <td>50</td>\n",
       "      <td>0</td>\n",
       "    </tr>\n",
       "    <tr>\n",
       "      <th>2126</th>\n",
       "      <td>227</td>\n",
       "      <td>Вячеслав</td>\n",
       "      <td>22</td>\n",
       "      <td>Москва</td>\n",
       "      <td>ultra</td>\n",
       "      <td>3037.551831</td>\n",
       "      <td>16.0</td>\n",
       "      <td>2021-07-02</td>\n",
       "      <td>7</td>\n",
       "      <td>6</td>\n",
       "      <td>0</td>\n",
       "      <td>199</td>\n",
       "    </tr>\n",
       "    <tr>\n",
       "      <th>1836</th>\n",
       "      <td>198</td>\n",
       "      <td>Марсель</td>\n",
       "      <td>27</td>\n",
       "      <td>Сочи</td>\n",
       "      <td>ultra</td>\n",
       "      <td>3632.046268</td>\n",
       "      <td>22.0</td>\n",
       "      <td>2021-09-21</td>\n",
       "      <td>9</td>\n",
       "      <td>6</td>\n",
       "      <td>0</td>\n",
       "      <td>199</td>\n",
       "    </tr>\n",
       "  </tbody>\n",
       "</table>\n",
       "</div>"
      ],
      "text/plain": [
       "       user_id      name  age       city subscription_type     distance  \\\n",
       "10253      977    Амалия   22     Москва              free  2163.486458   \n",
       "1839       198   Марсель   27       Сочи             ultra  3617.383999   \n",
       "11338     1056    Милена   27  Пятигорск              free  3774.374245   \n",
       "2126       227  Вячеслав   22     Москва             ultra  3037.551831   \n",
       "1836       198   Марсель   27       Сочи             ultra  3632.046268   \n",
       "\n",
       "       duration        date  month  minute_price  start_ride_price  \\\n",
       "10253      11.0  2021-05-05      5             8                50   \n",
       "1839       18.0  2021-11-02     11             6                 0   \n",
       "11338      22.0  2021-12-01     12             8                50   \n",
       "2126       16.0  2021-07-02      7             6                 0   \n",
       "1836       22.0  2021-09-21      9             6                 0   \n",
       "\n",
       "       subscription_fee  \n",
       "10253                 0  \n",
       "1839                199  \n",
       "11338                 0  \n",
       "2126                199  \n",
       "1836                199  "
      ]
     },
     "metadata": {},
     "output_type": "display_data"
    },
    {
     "name": "stdout",
     "output_type": "stream",
     "text": [
      "<class 'pandas.core.frame.DataFrame'>\n",
      "Int64Index: 17973 entries, 0 to 17972\n",
      "Data columns (total 12 columns):\n",
      " #   Column             Non-Null Count  Dtype  \n",
      "---  ------             --------------  -----  \n",
      " 0   user_id            17973 non-null  int64  \n",
      " 1   name               17973 non-null  object \n",
      " 2   age                17973 non-null  int64  \n",
      " 3   city               17973 non-null  object \n",
      " 4   subscription_type  17973 non-null  object \n",
      " 5   distance           17973 non-null  float64\n",
      " 6   duration           17973 non-null  float64\n",
      " 7   date               17973 non-null  object \n",
      " 8   month              17973 non-null  int64  \n",
      " 9   minute_price       17973 non-null  int64  \n",
      " 10  start_ride_price   17973 non-null  int64  \n",
      " 11  subscription_fee   17973 non-null  int64  \n",
      "dtypes: float64(2), int64(6), object(4)\n",
      "memory usage: 1.8+ MB\n"
     ]
    }
   ],
   "source": [
    "full_data = users.merge(rides, on = 'user_id')\n",
    "full_data = full_data.merge(subscriptions, on = 'subscription_type')\n",
    "display(full_data.sample(5))\n",
    "full_data.info()"
   ]
  },
  {
   "cell_type": "markdown",
   "id": "fb6783ed",
   "metadata": {},
   "source": [
    "**Посмотрим на состав таблицы**:"
   ]
  },
  {
   "cell_type": "code",
   "execution_count": 49,
   "id": "e96cc4e7",
   "metadata": {},
   "outputs": [
    {
     "name": "stdout",
     "output_type": "stream",
     "text": [
      "в таблице users \u001b[1;30m1534\u001b[0m строк и \u001b[1;30m5\u001b[0m столбцов        \n",
      "в таблице rides \u001b[1;30m17973\u001b[0m строк и \u001b[1;30m5\u001b[0m столбцов        \n",
      "в таблице subscriptions \u001b[1;30m2\u001b[0m строк и \u001b[1;30m4\u001b[0m столбцов        \n",
      "в таблице full_df \u001b[1;30m17973\u001b[0m строк и \u001b[1;30m12\u001b[0m столбцов\n"
     ]
    }
   ],
   "source": [
    "print(f'в таблице users \\033[1;30m{users.shape[0]}\\033[0m строк и \\033[1;30m{users.shape[1]}\\033[0m столбцов\\\n",
    "        \\nв таблице rides \\033[1;30m{rides.shape[0]}\\033[0m строк и \\033[1;30m{rides.shape[1]}\\033[0m столбцов\\\n",
    "        \\nв таблице subscriptions \\033[1;30m{subscriptions.shape[0]}\\033[0m строк и \\033[1;30m{subscriptions.shape[1]}\\033[0m столбцов\\\n",
    "        \\nв таблице full_df \\033[1;30m{full_data.shape[0]}\\033[0m строк и \\033[1;30m{full_data.shape[1]}\\033[0m столбцов')"
   ]
  },
  {
   "cell_type": "markdown",
   "id": "b869ffbd",
   "metadata": {},
   "source": [
    "**Итого:**\n",
    "\n",
    "* максимальное кол-во строк в **rides**(**17973**)\n",
    "* всего столбцов - **15**"
   ]
  },
  {
   "cell_type": "markdown",
   "id": "e17f8aa7",
   "metadata": {},
   "source": [
    "**Создадим 2 датафрейма с данными о пользователях по наличию подписки**"
   ]
  },
  {
   "cell_type": "code",
   "execution_count": 50,
   "id": "905c50f4",
   "metadata": {},
   "outputs": [
    {
     "data": {
      "text/html": [
       "<div>\n",
       "<style scoped>\n",
       "    .dataframe tbody tr th:only-of-type {\n",
       "        vertical-align: middle;\n",
       "    }\n",
       "\n",
       "    .dataframe tbody tr th {\n",
       "        vertical-align: top;\n",
       "    }\n",
       "\n",
       "    .dataframe thead th {\n",
       "        text-align: right;\n",
       "    }\n",
       "</style>\n",
       "<table border=\"1\" class=\"dataframe\">\n",
       "  <thead>\n",
       "    <tr style=\"text-align: right;\">\n",
       "      <th></th>\n",
       "      <th>user_id</th>\n",
       "      <th>name</th>\n",
       "      <th>age</th>\n",
       "      <th>city</th>\n",
       "      <th>subscription_type</th>\n",
       "      <th>distance</th>\n",
       "      <th>duration</th>\n",
       "      <th>date</th>\n",
       "      <th>month</th>\n",
       "      <th>minute_price</th>\n",
       "      <th>start_ride_price</th>\n",
       "      <th>subscription_fee</th>\n",
       "    </tr>\n",
       "  </thead>\n",
       "  <tbody>\n",
       "    <tr>\n",
       "      <th>6500</th>\n",
       "      <td>700</td>\n",
       "      <td>Айдар</td>\n",
       "      <td>22</td>\n",
       "      <td>Омск</td>\n",
       "      <td>free</td>\n",
       "      <td>2515.690719</td>\n",
       "      <td>15.0</td>\n",
       "      <td>2021-01-02</td>\n",
       "      <td>1</td>\n",
       "      <td>8</td>\n",
       "      <td>50</td>\n",
       "      <td>0</td>\n",
       "    </tr>\n",
       "    <tr>\n",
       "      <th>6501</th>\n",
       "      <td>700</td>\n",
       "      <td>Айдар</td>\n",
       "      <td>22</td>\n",
       "      <td>Омск</td>\n",
       "      <td>free</td>\n",
       "      <td>846.932642</td>\n",
       "      <td>17.0</td>\n",
       "      <td>2021-02-01</td>\n",
       "      <td>2</td>\n",
       "      <td>8</td>\n",
       "      <td>50</td>\n",
       "      <td>0</td>\n",
       "    </tr>\n",
       "    <tr>\n",
       "      <th>6502</th>\n",
       "      <td>700</td>\n",
       "      <td>Айдар</td>\n",
       "      <td>22</td>\n",
       "      <td>Омск</td>\n",
       "      <td>free</td>\n",
       "      <td>4004.434142</td>\n",
       "      <td>21.0</td>\n",
       "      <td>2021-02-04</td>\n",
       "      <td>2</td>\n",
       "      <td>8</td>\n",
       "      <td>50</td>\n",
       "      <td>0</td>\n",
       "    </tr>\n",
       "    <tr>\n",
       "      <th>6503</th>\n",
       "      <td>700</td>\n",
       "      <td>Айдар</td>\n",
       "      <td>22</td>\n",
       "      <td>Омск</td>\n",
       "      <td>free</td>\n",
       "      <td>1205.911290</td>\n",
       "      <td>10.0</td>\n",
       "      <td>2021-02-10</td>\n",
       "      <td>2</td>\n",
       "      <td>8</td>\n",
       "      <td>50</td>\n",
       "      <td>0</td>\n",
       "    </tr>\n",
       "    <tr>\n",
       "      <th>6504</th>\n",
       "      <td>700</td>\n",
       "      <td>Айдар</td>\n",
       "      <td>22</td>\n",
       "      <td>Омск</td>\n",
       "      <td>free</td>\n",
       "      <td>3047.379435</td>\n",
       "      <td>18.0</td>\n",
       "      <td>2021-02-14</td>\n",
       "      <td>2</td>\n",
       "      <td>8</td>\n",
       "      <td>50</td>\n",
       "      <td>0</td>\n",
       "    </tr>\n",
       "    <tr>\n",
       "      <th>...</th>\n",
       "      <td>...</td>\n",
       "      <td>...</td>\n",
       "      <td>...</td>\n",
       "      <td>...</td>\n",
       "      <td>...</td>\n",
       "      <td>...</td>\n",
       "      <td>...</td>\n",
       "      <td>...</td>\n",
       "      <td>...</td>\n",
       "      <td>...</td>\n",
       "      <td>...</td>\n",
       "      <td>...</td>\n",
       "    </tr>\n",
       "    <tr>\n",
       "      <th>17968</th>\n",
       "      <td>1534</td>\n",
       "      <td>Альберт</td>\n",
       "      <td>25</td>\n",
       "      <td>Краснодар</td>\n",
       "      <td>free</td>\n",
       "      <td>3781.098080</td>\n",
       "      <td>20.0</td>\n",
       "      <td>2021-11-04</td>\n",
       "      <td>11</td>\n",
       "      <td>8</td>\n",
       "      <td>50</td>\n",
       "      <td>0</td>\n",
       "    </tr>\n",
       "    <tr>\n",
       "      <th>17969</th>\n",
       "      <td>1534</td>\n",
       "      <td>Альберт</td>\n",
       "      <td>25</td>\n",
       "      <td>Краснодар</td>\n",
       "      <td>free</td>\n",
       "      <td>2840.423057</td>\n",
       "      <td>22.0</td>\n",
       "      <td>2021-11-16</td>\n",
       "      <td>11</td>\n",
       "      <td>8</td>\n",
       "      <td>50</td>\n",
       "      <td>0</td>\n",
       "    </tr>\n",
       "    <tr>\n",
       "      <th>17970</th>\n",
       "      <td>1534</td>\n",
       "      <td>Альберт</td>\n",
       "      <td>25</td>\n",
       "      <td>Краснодар</td>\n",
       "      <td>free</td>\n",
       "      <td>3826.185507</td>\n",
       "      <td>19.0</td>\n",
       "      <td>2021-11-18</td>\n",
       "      <td>11</td>\n",
       "      <td>8</td>\n",
       "      <td>50</td>\n",
       "      <td>0</td>\n",
       "    </tr>\n",
       "    <tr>\n",
       "      <th>17971</th>\n",
       "      <td>1534</td>\n",
       "      <td>Альберт</td>\n",
       "      <td>25</td>\n",
       "      <td>Краснодар</td>\n",
       "      <td>free</td>\n",
       "      <td>2902.308661</td>\n",
       "      <td>17.0</td>\n",
       "      <td>2021-11-27</td>\n",
       "      <td>11</td>\n",
       "      <td>8</td>\n",
       "      <td>50</td>\n",
       "      <td>0</td>\n",
       "    </tr>\n",
       "    <tr>\n",
       "      <th>17972</th>\n",
       "      <td>1534</td>\n",
       "      <td>Альберт</td>\n",
       "      <td>25</td>\n",
       "      <td>Краснодар</td>\n",
       "      <td>free</td>\n",
       "      <td>2371.711192</td>\n",
       "      <td>16.0</td>\n",
       "      <td>2021-12-29</td>\n",
       "      <td>12</td>\n",
       "      <td>8</td>\n",
       "      <td>50</td>\n",
       "      <td>0</td>\n",
       "    </tr>\n",
       "  </tbody>\n",
       "</table>\n",
       "<p>11473 rows × 12 columns</p>\n",
       "</div>"
      ],
      "text/plain": [
       "       user_id     name  age       city subscription_type     distance  \\\n",
       "6500       700    Айдар   22       Омск              free  2515.690719   \n",
       "6501       700    Айдар   22       Омск              free   846.932642   \n",
       "6502       700    Айдар   22       Омск              free  4004.434142   \n",
       "6503       700    Айдар   22       Омск              free  1205.911290   \n",
       "6504       700    Айдар   22       Омск              free  3047.379435   \n",
       "...        ...      ...  ...        ...               ...          ...   \n",
       "17968     1534  Альберт   25  Краснодар              free  3781.098080   \n",
       "17969     1534  Альберт   25  Краснодар              free  2840.423057   \n",
       "17970     1534  Альберт   25  Краснодар              free  3826.185507   \n",
       "17971     1534  Альберт   25  Краснодар              free  2902.308661   \n",
       "17972     1534  Альберт   25  Краснодар              free  2371.711192   \n",
       "\n",
       "       duration        date  month  minute_price  start_ride_price  \\\n",
       "6500       15.0  2021-01-02      1             8                50   \n",
       "6501       17.0  2021-02-01      2             8                50   \n",
       "6502       21.0  2021-02-04      2             8                50   \n",
       "6503       10.0  2021-02-10      2             8                50   \n",
       "6504       18.0  2021-02-14      2             8                50   \n",
       "...         ...         ...    ...           ...               ...   \n",
       "17968      20.0  2021-11-04     11             8                50   \n",
       "17969      22.0  2021-11-16     11             8                50   \n",
       "17970      19.0  2021-11-18     11             8                50   \n",
       "17971      17.0  2021-11-27     11             8                50   \n",
       "17972      16.0  2021-12-29     12             8                50   \n",
       "\n",
       "       subscription_fee  \n",
       "6500                  0  \n",
       "6501                  0  \n",
       "6502                  0  \n",
       "6503                  0  \n",
       "6504                  0  \n",
       "...                 ...  \n",
       "17968                 0  \n",
       "17969                 0  \n",
       "17970                 0  \n",
       "17971                 0  \n",
       "17972                 0  \n",
       "\n",
       "[11473 rows x 12 columns]"
      ]
     },
     "execution_count": 50,
     "metadata": {},
     "output_type": "execute_result"
    }
   ],
   "source": [
    "data_free = full_data.query('subscription_type == \"free\"')\n",
    "data_ultra = full_data.query('subscription_type == \"ultra\"')\n",
    "data_free"
   ]
  },
  {
   "cell_type": "code",
   "execution_count": 51,
   "id": "801a03bc",
   "metadata": {},
   "outputs": [
    {
     "data": {
      "text/html": [
       "<div>\n",
       "<style scoped>\n",
       "    .dataframe tbody tr th:only-of-type {\n",
       "        vertical-align: middle;\n",
       "    }\n",
       "\n",
       "    .dataframe tbody tr th {\n",
       "        vertical-align: top;\n",
       "    }\n",
       "\n",
       "    .dataframe thead th {\n",
       "        text-align: right;\n",
       "    }\n",
       "</style>\n",
       "<table border=\"1\" class=\"dataframe\">\n",
       "  <thead>\n",
       "    <tr style=\"text-align: right;\">\n",
       "      <th></th>\n",
       "      <th>user_id</th>\n",
       "      <th>name</th>\n",
       "      <th>age</th>\n",
       "      <th>city</th>\n",
       "      <th>subscription_type</th>\n",
       "      <th>distance</th>\n",
       "      <th>duration</th>\n",
       "      <th>date</th>\n",
       "      <th>month</th>\n",
       "      <th>minute_price</th>\n",
       "      <th>start_ride_price</th>\n",
       "      <th>subscription_fee</th>\n",
       "    </tr>\n",
       "  </thead>\n",
       "  <tbody>\n",
       "    <tr>\n",
       "      <th>0</th>\n",
       "      <td>1</td>\n",
       "      <td>Кира</td>\n",
       "      <td>22</td>\n",
       "      <td>Тюмень</td>\n",
       "      <td>ultra</td>\n",
       "      <td>4409.919140</td>\n",
       "      <td>26.0</td>\n",
       "      <td>2021-01-01</td>\n",
       "      <td>1</td>\n",
       "      <td>6</td>\n",
       "      <td>0</td>\n",
       "      <td>199</td>\n",
       "    </tr>\n",
       "    <tr>\n",
       "      <th>1</th>\n",
       "      <td>1</td>\n",
       "      <td>Кира</td>\n",
       "      <td>22</td>\n",
       "      <td>Тюмень</td>\n",
       "      <td>ultra</td>\n",
       "      <td>2617.592153</td>\n",
       "      <td>16.0</td>\n",
       "      <td>2021-01-18</td>\n",
       "      <td>1</td>\n",
       "      <td>6</td>\n",
       "      <td>0</td>\n",
       "      <td>199</td>\n",
       "    </tr>\n",
       "    <tr>\n",
       "      <th>2</th>\n",
       "      <td>1</td>\n",
       "      <td>Кира</td>\n",
       "      <td>22</td>\n",
       "      <td>Тюмень</td>\n",
       "      <td>ultra</td>\n",
       "      <td>754.159807</td>\n",
       "      <td>7.0</td>\n",
       "      <td>2021-04-20</td>\n",
       "      <td>4</td>\n",
       "      <td>6</td>\n",
       "      <td>0</td>\n",
       "      <td>199</td>\n",
       "    </tr>\n",
       "    <tr>\n",
       "      <th>3</th>\n",
       "      <td>1</td>\n",
       "      <td>Кира</td>\n",
       "      <td>22</td>\n",
       "      <td>Тюмень</td>\n",
       "      <td>ultra</td>\n",
       "      <td>2694.783254</td>\n",
       "      <td>19.0</td>\n",
       "      <td>2021-08-11</td>\n",
       "      <td>8</td>\n",
       "      <td>6</td>\n",
       "      <td>0</td>\n",
       "      <td>199</td>\n",
       "    </tr>\n",
       "    <tr>\n",
       "      <th>4</th>\n",
       "      <td>1</td>\n",
       "      <td>Кира</td>\n",
       "      <td>22</td>\n",
       "      <td>Тюмень</td>\n",
       "      <td>ultra</td>\n",
       "      <td>4028.687306</td>\n",
       "      <td>27.0</td>\n",
       "      <td>2021-08-28</td>\n",
       "      <td>8</td>\n",
       "      <td>6</td>\n",
       "      <td>0</td>\n",
       "      <td>199</td>\n",
       "    </tr>\n",
       "    <tr>\n",
       "      <th>...</th>\n",
       "      <td>...</td>\n",
       "      <td>...</td>\n",
       "      <td>...</td>\n",
       "      <td>...</td>\n",
       "      <td>...</td>\n",
       "      <td>...</td>\n",
       "      <td>...</td>\n",
       "      <td>...</td>\n",
       "      <td>...</td>\n",
       "      <td>...</td>\n",
       "      <td>...</td>\n",
       "      <td>...</td>\n",
       "    </tr>\n",
       "    <tr>\n",
       "      <th>6495</th>\n",
       "      <td>699</td>\n",
       "      <td>Оксана</td>\n",
       "      <td>22</td>\n",
       "      <td>Москва</td>\n",
       "      <td>ultra</td>\n",
       "      <td>3973.046497</td>\n",
       "      <td>25.0</td>\n",
       "      <td>2021-08-29</td>\n",
       "      <td>8</td>\n",
       "      <td>6</td>\n",
       "      <td>0</td>\n",
       "      <td>199</td>\n",
       "    </tr>\n",
       "    <tr>\n",
       "      <th>6496</th>\n",
       "      <td>699</td>\n",
       "      <td>Оксана</td>\n",
       "      <td>22</td>\n",
       "      <td>Москва</td>\n",
       "      <td>ultra</td>\n",
       "      <td>3288.702563</td>\n",
       "      <td>16.0</td>\n",
       "      <td>2021-09-12</td>\n",
       "      <td>9</td>\n",
       "      <td>6</td>\n",
       "      <td>0</td>\n",
       "      <td>199</td>\n",
       "    </tr>\n",
       "    <tr>\n",
       "      <th>6497</th>\n",
       "      <td>699</td>\n",
       "      <td>Оксана</td>\n",
       "      <td>22</td>\n",
       "      <td>Москва</td>\n",
       "      <td>ultra</td>\n",
       "      <td>3076.159348</td>\n",
       "      <td>15.0</td>\n",
       "      <td>2021-09-26</td>\n",
       "      <td>9</td>\n",
       "      <td>6</td>\n",
       "      <td>0</td>\n",
       "      <td>199</td>\n",
       "    </tr>\n",
       "    <tr>\n",
       "      <th>6498</th>\n",
       "      <td>699</td>\n",
       "      <td>Оксана</td>\n",
       "      <td>22</td>\n",
       "      <td>Москва</td>\n",
       "      <td>ultra</td>\n",
       "      <td>4707.845501</td>\n",
       "      <td>16.0</td>\n",
       "      <td>2021-10-17</td>\n",
       "      <td>10</td>\n",
       "      <td>6</td>\n",
       "      <td>0</td>\n",
       "      <td>199</td>\n",
       "    </tr>\n",
       "    <tr>\n",
       "      <th>6499</th>\n",
       "      <td>699</td>\n",
       "      <td>Оксана</td>\n",
       "      <td>22</td>\n",
       "      <td>Москва</td>\n",
       "      <td>ultra</td>\n",
       "      <td>3202.890770</td>\n",
       "      <td>26.0</td>\n",
       "      <td>2021-12-03</td>\n",
       "      <td>12</td>\n",
       "      <td>6</td>\n",
       "      <td>0</td>\n",
       "      <td>199</td>\n",
       "    </tr>\n",
       "  </tbody>\n",
       "</table>\n",
       "<p>6500 rows × 12 columns</p>\n",
       "</div>"
      ],
      "text/plain": [
       "      user_id    name  age    city subscription_type     distance  duration  \\\n",
       "0           1    Кира   22  Тюмень             ultra  4409.919140      26.0   \n",
       "1           1    Кира   22  Тюмень             ultra  2617.592153      16.0   \n",
       "2           1    Кира   22  Тюмень             ultra   754.159807       7.0   \n",
       "3           1    Кира   22  Тюмень             ultra  2694.783254      19.0   \n",
       "4           1    Кира   22  Тюмень             ultra  4028.687306      27.0   \n",
       "...       ...     ...  ...     ...               ...          ...       ...   \n",
       "6495      699  Оксана   22  Москва             ultra  3973.046497      25.0   \n",
       "6496      699  Оксана   22  Москва             ultra  3288.702563      16.0   \n",
       "6497      699  Оксана   22  Москва             ultra  3076.159348      15.0   \n",
       "6498      699  Оксана   22  Москва             ultra  4707.845501      16.0   \n",
       "6499      699  Оксана   22  Москва             ultra  3202.890770      26.0   \n",
       "\n",
       "            date  month  minute_price  start_ride_price  subscription_fee  \n",
       "0     2021-01-01      1             6                 0               199  \n",
       "1     2021-01-18      1             6                 0               199  \n",
       "2     2021-04-20      4             6                 0               199  \n",
       "3     2021-08-11      8             6                 0               199  \n",
       "4     2021-08-28      8             6                 0               199  \n",
       "...          ...    ...           ...               ...               ...  \n",
       "6495  2021-08-29      8             6                 0               199  \n",
       "6496  2021-09-12      9             6                 0               199  \n",
       "6497  2021-09-26      9             6                 0               199  \n",
       "6498  2021-10-17     10             6                 0               199  \n",
       "6499  2021-12-03     12             6                 0               199  \n",
       "\n",
       "[6500 rows x 12 columns]"
      ]
     },
     "execution_count": 51,
     "metadata": {},
     "output_type": "execute_result"
    }
   ],
   "source": [
    "data_ultra"
   ]
  },
  {
   "cell_type": "markdown",
   "id": "92d4b7fe",
   "metadata": {},
   "source": [
    "**Визуализируем полученные данные**:"
   ]
  },
  {
   "cell_type": "code",
   "execution_count": 52,
   "id": "86805be2",
   "metadata": {},
   "outputs": [
    {
     "data": {
      "image/png": "[encoded data removed]",
      "text/plain": [
       "<Figure size 1080x576 with 1 Axes>"
      ]
     },
     "metadata": {},
     "output_type": "display_data"
    }
   ],
   "source": [
    "plt.figure(figsize=(15,8))\n",
    "sns.histplot(data = data_free, x = 'distance', color = 'purple',alpha = 1, label='расстояние поездки пользователей без подписки')\n",
    "sns.histplot(data = data_ultra, x = 'distance', color = 'darkgoldenrod',alpha = 1, label='расстояние поездки пользователей с подпиской')\n",
    "plt.axvline(data_free['distance'].mean(), c='k', ls='--', lw=2, label='среднее расстояние поездки без подписки')\n",
    "plt.axvline(data_ultra['distance'].mean(), c='k', ls='-', lw=2, label='среднее расстояние поездки с подпиской')\n",
    "plt.title('Расстояние поездок по наличию подписки',fontsize = 19, loc ='center')\n",
    "plt.xlabel('Дистанция, м', fontsize = 14)\n",
    "plt.ylabel('Кол-во пользователей', fontsize = 14)\n",
    "plt.legend()\n",
    "plt.show()"
   ]
  },
  {
   "cell_type": "markdown",
   "id": "932dc39a",
   "metadata": {},
   "source": [
    "Как мы уже ранее замечалии, кол-во пользователй без абонемента больше. В начале распределения у обеих категорий мы наблюдаем \"хребты\", для пользователей **без подписки** эти значения лежат в диапазоне от **0** до **1500 м.**, для пользователей **с подпиской** - от **200м.** до **2000 м.**, можно предположить, что это расстояние до метро, общественного транспорта или до работы. Далее пользователи **без подписки** пользуются самокатами в более широком диапазоне с пиковыми значениями в районе **2500м.** - **3500м.**, тогда как расстояние пользователей с подпиской более скорцентрированно в районе **3000м.** Также стоит отметить, что максимальная дистанция у пользователей **с подпиской** - чуть более **5000м.**, а у пользователей **без подписки** - **более 6000м.** Среднее расстояние пользователей **с подпиской** немного длиннее среднего расстояния пользователей **без подписки**."
   ]
  },
  {
   "cell_type": "markdown",
   "id": "f027d562",
   "metadata": {},
   "source": [
    "**Посмотрим плотность распределения расстояния поездок**:"
   ]
  },
  {
   "cell_type": "code",
   "execution_count": 53,
   "id": "cd1002ba",
   "metadata": {},
   "outputs": [
    {
     "data": {
      "image/png": "[encoded data removed]",
      "text/plain": [
       "<Figure size 720x576 with 1 Axes>"
      ]
     },
     "metadata": {},
     "output_type": "display_data"
    }
   ],
   "source": [
    "plt.figure(figsize=(10,8))\n",
    "data_free.distance.plot.density(color = 'purple', linewidth = 5, label = 'поездки без подписки')\n",
    "data_ultra.distance.plot.density(color = 'darkgoldenrod', linewidth = 5, label = 'поездки по подписки')\n",
    "plt.xlim([0,8000])\n",
    "plt.legend()\n",
    "plt.title('Плотнгость распределения расстояния поездок', fontsize = 17, loc ='center')\n",
    "plt.xlabel('Дистанция, м', fontsize = 15)\n",
    "plt.ylabel('Плотность', fontsize = 15)\n",
    "plt.show()"
   ]
  },
  {
   "cell_type": "markdown",
   "id": "dced46e3",
   "metadata": {},
   "source": [
    "**Итого:**\n",
    "\n",
    "* пользователи **с подпиской** чаще всего используют самокаты на поездки около **3000 м**\n",
    "* пользователи **без подписки** используют самокаты для поездок более широкого диапазона и менее сконцентрированно"
   ]
  },
  {
   "cell_type": "markdown",
   "id": "af93d733",
   "metadata": {},
   "source": [
    "**Посмотрим на продолжительность поездок по наличию подписки**:"
   ]
  },
  {
   "cell_type": "code",
   "execution_count": 54,
   "id": "a907c960",
   "metadata": {},
   "outputs": [
    {
     "data": {
      "image/png": "[encoded data removed]",
      "text/plain": [
       "<Figure size 1080x504 with 1 Axes>"
      ]
     },
     "metadata": {},
     "output_type": "display_data"
    }
   ],
   "source": [
    "plt.figure(figsize=(15,7))\n",
    "sns.histplot(data = data_free, x = 'duration', color = 'purple', alpha = 1, bins=33, label = 'продолжительность поездки пользователя без подписки')\n",
    "sns.histplot(data = data_ultra, x = 'duration', color = 'darkgoldenrod', alpha = 1, bins=38, label = 'продолжительность поездки пользователя по подписке')\n",
    "plt.axvline(data_free['duration'].mean(), c='k',ls='--', lw=2, label='средняя продолжительность поездки без подписки')\n",
    "plt.axvline(data_ultra['duration'].mean(), c='k',ls='-', lw=2, label='средняя продолжительность поездки по подписке')\n",
    "plt.legend()\n",
    "plt.title('Продолжительность поездок по наличию подписки', fontsize = 19, loc ='center')\n",
    "plt.xlabel('Время поездки, мин', fontsize = 15)\n",
    "plt.ylabel('Кол-во пользователей', fontsize = 15)\n",
    "plt.show()"
   ]
  },
  {
   "cell_type": "markdown",
   "id": "2b6be00d",
   "metadata": {},
   "source": [
    "**На данном графике всё без сюрпризов:** \n",
    "\n",
    "* для обеих категорий пиковые значения продолжительности поездки в районе **20 мин** \n",
    "* средняя продолжительность клиентов **с подпиской** немного превышает продолжительность поездки пользователей **без подписки**"
   ]
  },
  {
   "cell_type": "markdown",
   "id": "8197ce37",
   "metadata": {},
   "source": [
    "**Посмотрим на плотность распределения длительности поездки.**"
   ]
  },
  {
   "cell_type": "code",
   "execution_count": 55,
   "id": "619f63e8",
   "metadata": {},
   "outputs": [
    {
     "data": {
      "image/png": "[encoded data removed]",
      "text/plain": [
       "<Figure size 1080x576 with 1 Axes>"
      ]
     },
     "metadata": {},
     "output_type": "display_data"
    }
   ],
   "source": [
    "plt.figure(figsize=(15,8))\n",
    "data_free.duration.plot.density(color='purple', linewidth=4, label='поездки пользователей без подписки')\n",
    "data_ultra.duration.plot.density(color='darkgoldenrod', linewidth=4, label='поездки пользователей по подписке')\n",
    "plt.xlim([0, 50])\n",
    "plt.title('Плотность распределения продолжительности поездок',fontsize = 19, loc ='center')\n",
    "plt.xlabel('Время поездки, мин', fontsize = 15)\n",
    "plt.ylabel('Плотность', fontsize = 15)\n",
    "plt.legend()\n",
    "plt.show()"
   ]
  },
  {
   "cell_type": "markdown",
   "id": "d01ae165",
   "metadata": {},
   "source": [
    "**Итого:**\n",
    "\n",
    "* у пользователей **с подпиской** более ярко выражены поездки протяженностью **15-20 мин.**\n",
    "* пользователи **без подписки** чаще берут самокат на короткие интервалы"
   ]
  },
  {
   "cell_type": "markdown",
   "id": "f776df52",
   "metadata": {},
   "source": [
    "##### Промежуточный вывод\n",
    "\n",
    "**Проделанная работа:** \n",
    "  * объединили данные о пользователях, поездках и подписках в один датафрейм\n",
    "  * разделили датафрейм по наличию подписки\n",
    "  *  визуализировали информацию о расстоянии и времени поездок для пользователей обеих категорий\n",
    "\n",
    "**Итоги:**\n",
    "  * чаще всего пользователи без подписки проезжают на самокатах от **2500м.** до **3500м.**\n",
    "  * по продолжительности поездок графики обеих категорий различаются незначительно\n",
    "  * пиковое значение приходится на **20 мин**\n",
    "  * пользователи **без подписки** чаще берут самокат на короткие интервалы"
   ]
  },
  {
   "cell_type": "markdown",
   "id": "a732d777",
   "metadata": {},
   "source": [
    "#### Шаг 5. Подсчёт выручки"
   ]
  },
  {
   "cell_type": "markdown",
   "id": "11a47ed1",
   "metadata": {},
   "source": [
    "**Для каждого пользователя рассчитаем суммарное расстояние, количество поездок и суммарное время за каждый месяц**"
   ]
  },
  {
   "cell_type": "code",
   "execution_count": 56,
   "id": "a5c9f227",
   "metadata": {},
   "outputs": [
    {
     "data": {
      "text/html": [
       "<div>\n",
       "<style scoped>\n",
       "    .dataframe tbody tr th:only-of-type {\n",
       "        vertical-align: middle;\n",
       "    }\n",
       "\n",
       "    .dataframe tbody tr th {\n",
       "        vertical-align: top;\n",
       "    }\n",
       "\n",
       "    .dataframe thead th {\n",
       "        text-align: right;\n",
       "    }\n",
       "</style>\n",
       "<table border=\"1\" class=\"dataframe\">\n",
       "  <thead>\n",
       "    <tr style=\"text-align: right;\">\n",
       "      <th></th>\n",
       "      <th>user_id</th>\n",
       "      <th>month</th>\n",
       "      <th>count</th>\n",
       "      <th>distance</th>\n",
       "      <th>duration</th>\n",
       "      <th>sub_type</th>\n",
       "    </tr>\n",
       "  </thead>\n",
       "  <tbody>\n",
       "    <tr>\n",
       "      <th>0</th>\n",
       "      <td>1</td>\n",
       "      <td>1</td>\n",
       "      <td>2</td>\n",
       "      <td>7027.511294</td>\n",
       "      <td>42.0</td>\n",
       "      <td>ultra</td>\n",
       "    </tr>\n",
       "    <tr>\n",
       "      <th>1</th>\n",
       "      <td>1</td>\n",
       "      <td>4</td>\n",
       "      <td>1</td>\n",
       "      <td>754.159807</td>\n",
       "      <td>7.0</td>\n",
       "      <td>ultra</td>\n",
       "    </tr>\n",
       "    <tr>\n",
       "      <th>2</th>\n",
       "      <td>1</td>\n",
       "      <td>8</td>\n",
       "      <td>2</td>\n",
       "      <td>6723.470560</td>\n",
       "      <td>46.0</td>\n",
       "      <td>ultra</td>\n",
       "    </tr>\n",
       "    <tr>\n",
       "      <th>3</th>\n",
       "      <td>1</td>\n",
       "      <td>10</td>\n",
       "      <td>2</td>\n",
       "      <td>5809.911100</td>\n",
       "      <td>32.0</td>\n",
       "      <td>ultra</td>\n",
       "    </tr>\n",
       "    <tr>\n",
       "      <th>4</th>\n",
       "      <td>1</td>\n",
       "      <td>11</td>\n",
       "      <td>3</td>\n",
       "      <td>7003.499363</td>\n",
       "      <td>56.0</td>\n",
       "      <td>ultra</td>\n",
       "    </tr>\n",
       "    <tr>\n",
       "      <th>...</th>\n",
       "      <td>...</td>\n",
       "      <td>...</td>\n",
       "      <td>...</td>\n",
       "      <td>...</td>\n",
       "      <td>...</td>\n",
       "      <td>...</td>\n",
       "    </tr>\n",
       "    <tr>\n",
       "      <th>11295</th>\n",
       "      <td>1534</td>\n",
       "      <td>6</td>\n",
       "      <td>2</td>\n",
       "      <td>3409.468534</td>\n",
       "      <td>26.0</td>\n",
       "      <td>free</td>\n",
       "    </tr>\n",
       "    <tr>\n",
       "      <th>11296</th>\n",
       "      <td>1534</td>\n",
       "      <td>8</td>\n",
       "      <td>2</td>\n",
       "      <td>7622.453034</td>\n",
       "      <td>48.0</td>\n",
       "      <td>free</td>\n",
       "    </tr>\n",
       "    <tr>\n",
       "      <th>11297</th>\n",
       "      <td>1534</td>\n",
       "      <td>9</td>\n",
       "      <td>1</td>\n",
       "      <td>4928.173852</td>\n",
       "      <td>23.0</td>\n",
       "      <td>free</td>\n",
       "    </tr>\n",
       "    <tr>\n",
       "      <th>11298</th>\n",
       "      <td>1534</td>\n",
       "      <td>11</td>\n",
       "      <td>4</td>\n",
       "      <td>13350.015305</td>\n",
       "      <td>78.0</td>\n",
       "      <td>free</td>\n",
       "    </tr>\n",
       "    <tr>\n",
       "      <th>11299</th>\n",
       "      <td>1534</td>\n",
       "      <td>12</td>\n",
       "      <td>1</td>\n",
       "      <td>2371.711192</td>\n",
       "      <td>16.0</td>\n",
       "      <td>free</td>\n",
       "    </tr>\n",
       "  </tbody>\n",
       "</table>\n",
       "<p>11300 rows × 6 columns</p>\n",
       "</div>"
      ],
      "text/plain": [
       "       user_id  month  count      distance  duration sub_type\n",
       "0            1      1      2   7027.511294      42.0    ultra\n",
       "1            1      4      1    754.159807       7.0    ultra\n",
       "2            1      8      2   6723.470560      46.0    ultra\n",
       "3            1     10      2   5809.911100      32.0    ultra\n",
       "4            1     11      3   7003.499363      56.0    ultra\n",
       "...        ...    ...    ...           ...       ...      ...\n",
       "11295     1534      6      2   3409.468534      26.0     free\n",
       "11296     1534      8      2   7622.453034      48.0     free\n",
       "11297     1534      9      1   4928.173852      23.0     free\n",
       "11298     1534     11      4  13350.015305      78.0     free\n",
       "11299     1534     12      1   2371.711192      16.0     free\n",
       "\n",
       "[11300 rows x 6 columns]"
      ]
     },
     "execution_count": 56,
     "metadata": {},
     "output_type": "execute_result"
    }
   ],
   "source": [
    "rev_data = (full_data\n",
    "           .groupby(['user_id', 'month'])\n",
    "           .agg(\n",
    "               count = ('user_id','count'),\n",
    "               distance = ('distance','sum'),\n",
    "               duration=('duration', 'sum'),\n",
    "               sub_type = ('subscription_type', 'first'))\n",
    "            .reset_index()\n",
    ")\n",
    "rev_data"
   ]
  },
  {
   "cell_type": "markdown",
   "id": "a10e624e",
   "metadata": {},
   "source": [
    "**Добавим столбец с помесячной выручкой, которую принёс каждый пользователь:**"
   ]
  },
  {
   "cell_type": "code",
   "execution_count": 57,
   "id": "4fcfe97d",
   "metadata": {},
   "outputs": [
    {
     "data": {
      "text/html": [
       "<div>\n",
       "<style scoped>\n",
       "    .dataframe tbody tr th:only-of-type {\n",
       "        vertical-align: middle;\n",
       "    }\n",
       "\n",
       "    .dataframe tbody tr th {\n",
       "        vertical-align: top;\n",
       "    }\n",
       "\n",
       "    .dataframe thead th {\n",
       "        text-align: right;\n",
       "    }\n",
       "</style>\n",
       "<table border=\"1\" class=\"dataframe\">\n",
       "  <thead>\n",
       "    <tr style=\"text-align: right;\">\n",
       "      <th></th>\n",
       "      <th>user_id</th>\n",
       "      <th>month</th>\n",
       "      <th>count</th>\n",
       "      <th>distance</th>\n",
       "      <th>duration</th>\n",
       "      <th>sub_type</th>\n",
       "      <th>revenue</th>\n",
       "    </tr>\n",
       "  </thead>\n",
       "  <tbody>\n",
       "    <tr>\n",
       "      <th>0</th>\n",
       "      <td>1</td>\n",
       "      <td>1</td>\n",
       "      <td>2</td>\n",
       "      <td>7027.511294</td>\n",
       "      <td>42.0</td>\n",
       "      <td>ultra</td>\n",
       "      <td>451.0</td>\n",
       "    </tr>\n",
       "    <tr>\n",
       "      <th>1</th>\n",
       "      <td>1</td>\n",
       "      <td>4</td>\n",
       "      <td>1</td>\n",
       "      <td>754.159807</td>\n",
       "      <td>7.0</td>\n",
       "      <td>ultra</td>\n",
       "      <td>241.0</td>\n",
       "    </tr>\n",
       "    <tr>\n",
       "      <th>2</th>\n",
       "      <td>1</td>\n",
       "      <td>8</td>\n",
       "      <td>2</td>\n",
       "      <td>6723.470560</td>\n",
       "      <td>46.0</td>\n",
       "      <td>ultra</td>\n",
       "      <td>475.0</td>\n",
       "    </tr>\n",
       "    <tr>\n",
       "      <th>3</th>\n",
       "      <td>1</td>\n",
       "      <td>10</td>\n",
       "      <td>2</td>\n",
       "      <td>5809.911100</td>\n",
       "      <td>32.0</td>\n",
       "      <td>ultra</td>\n",
       "      <td>391.0</td>\n",
       "    </tr>\n",
       "    <tr>\n",
       "      <th>4</th>\n",
       "      <td>1</td>\n",
       "      <td>11</td>\n",
       "      <td>3</td>\n",
       "      <td>7003.499363</td>\n",
       "      <td>56.0</td>\n",
       "      <td>ultra</td>\n",
       "      <td>535.0</td>\n",
       "    </tr>\n",
       "    <tr>\n",
       "      <th>...</th>\n",
       "      <td>...</td>\n",
       "      <td>...</td>\n",
       "      <td>...</td>\n",
       "      <td>...</td>\n",
       "      <td>...</td>\n",
       "      <td>...</td>\n",
       "      <td>...</td>\n",
       "    </tr>\n",
       "    <tr>\n",
       "      <th>11295</th>\n",
       "      <td>1534</td>\n",
       "      <td>6</td>\n",
       "      <td>2</td>\n",
       "      <td>3409.468534</td>\n",
       "      <td>26.0</td>\n",
       "      <td>free</td>\n",
       "      <td>308.0</td>\n",
       "    </tr>\n",
       "    <tr>\n",
       "      <th>11296</th>\n",
       "      <td>1534</td>\n",
       "      <td>8</td>\n",
       "      <td>2</td>\n",
       "      <td>7622.453034</td>\n",
       "      <td>48.0</td>\n",
       "      <td>free</td>\n",
       "      <td>484.0</td>\n",
       "    </tr>\n",
       "    <tr>\n",
       "      <th>11297</th>\n",
       "      <td>1534</td>\n",
       "      <td>9</td>\n",
       "      <td>1</td>\n",
       "      <td>4928.173852</td>\n",
       "      <td>23.0</td>\n",
       "      <td>free</td>\n",
       "      <td>234.0</td>\n",
       "    </tr>\n",
       "    <tr>\n",
       "      <th>11298</th>\n",
       "      <td>1534</td>\n",
       "      <td>11</td>\n",
       "      <td>4</td>\n",
       "      <td>13350.015305</td>\n",
       "      <td>78.0</td>\n",
       "      <td>free</td>\n",
       "      <td>824.0</td>\n",
       "    </tr>\n",
       "    <tr>\n",
       "      <th>11299</th>\n",
       "      <td>1534</td>\n",
       "      <td>12</td>\n",
       "      <td>1</td>\n",
       "      <td>2371.711192</td>\n",
       "      <td>16.0</td>\n",
       "      <td>free</td>\n",
       "      <td>178.0</td>\n",
       "    </tr>\n",
       "  </tbody>\n",
       "</table>\n",
       "<p>11300 rows × 7 columns</p>\n",
       "</div>"
      ],
      "text/plain": [
       "       user_id  month  count      distance  duration sub_type  revenue\n",
       "0            1      1      2   7027.511294      42.0    ultra    451.0\n",
       "1            1      4      1    754.159807       7.0    ultra    241.0\n",
       "2            1      8      2   6723.470560      46.0    ultra    475.0\n",
       "3            1     10      2   5809.911100      32.0    ultra    391.0\n",
       "4            1     11      3   7003.499363      56.0    ultra    535.0\n",
       "...        ...    ...    ...           ...       ...      ...      ...\n",
       "11295     1534      6      2   3409.468534      26.0     free    308.0\n",
       "11296     1534      8      2   7622.453034      48.0     free    484.0\n",
       "11297     1534      9      1   4928.173852      23.0     free    234.0\n",
       "11298     1534     11      4  13350.015305      78.0     free    824.0\n",
       "11299     1534     12      1   2371.711192      16.0     free    178.0\n",
       "\n",
       "[11300 rows x 7 columns]"
      ]
     },
     "execution_count": 57,
     "metadata": {},
     "output_type": "execute_result"
    }
   ],
   "source": [
    "rev_data['revenue'] = (\n",
    "    np.select(\n",
    "        condlist=[rev_data['sub_type']=='free',rev_data['sub_type']=='ultra'],\n",
    "        choicelist = [50* rev_data['count'] + 8 * rev_data['duration'], 6*rev_data['duration']+199],\n",
    "        default = 0)\n",
    ")\n",
    "rev_data"
   ]
  },
  {
   "cell_type": "code",
   "execution_count": 58,
   "id": "53ccbc65",
   "metadata": {},
   "outputs": [
    {
     "name": "stdout",
     "output_type": "stream",
     "text": [
      "Годовая выручка по подписке: 1644537.0\n",
      "Годовая выручка без подписки: 2228594.0\n"
     ]
    }
   ],
   "source": [
    "print('Годовая выручка по подписке:',rev_data[rev_data['sub_type']=='ultra']['revenue'].sum())\n",
    "print('Годовая выручка без подписки:',rev_data[rev_data['sub_type']=='free']['revenue'].sum())\n"
   ]
  },
  {
   "cell_type": "markdown",
   "id": "f8219082",
   "metadata": {},
   "source": [
    "##### Промежуточный вывод\n",
    "\n",
    "**Проделанная работа:** \n",
    "* создали датафрейм с информацией по ежемесячной выручке с пользователей в зависимости от наличия подписки\n",
    "\n",
    "**Итог:**\n",
    "* Годовая выручка по подписке: **1 644 537 руб.**\n",
    "* Годовая выручка без подписки: **2 228 594 руб.**"
   ]
  },
  {
   "cell_type": "markdown",
   "id": "8edc7911",
   "metadata": {},
   "source": [
    "#### Шаг 6. Проверка гипотез"
   ]
  },
  {
   "cell_type": "markdown",
   "id": "f1fe6fe8",
   "metadata": {},
   "source": [
    "##### Гипотеза 1. \n",
    "\n",
    "**Пользователи с подпиской тратят больше времени на поездки.**"
   ]
  },
  {
   "cell_type": "markdown",
   "id": "94d515e9",
   "metadata": {},
   "source": [
    "**Сформулируем гипотезы:**\n",
    "\n",
    "\n",
    "**H0** продолжительность поездок пользователей с подпиской равна продолжительности пользователей без подписки\n",
    "\n",
    "**H1** продолжительность поездок пользователей с подпиской больше продолжительности пользователей без подписки"
   ]
  },
  {
   "cell_type": "markdown",
   "id": "4aae5350",
   "metadata": {},
   "source": [
    "Для проверки данной гипотезы воспользуемся t-тестом\n",
    "Уровень статистической значимости возьмём **5%.**"
   ]
  },
  {
   "cell_type": "code",
   "execution_count": 59,
   "id": "d04d70d6",
   "metadata": {},
   "outputs": [
    {
     "name": "stdout",
     "output_type": "stream",
     "text": [
      "p-значение: 8.577910347796266e-28\n",
      "Отвергаем нулевую гипотезу\n"
     ]
    }
   ],
   "source": [
    "duration_free = data_free['duration']\n",
    "duration_ultra = data_ultra['duration']\n",
    "\n",
    "alpha = 0.05\n",
    "\n",
    "results = st.ttest_ind(duration_ultra, duration_free, alternative = 'greater')\n",
    "\n",
    "print('p-значение:', results.pvalue)\n",
    "\n",
    "if results.pvalue < alpha:\n",
    "    print('Отвергаем нулевую гипотезу')\n",
    "else:\n",
    "    print('Не получилось отвергнуть нулевую гипотезу')"
   ]
  },
  {
   "cell_type": "markdown",
   "id": "914dc3f9",
   "metadata": {},
   "source": [
    "**Наблюдаемое равенство в нулевой гипотезе маловероятно и мы ее отвергаем в пользу альтернативной гипотезы.**"
   ]
  },
  {
   "cell_type": "code",
   "execution_count": 60,
   "id": "ba3522c1",
   "metadata": {},
   "outputs": [
    {
     "name": "stdout",
     "output_type": "stream",
     "text": [
      "Средняя продолжительность поездок с подпиской: 19.04 мин.\n",
      "Средняя продолжительность поездок без подписки: 18.03 мин.\n"
     ]
    }
   ],
   "source": [
    "print('Средняя продолжительность поездок с подпиской:', round(data_ultra['duration'].mean(),2),'мин.')\n",
    "print('Средняя продолжительность поездок без подписки:', round(data_free['duration'].mean(),2),'мин.')"
   ]
  },
  {
   "cell_type": "markdown",
   "id": "6287fe38",
   "metadata": {},
   "source": [
    "**В итоге:**\n",
    "    Подтвердилась гипотеза, что  продолжительность поездок пользователей **с подпиской** больше продолжительности поездок пользователей **без подписки**"
   ]
  },
  {
   "cell_type": "markdown",
   "id": "2c02ae75",
   "metadata": {},
   "source": [
    "##### Гипотеза 2. \n",
    "\n",
    "**Среднее расстояние, которое проезжают пользователи с подпиской за одну поездку, не превышает 3130 метров.**"
   ]
  },
  {
   "cell_type": "markdown",
   "id": "d95d99b3",
   "metadata": {},
   "source": [
    "**Сформулируем гипотезы:**"
   ]
  },
  {
   "cell_type": "markdown",
   "id": "831a23dd",
   "metadata": {},
   "source": [
    "**H0** среднее расстояние, которое проезжают пользователи с подпиской равно 3130 метров\n",
    "\n",
    "**H1** среднее расстояние, которое проезжают пользователи с подпиской больше 3130 метров"
   ]
  },
  {
   "cell_type": "markdown",
   "id": "5a5a9a7b",
   "metadata": {},
   "source": [
    "Для проверки данной гипотезы воспользуемся **t-тестом**.Уровень статистической значимости примем равным **5%.**"
   ]
  },
  {
   "cell_type": "code",
   "execution_count": 61,
   "id": "0718624a",
   "metadata": {},
   "outputs": [
    {
     "name": "stdout",
     "output_type": "stream",
     "text": [
      "p-значение: 0.9195368847849785\n",
      "Не получилось отвергнуть нулевую гипотезу\n"
     ]
    }
   ],
   "source": [
    "distance_ultra = data_ultra['distance']\n",
    "\n",
    "alpha = 0.05\n",
    "\n",
    "interested_value = 3130\n",
    "\n",
    "results = st.ttest_1samp(distance_ultra, interested_value, alternative = 'greater')\n",
    "\n",
    "print('p-значение:', results.pvalue)\n",
    "\n",
    "if results.pvalue < alpha:\n",
    "    print('Отвергаем нулевую гипотезу')\n",
    "else:\n",
    "    print('Не получилось отвергнуть нулевую гипотезу')"
   ]
  },
  {
   "cell_type": "markdown",
   "id": "600db959",
   "metadata": {},
   "source": [
    " **Значение p-value превышает уровень статистической значимости, поэтому оснований отвергать нулевую гипотезу у нас нет**"
   ]
  },
  {
   "cell_type": "code",
   "execution_count": 62,
   "id": "1b19fa95",
   "metadata": {},
   "outputs": [
    {
     "name": "stdout",
     "output_type": "stream",
     "text": [
      "Средняя дистанция поездки по подписке: 3115.45 м.\n"
     ]
    }
   ],
   "source": [
    "print('Средняя дистанция поездки по подписке:', round(data_ultra['distance'].mean(),2), 'м.')"
   ]
  },
  {
   "cell_type": "markdown",
   "id": "36a580f4",
   "metadata": {},
   "source": [
    "**Итог:**\n",
    "\n",
    "Расстояние, которое проезжают пользователи **с подпиской** за одну поездку, не превышает **3130 метров.**"
   ]
  },
  {
   "cell_type": "markdown",
   "id": "62021b9a",
   "metadata": {},
   "source": [
    "##### Гипотеза 3.\n",
    "\n",
    "**Помесячная выручка от пользователей с подпиской по месяцам выше, чем выручка от пользователей без подписки.**"
   ]
  },
  {
   "cell_type": "markdown",
   "id": "67b4ec02",
   "metadata": {},
   "source": [
    "**Сформулируем гипотезы:**"
   ]
  },
  {
   "cell_type": "markdown",
   "id": "a9af3bbd",
   "metadata": {},
   "source": [
    "**H0** помесячная выручка от пользователей с подпиской по месяцам равна выручке от пользователей без подписки\n",
    "\n",
    "**H1** помесячная выручка от пользователей с подпиской по месяцам больше выручки от пользователей без подписки\n"
   ]
  },
  {
   "cell_type": "markdown",
   "id": "3b563c0f",
   "metadata": {},
   "source": [
    "Для проверки данной гипотезы воспользуемся **t-тестом.** Уровень статистической значимости примем равным **5%.**"
   ]
  },
  {
   "cell_type": "code",
   "execution_count": 63,
   "id": "8af61c93",
   "metadata": {},
   "outputs": [
    {
     "name": "stdout",
     "output_type": "stream",
     "text": [
      "p-значение: 2.0314113674863288e-30\n",
      "Отвергаем нулевую гипотезу\n"
     ]
    }
   ],
   "source": [
    "revenue_free = rev_data.query('sub_type ==  \"free\"')['revenue']\n",
    "revenue_ultra = rev_data.query('sub_type == \"ultra\"')['revenue']\n",
    "\n",
    "alpha = 0.05\n",
    "\n",
    "results = st.ttest_ind(revenue_ultra, revenue_free, alternative = 'greater')\n",
    "\n",
    "print('p-значение:', results.pvalue)\n",
    "\n",
    "if results.pvalue < alpha:\n",
    "    print('Отвергаем нулевую гипотезу')\n",
    "else:\n",
    "    print('Не получилось отвергнуть нулевую гипотезу')"
   ]
  },
  {
   "cell_type": "code",
   "execution_count": 64,
   "id": "c83cc79d",
   "metadata": {},
   "outputs": [
    {
     "name": "stdout",
     "output_type": "stream",
     "text": [
      "Средняя выручка за месяц(с подпиской): 363 руб.\n",
      "Средняя выручка за месяц(без подписки): 329 руб.\n"
     ]
    }
   ],
   "source": [
    "print('Средняя выручка за месяц(с подпиской):', round(rev_data[rev_data['sub_type'] ==\"ultra\"][\"revenue\"].mean()),'руб.')\n",
    "print('Средняя выручка за месяц(без подписки):', round(rev_data[rev_data['sub_type'] ==\"free\"][\"revenue\"].mean()),'руб.')"
   ]
  },
  {
   "cell_type": "markdown",
   "id": "9bf3777b",
   "metadata": {},
   "source": [
    "**Итог:**\n",
    "\n",
    "Помесячная выручка от пользователей **с подпиской** больше чем от пользователей **без подписки.**"
   ]
  },
  {
   "cell_type": "markdown",
   "id": "b65958c3",
   "metadata": {},
   "source": [
    "##### Представьте такую ситуацию:"
   ]
  },
  {
   "cell_type": "markdown",
   "id": "a0bee599",
   "metadata": {},
   "source": [
    "**Представим:**  техническая команда сервиса обновила сервера, с которыми взаимодействует мобильное приложение. Она надеется, что из-за этого количество обращений в техподдержку значимо снизилось. Некоторый файл содержит для каждого пользователя данные о количестве обращений до обновления и после него. Какой тест вам понадобился бы для проверки этой гипотезы?"
   ]
  },
  {
   "cell_type": "markdown",
   "id": "3303cae3",
   "metadata": {},
   "source": [
    "Для начала определим формулировку гипотез:\n",
    "\n",
    "**H0:** среднее кол-во обращений в сервис до обновления серверов равно среднему кол-ву обращений после обновления серверов\n",
    "\n",
    "**H1:** среднее кол-во обращений в сервис до обновления серверов больше среднего кол-ва обращений после обновления серверов"
   ]
  },
  {
   "cell_type": "markdown",
   "id": "83c0267f",
   "metadata": {},
   "source": [
    "В данном случае целесообразно использовать метод **scipy.stats.ttest_rel()** с параметром **greater**"
   ]
  },
  {
   "cell_type": "markdown",
   "id": "f0476e2b",
   "metadata": {},
   "source": [
    "##### Промежуточный вывод\n",
    "\n",
    "**Проделанная работа:** \n",
    "При помощи статистических тестов были проверены 3 гипотезы\n",
    "\n",
    "**Итог:**\n",
    "* продолжительность поездок пользователей **с подпиской** больше продолжительности поездок пользователей **без подписки**\n",
    "* расстояние, которое проезжают пользователи **с подпиской** за одну поездку, не превышает **3130 м.**\n",
    "* помесячная выручка от пользователей **с подпиской** больше чем от пользователей **без подписки.**"
   ]
  },
  {
   "cell_type": "markdown",
   "id": "a6475fd2",
   "metadata": {},
   "source": [
    "#### Выводы"
   ]
  },
  {
   "cell_type": "markdown",
   "id": "be868dd0",
   "metadata": {},
   "source": [
    "**Проделаная работа:**\n",
    "\n",
    " **В ходе предобработки данных:**\n",
    "\n",
    "   * привели столбец date таблицы rides к datetime\n",
    "   * удалены явные дубликаты из таблицы users\n",
    "   * удалены выбивающиеся значения из таблицы rides\n",
    "   * округлён продолжительности поездок\n",
    "   * в таблицу rides добавлен столбец с номером месяца поездки\n",
    "    \n",
    "**В ходе исследовательского анализа данных:**\n",
    "    \n",
    "   * Самый популярный город - Пятигорск(**219** пользователей, **14%** от общего кол-ва)\n",
    "   * Самый непопулярный город - Москва(**168** пользователей, **11%** от общего кол-ва)\n",
    "   * Пользователей с подпиской - **699(46%)**\n",
    "   * Пользователей без подпсики - **835(54%)**\n",
    "   * Средний возраст пользователей - **25 лет**\n",
    "   * Самый молодой пользователь - **12 лет**\n",
    "   * Самый старший пользователь - **43 года**\n",
    "   * Больше всего пользоватлей от **12 до 26 лет**.\n",
    "   * Самое часто-пройденное расстояние - от **2500м.** до **3500м.**\n",
    "   * Чаще всего присутствуют сессии от **15 мин.** до **21 мин.**\n",
    "   * Максимальная продолжительность сессии - **41 мин**\n",
    "    \n",
    "**В ходе объединения данных:**\n",
    "\n",
    "   \n",
    "   **Проделали работу:** \n",
    "  * объединили данные о пользователях, поездках и подписках в один датафрейм\n",
    "  * разделили датафрейм по наличию подписки\n",
    "  * визуализировали информацию о расстоянии и времени поездок для пользователей обеих категорий\n",
    "\n",
    "**Итоги:**\n",
    "  * чаще всего пользователи без подписки проезжают на самокатах от **2500м.** до **3500м.**\n",
    "  * по продолжительности поездок графики обеих категорий различаются незначительно\n",
    "  * пиковое значение приходится на **20 мин**\n",
    "  * пользователи **без подписки** чаще берут самокат на короткие интервалы\n",
    " \n",
    "**В ходе подсчёта выручки:**\n",
    "\n",
    "**Проделали работу:** \n",
    "* создали датафрейм с информацией по ежемесячной выручке с пользователей в зависимости от наличия подписки\n",
    "\n",
    "**Итоги:**\n",
    "* годовая выручка по подписке: **1 644 537 руб.**\n",
    "* годовая выручка без подписки: **2 228 594 руб.**\n",
    "\n",
    "**В ходе рассмотрения гиптез:**\n",
    "    \n",
    "   **Пользователи с подпиской тратят больше времени на поездки.**\n",
    "         \n",
    "  * Гипотеза подтвердилась\n",
    "  * Средняя продолжительность поездок с подпиской: **19.04 мин.**\n",
    "  * Средняя продолжительность поездок без подписки: **18.03 мин.**\n",
    "   \n",
    "**Среднее расстояние, которое проезжают пользователи с подпиской за одну поездку, не превышает 3130 метров.**\n",
    "   \n",
    "   * Гипотеза подтвердилась\n",
    "   * Средняя дистанция поездки по подписке: **3115.45 м.**\n",
    "   \n",
    "**Помесячная выручка от пользователей с подпиской по месяцам выше, чем выручка от пользователей без подписки.**\n",
    "   \n",
    "   * Гипотеза подтвердилась\n",
    "   * Средняя выручка за месяц(с подпиской): **363 руб.**\n",
    "   * Средняя выручка за месяц(без подписки): **329 руб.**\n",
    "   "
   ]
  }
 ],
 "metadata": {
  "ExecuteTimeLog": [
   {
    "duration": 1293,
    "start_time": "2024-02-06T10:44:08.633Z"
   },
   {
    "duration": 305,
    "start_time": "2024-02-06T10:45:36.474Z"
   },
   {
    "duration": 67,
    "start_time": "2024-02-06T11:47:36.134Z"
   },
   {
    "duration": 12,
    "start_time": "2024-02-06T11:50:40.852Z"
   },
   {
    "duration": 12,
    "start_time": "2024-02-06T11:51:05.691Z"
   },
   {
    "duration": 12,
    "start_time": "2024-02-06T11:51:25.721Z"
   },
   {
    "duration": 6,
    "start_time": "2024-02-06T11:51:56.491Z"
   },
   {
    "duration": 71,
    "start_time": "2024-02-06T11:52:44.580Z"
   },
   {
    "duration": 81,
    "start_time": "2024-02-06T11:53:18.087Z"
   },
   {
    "duration": 16,
    "start_time": "2024-02-06T11:53:20.974Z"
   },
   {
    "duration": 7,
    "start_time": "2024-02-06T11:54:37.168Z"
   },
   {
    "duration": 9,
    "start_time": "2024-02-06T11:54:42.874Z"
   },
   {
    "duration": 11,
    "start_time": "2024-02-06T11:55:02.391Z"
   },
   {
    "duration": 6,
    "start_time": "2024-02-06T11:55:17.178Z"
   },
   {
    "duration": 25,
    "start_time": "2024-02-06T11:55:30.513Z"
   },
   {
    "duration": 7,
    "start_time": "2024-02-06T11:58:21.830Z"
   },
   {
    "duration": 70,
    "start_time": "2024-02-06T11:58:52.802Z"
   },
   {
    "duration": 9,
    "start_time": "2024-02-06T11:58:57.387Z"
   },
   {
    "duration": 6,
    "start_time": "2024-02-06T11:59:12.770Z"
   },
   {
    "duration": 17,
    "start_time": "2024-02-06T11:59:24.934Z"
   },
   {
    "duration": 90,
    "start_time": "2024-02-06T12:00:13.182Z"
   },
   {
    "duration": 5,
    "start_time": "2024-02-06T12:01:53.345Z"
   },
   {
    "duration": 10,
    "start_time": "2024-02-06T12:01:56.597Z"
   },
   {
    "duration": 5,
    "start_time": "2024-02-06T12:02:00.246Z"
   },
   {
    "duration": 12,
    "start_time": "2024-02-06T12:25:35.611Z"
   },
   {
    "duration": 5,
    "start_time": "2024-02-06T12:25:41.891Z"
   },
   {
    "duration": 6,
    "start_time": "2024-02-06T12:26:51.826Z"
   },
   {
    "duration": 67,
    "start_time": "2024-02-06T12:28:01.622Z"
   },
   {
    "duration": 6,
    "start_time": "2024-02-06T12:28:10.600Z"
   },
   {
    "duration": 12,
    "start_time": "2024-02-06T13:42:26.689Z"
   },
   {
    "duration": 18,
    "start_time": "2024-02-06T13:42:32.058Z"
   },
   {
    "duration": 16,
    "start_time": "2024-02-06T13:42:46.994Z"
   },
   {
    "duration": 7,
    "start_time": "2024-02-06T13:43:56.030Z"
   },
   {
    "duration": 149,
    "start_time": "2024-02-06T13:56:13.198Z"
   },
   {
    "duration": 130,
    "start_time": "2024-02-06T13:56:20.598Z"
   },
   {
    "duration": 190,
    "start_time": "2024-02-06T13:56:25.165Z"
   },
   {
    "duration": 135,
    "start_time": "2024-02-06T13:56:38.817Z"
   },
   {
    "duration": 18,
    "start_time": "2024-02-06T14:09:55.307Z"
   },
   {
    "duration": 6,
    "start_time": "2024-02-06T14:10:39.191Z"
   },
   {
    "duration": 71,
    "start_time": "2024-02-06T14:17:48.522Z"
   },
   {
    "duration": 3,
    "start_time": "2024-02-06T14:17:51.598Z"
   },
   {
    "duration": 6,
    "start_time": "2024-02-06T14:20:28.339Z"
   },
   {
    "duration": 12,
    "start_time": "2024-02-06T14:22:37.268Z"
   },
   {
    "duration": 102,
    "start_time": "2024-02-06T14:28:43.099Z"
   },
   {
    "duration": 122,
    "start_time": "2024-02-06T14:28:50.719Z"
   },
   {
    "duration": 12,
    "start_time": "2024-02-06T14:28:57.314Z"
   },
   {
    "duration": 133,
    "start_time": "2024-02-06T14:29:02.683Z"
   },
   {
    "duration": 128,
    "start_time": "2024-02-06T14:29:09.800Z"
   },
   {
    "duration": 126,
    "start_time": "2024-02-06T14:29:27.573Z"
   },
   {
    "duration": 114,
    "start_time": "2024-02-06T14:29:42.598Z"
   },
   {
    "duration": 1072,
    "start_time": "2024-02-06T14:30:02.535Z"
   },
   {
    "duration": 67,
    "start_time": "2024-02-06T14:30:03.609Z"
   },
   {
    "duration": 12,
    "start_time": "2024-02-06T14:30:03.677Z"
   },
   {
    "duration": 16,
    "start_time": "2024-02-06T14:30:03.690Z"
   },
   {
    "duration": 21,
    "start_time": "2024-02-06T14:30:03.708Z"
   },
   {
    "duration": 19,
    "start_time": "2024-02-06T14:30:03.730Z"
   },
   {
    "duration": 24,
    "start_time": "2024-02-06T14:30:03.751Z"
   },
   {
    "duration": 33,
    "start_time": "2024-02-06T14:30:03.777Z"
   },
   {
    "duration": 18,
    "start_time": "2024-02-06T14:30:03.811Z"
   },
   {
    "duration": 19,
    "start_time": "2024-02-06T14:30:03.830Z"
   },
   {
    "duration": 11,
    "start_time": "2024-02-06T14:30:03.850Z"
   },
   {
    "duration": 42,
    "start_time": "2024-02-06T14:30:03.863Z"
   },
   {
    "duration": 21,
    "start_time": "2024-02-06T14:30:03.906Z"
   },
   {
    "duration": 29,
    "start_time": "2024-02-06T14:30:03.929Z"
   },
   {
    "duration": 34,
    "start_time": "2024-02-06T14:30:03.959Z"
   },
   {
    "duration": 11,
    "start_time": "2024-02-06T14:30:03.994Z"
   },
   {
    "duration": 30,
    "start_time": "2024-02-06T14:30:04.006Z"
   },
   {
    "duration": 34,
    "start_time": "2024-02-06T14:30:04.037Z"
   },
   {
    "duration": 44,
    "start_time": "2024-02-06T14:30:04.073Z"
   },
   {
    "duration": 25,
    "start_time": "2024-02-06T14:30:04.118Z"
   },
   {
    "duration": 47,
    "start_time": "2024-02-06T14:30:04.144Z"
   },
   {
    "duration": 188,
    "start_time": "2024-02-06T14:30:04.193Z"
   },
   {
    "duration": 158,
    "start_time": "2024-02-06T14:30:04.382Z"
   },
   {
    "duration": 16,
    "start_time": "2024-02-06T14:30:04.542Z"
   },
   {
    "duration": 14,
    "start_time": "2024-02-06T14:30:04.559Z"
   },
   {
    "duration": 20,
    "start_time": "2024-02-06T14:30:04.575Z"
   },
   {
    "duration": 35,
    "start_time": "2024-02-06T14:30:04.597Z"
   },
   {
    "duration": 43,
    "start_time": "2024-02-06T14:30:04.633Z"
   },
   {
    "duration": 157,
    "start_time": "2024-02-06T14:30:04.677Z"
   },
   {
    "duration": 130,
    "start_time": "2024-02-06T14:30:32.910Z"
   },
   {
    "duration": 1090,
    "start_time": "2024-02-06T14:30:53.932Z"
   },
   {
    "duration": 69,
    "start_time": "2024-02-06T14:30:55.024Z"
   },
   {
    "duration": 11,
    "start_time": "2024-02-06T14:30:55.095Z"
   },
   {
    "duration": 18,
    "start_time": "2024-02-06T14:30:55.108Z"
   },
   {
    "duration": 11,
    "start_time": "2024-02-06T14:30:55.128Z"
   },
   {
    "duration": 17,
    "start_time": "2024-02-06T14:30:55.140Z"
   },
   {
    "duration": 25,
    "start_time": "2024-02-06T14:30:55.158Z"
   },
   {
    "duration": 8,
    "start_time": "2024-02-06T14:30:55.184Z"
   },
   {
    "duration": 19,
    "start_time": "2024-02-06T14:30:55.194Z"
   },
   {
    "duration": 7,
    "start_time": "2024-02-06T14:30:55.214Z"
   },
   {
    "duration": 19,
    "start_time": "2024-02-06T14:30:55.222Z"
   },
   {
    "duration": 18,
    "start_time": "2024-02-06T14:30:55.243Z"
   },
   {
    "duration": 7,
    "start_time": "2024-02-06T14:30:55.262Z"
   },
   {
    "duration": 26,
    "start_time": "2024-02-06T14:30:55.271Z"
   },
   {
    "duration": 13,
    "start_time": "2024-02-06T14:30:55.299Z"
   },
   {
    "duration": 13,
    "start_time": "2024-02-06T14:30:55.313Z"
   },
   {
    "duration": 27,
    "start_time": "2024-02-06T14:30:55.328Z"
   },
   {
    "duration": 22,
    "start_time": "2024-02-06T14:30:55.356Z"
   },
   {
    "duration": 5,
    "start_time": "2024-02-06T14:30:55.379Z"
   },
   {
    "duration": 9,
    "start_time": "2024-02-06T14:30:55.385Z"
   },
   {
    "duration": 27,
    "start_time": "2024-02-06T14:30:55.395Z"
   },
   {
    "duration": 8,
    "start_time": "2024-02-06T14:30:55.424Z"
   },
   {
    "duration": 157,
    "start_time": "2024-02-06T14:30:55.433Z"
   },
   {
    "duration": 15,
    "start_time": "2024-02-06T14:30:55.593Z"
   },
   {
    "duration": 6,
    "start_time": "2024-02-06T14:30:55.610Z"
   },
   {
    "duration": 18,
    "start_time": "2024-02-06T14:30:55.617Z"
   },
   {
    "duration": 26,
    "start_time": "2024-02-06T14:30:55.637Z"
   },
   {
    "duration": 13,
    "start_time": "2024-02-06T14:30:55.665Z"
   },
   {
    "duration": 125,
    "start_time": "2024-02-06T14:30:55.679Z"
   },
   {
    "duration": 13,
    "start_time": "2024-02-06T14:40:21.934Z"
   },
   {
    "duration": 4,
    "start_time": "2024-02-06T14:41:01.879Z"
   },
   {
    "duration": 14,
    "start_time": "2024-02-06T14:48:55.952Z"
   },
   {
    "duration": 81,
    "start_time": "2024-02-06T14:49:17.244Z"
   },
   {
    "duration": 91,
    "start_time": "2024-02-06T14:50:17.936Z"
   },
   {
    "duration": 10,
    "start_time": "2024-02-06T14:50:42.915Z"
   },
   {
    "duration": 4,
    "start_time": "2024-02-06T14:54:30.337Z"
   },
   {
    "duration": 3,
    "start_time": "2024-02-06T15:01:04.490Z"
   },
   {
    "duration": 2,
    "start_time": "2024-02-06T15:03:38.404Z"
   },
   {
    "duration": 3,
    "start_time": "2024-02-06T15:05:22.016Z"
   },
   {
    "duration": 961,
    "start_time": "2024-02-06T15:05:33.276Z"
   },
   {
    "duration": 7,
    "start_time": "2024-02-06T15:05:37.281Z"
   },
   {
    "duration": 5,
    "start_time": "2024-02-06T15:55:16.624Z"
   },
   {
    "duration": 196,
    "start_time": "2024-02-06T16:20:39.100Z"
   },
   {
    "duration": 236,
    "start_time": "2024-02-06T16:23:23.285Z"
   },
   {
    "duration": 205,
    "start_time": "2024-02-06T16:40:47.764Z"
   },
   {
    "duration": 227,
    "start_time": "2024-02-06T17:33:19.825Z"
   },
   {
    "duration": 90,
    "start_time": "2024-02-06T17:33:29.473Z"
   },
   {
    "duration": 205,
    "start_time": "2024-02-06T17:33:35.380Z"
   },
   {
    "duration": 214,
    "start_time": "2024-02-06T17:33:50.295Z"
   },
   {
    "duration": 280,
    "start_time": "2024-02-06T17:33:55.118Z"
   },
   {
    "duration": 204,
    "start_time": "2024-02-06T17:41:04.150Z"
   },
   {
    "duration": 4,
    "start_time": "2024-02-06T17:44:24.521Z"
   },
   {
    "duration": 77,
    "start_time": "2024-02-06T17:44:27.003Z"
   },
   {
    "duration": 67,
    "start_time": "2024-02-06T17:44:36.739Z"
   },
   {
    "duration": 70,
    "start_time": "2024-02-06T17:45:09.623Z"
   },
   {
    "duration": 141,
    "start_time": "2024-02-06T17:45:13.108Z"
   },
   {
    "duration": 139,
    "start_time": "2024-02-06T17:45:32.865Z"
   },
   {
    "duration": 133,
    "start_time": "2024-02-06T17:45:50.263Z"
   },
   {
    "duration": 148,
    "start_time": "2024-02-06T17:45:56.279Z"
   },
   {
    "duration": 11,
    "start_time": "2024-02-06T17:48:12.939Z"
   },
   {
    "duration": 166,
    "start_time": "2024-02-06T17:48:18.337Z"
   },
   {
    "duration": 76,
    "start_time": "2024-02-06T17:50:55.779Z"
   },
   {
    "duration": 160,
    "start_time": "2024-02-06T17:50:59.429Z"
   },
   {
    "duration": 154,
    "start_time": "2024-02-06T17:51:05.887Z"
   },
   {
    "duration": 157,
    "start_time": "2024-02-06T17:52:17.973Z"
   },
   {
    "duration": 21,
    "start_time": "2024-02-06T17:52:28.555Z"
   },
   {
    "duration": 19,
    "start_time": "2024-02-06T17:52:35.250Z"
   },
   {
    "duration": 158,
    "start_time": "2024-02-06T17:52:52.429Z"
   },
   {
    "duration": 164,
    "start_time": "2024-02-06T17:54:18.138Z"
   },
   {
    "duration": 254,
    "start_time": "2024-02-06T17:54:30.095Z"
   },
   {
    "duration": 169,
    "start_time": "2024-02-06T17:54:51.344Z"
   },
   {
    "duration": 208,
    "start_time": "2024-02-06T18:33:53.001Z"
   },
   {
    "duration": 167,
    "start_time": "2024-02-06T18:34:05.485Z"
   },
   {
    "duration": 7,
    "start_time": "2024-02-06T18:55:58.002Z"
   },
   {
    "duration": 4,
    "start_time": "2024-02-06T18:56:09.516Z"
   },
   {
    "duration": 81,
    "start_time": "2024-02-06T18:57:48.526Z"
   },
   {
    "duration": 75,
    "start_time": "2024-02-06T18:57:53.436Z"
   },
   {
    "duration": 6,
    "start_time": "2024-02-06T18:58:39.907Z"
   },
   {
    "duration": 72,
    "start_time": "2024-02-06T19:04:27.956Z"
   },
   {
    "duration": 62,
    "start_time": "2024-02-06T19:04:56.437Z"
   },
   {
    "duration": 86,
    "start_time": "2024-02-06T19:05:13.074Z"
   },
   {
    "duration": 129,
    "start_time": "2024-02-06T19:06:23.372Z"
   },
   {
    "duration": 105,
    "start_time": "2024-02-06T19:06:28.602Z"
   },
   {
    "duration": 5,
    "start_time": "2024-02-06T19:29:26.950Z"
   },
   {
    "duration": 5,
    "start_time": "2024-02-06T19:29:46.894Z"
   },
   {
    "duration": 65,
    "start_time": "2024-02-06T19:31:01.170Z"
   },
   {
    "duration": 84,
    "start_time": "2024-02-06T19:31:24.423Z"
   },
   {
    "duration": 241,
    "start_time": "2024-02-06T19:48:40.938Z"
   },
   {
    "duration": 233,
    "start_time": "2024-02-06T19:48:46.580Z"
   },
   {
    "duration": 51,
    "start_time": "2024-02-07T12:40:18.490Z"
   },
   {
    "duration": 1417,
    "start_time": "2024-02-07T12:40:29.784Z"
   },
   {
    "duration": 290,
    "start_time": "2024-02-07T12:40:31.203Z"
   },
   {
    "duration": 12,
    "start_time": "2024-02-07T12:40:31.495Z"
   },
   {
    "duration": 39,
    "start_time": "2024-02-07T12:40:31.509Z"
   },
   {
    "duration": 31,
    "start_time": "2024-02-07T12:40:31.550Z"
   },
   {
    "duration": 65,
    "start_time": "2024-02-07T12:40:31.582Z"
   },
   {
    "duration": 49,
    "start_time": "2024-02-07T12:40:31.648Z"
   },
   {
    "duration": 23,
    "start_time": "2024-02-07T12:40:31.699Z"
   },
   {
    "duration": 45,
    "start_time": "2024-02-07T12:40:31.724Z"
   },
   {
    "duration": 64,
    "start_time": "2024-02-07T12:40:31.770Z"
   },
   {
    "duration": 30,
    "start_time": "2024-02-07T12:40:31.836Z"
   },
   {
    "duration": 40,
    "start_time": "2024-02-07T12:40:31.868Z"
   },
   {
    "duration": 32,
    "start_time": "2024-02-07T12:40:31.910Z"
   },
   {
    "duration": 71,
    "start_time": "2024-02-07T12:40:31.945Z"
   },
   {
    "duration": 60,
    "start_time": "2024-02-07T12:40:32.017Z"
   },
   {
    "duration": 96,
    "start_time": "2024-02-07T12:40:32.079Z"
   },
   {
    "duration": 183,
    "start_time": "2024-02-07T12:40:32.177Z"
   },
   {
    "duration": 126,
    "start_time": "2024-02-07T12:40:32.362Z"
   },
   {
    "duration": 66,
    "start_time": "2024-02-07T12:40:32.490Z"
   },
   {
    "duration": 73,
    "start_time": "2024-02-07T12:40:32.558Z"
   },
   {
    "duration": 55,
    "start_time": "2024-02-07T12:40:32.633Z"
   },
   {
    "duration": 30,
    "start_time": "2024-02-07T12:40:32.690Z"
   },
   {
    "duration": 179,
    "start_time": "2024-02-07T12:40:32.722Z"
   },
   {
    "duration": 17,
    "start_time": "2024-02-07T12:40:32.903Z"
   },
   {
    "duration": 7,
    "start_time": "2024-02-07T12:40:32.922Z"
   },
   {
    "duration": 12,
    "start_time": "2024-02-07T12:40:32.931Z"
   },
   {
    "duration": 29,
    "start_time": "2024-02-07T12:40:32.945Z"
   },
   {
    "duration": 21,
    "start_time": "2024-02-07T12:40:32.975Z"
   },
   {
    "duration": 137,
    "start_time": "2024-02-07T12:40:32.997Z"
   },
   {
    "duration": 14,
    "start_time": "2024-02-07T12:40:33.135Z"
   },
   {
    "duration": 18,
    "start_time": "2024-02-07T12:40:33.151Z"
   },
   {
    "duration": 21,
    "start_time": "2024-02-07T12:40:33.170Z"
   },
   {
    "duration": 5,
    "start_time": "2024-02-07T12:40:33.193Z"
   },
   {
    "duration": 11,
    "start_time": "2024-02-07T12:40:33.199Z"
   },
   {
    "duration": 7,
    "start_time": "2024-02-07T12:40:33.212Z"
   },
   {
    "duration": 6,
    "start_time": "2024-02-07T12:40:33.220Z"
   },
   {
    "duration": 234,
    "start_time": "2024-02-07T12:40:33.228Z"
   },
   {
    "duration": 226,
    "start_time": "2024-02-07T12:40:33.463Z"
   },
   {
    "duration": 174,
    "start_time": "2024-02-07T12:40:33.690Z"
   },
   {
    "duration": 5,
    "start_time": "2024-02-07T12:40:33.867Z"
   },
   {
    "duration": 7,
    "start_time": "2024-02-07T12:40:33.886Z"
   },
   {
    "duration": 14,
    "start_time": "2024-02-07T12:40:33.895Z"
   },
   {
    "duration": 18,
    "start_time": "2024-02-07T12:40:33.911Z"
   },
   {
    "duration": 119,
    "start_time": "2024-02-07T12:40:33.930Z"
   },
   {
    "duration": 117,
    "start_time": "2024-02-07T12:40:34.051Z"
   },
   {
    "duration": 248,
    "start_time": "2024-02-07T12:40:46.569Z"
   },
   {
    "duration": 308,
    "start_time": "2024-02-07T12:40:56.699Z"
   },
   {
    "duration": 237,
    "start_time": "2024-02-07T12:41:06.461Z"
   },
   {
    "duration": 258,
    "start_time": "2024-02-07T12:41:20.621Z"
   },
   {
    "duration": 334,
    "start_time": "2024-02-07T13:02:05.616Z"
   },
   {
    "duration": 308,
    "start_time": "2024-02-07T13:26:42.509Z"
   },
   {
    "duration": 296,
    "start_time": "2024-02-07T13:26:51.782Z"
   },
   {
    "duration": 276,
    "start_time": "2024-02-07T13:27:07.010Z"
   },
   {
    "duration": 295,
    "start_time": "2024-02-07T13:27:11.373Z"
   },
   {
    "duration": 278,
    "start_time": "2024-02-07T13:28:09.708Z"
   },
   {
    "duration": 40,
    "start_time": "2024-02-07T14:13:00.551Z"
   },
   {
    "duration": 3,
    "start_time": "2024-02-07T14:14:41.508Z"
   },
   {
    "duration": 4,
    "start_time": "2024-02-07T14:14:51.058Z"
   },
   {
    "duration": 10,
    "start_time": "2024-02-07T14:15:05.853Z"
   },
   {
    "duration": 4,
    "start_time": "2024-02-07T14:15:22.073Z"
   },
   {
    "duration": 4,
    "start_time": "2024-02-07T14:16:22.313Z"
   },
   {
    "duration": 4,
    "start_time": "2024-02-07T14:16:23.510Z"
   },
   {
    "duration": 3,
    "start_time": "2024-02-07T14:16:24.177Z"
   },
   {
    "duration": 3,
    "start_time": "2024-02-07T14:16:24.815Z"
   },
   {
    "duration": 4,
    "start_time": "2024-02-07T14:16:25.463Z"
   },
   {
    "duration": 4,
    "start_time": "2024-02-07T14:16:26.053Z"
   },
   {
    "duration": 3,
    "start_time": "2024-02-07T14:16:26.636Z"
   },
   {
    "duration": 4,
    "start_time": "2024-02-07T14:16:27.493Z"
   },
   {
    "duration": 3,
    "start_time": "2024-02-07T14:16:28.178Z"
   },
   {
    "duration": 3,
    "start_time": "2024-02-07T14:16:28.711Z"
   },
   {
    "duration": 4,
    "start_time": "2024-02-07T14:16:29.253Z"
   },
   {
    "duration": 15,
    "start_time": "2024-02-07T14:21:04.336Z"
   },
   {
    "duration": 23,
    "start_time": "2024-02-07T14:21:20.560Z"
   },
   {
    "duration": 22,
    "start_time": "2024-02-07T14:21:26.178Z"
   },
   {
    "duration": 18,
    "start_time": "2024-02-07T14:21:28.479Z"
   },
   {
    "duration": 82,
    "start_time": "2024-02-07T14:29:51.255Z"
   },
   {
    "duration": 735,
    "start_time": "2024-02-07T14:30:01.110Z"
   },
   {
    "duration": 584,
    "start_time": "2024-02-07T14:30:12.893Z"
   },
   {
    "duration": 616,
    "start_time": "2024-02-07T14:30:58.268Z"
   },
   {
    "duration": 616,
    "start_time": "2024-02-07T14:31:14.189Z"
   },
   {
    "duration": 299,
    "start_time": "2024-02-07T14:31:28.473Z"
   },
   {
    "duration": 593,
    "start_time": "2024-02-07T14:31:38.073Z"
   },
   {
    "duration": 736,
    "start_time": "2024-02-07T14:32:03.892Z"
   },
   {
    "duration": 567,
    "start_time": "2024-02-07T14:37:02.395Z"
   },
   {
    "duration": 593,
    "start_time": "2024-02-07T14:37:09.375Z"
   },
   {
    "duration": 79,
    "start_time": "2024-02-07T14:40:38.077Z"
   },
   {
    "duration": 18,
    "start_time": "2024-02-07T14:58:02.312Z"
   },
   {
    "duration": 635,
    "start_time": "2024-02-07T14:58:16.501Z"
   },
   {
    "duration": 672,
    "start_time": "2024-02-07T14:58:24.296Z"
   },
   {
    "duration": 532,
    "start_time": "2024-02-07T15:12:08.403Z"
   },
   {
    "duration": 619,
    "start_time": "2024-02-07T15:16:25.208Z"
   },
   {
    "duration": 1086,
    "start_time": "2024-02-07T15:19:32.435Z"
   },
   {
    "duration": 68,
    "start_time": "2024-02-07T15:19:33.523Z"
   },
   {
    "duration": 11,
    "start_time": "2024-02-07T15:19:33.593Z"
   },
   {
    "duration": 62,
    "start_time": "2024-02-07T15:19:33.606Z"
   },
   {
    "duration": 33,
    "start_time": "2024-02-07T15:19:33.670Z"
   },
   {
    "duration": 14,
    "start_time": "2024-02-07T15:19:33.704Z"
   },
   {
    "duration": 19,
    "start_time": "2024-02-07T15:19:33.719Z"
   },
   {
    "duration": 10,
    "start_time": "2024-02-07T15:19:33.740Z"
   },
   {
    "duration": 20,
    "start_time": "2024-02-07T15:19:33.751Z"
   },
   {
    "duration": 29,
    "start_time": "2024-02-07T15:19:33.774Z"
   },
   {
    "duration": 25,
    "start_time": "2024-02-07T15:19:33.805Z"
   },
   {
    "duration": 19,
    "start_time": "2024-02-07T15:19:33.832Z"
   },
   {
    "duration": 41,
    "start_time": "2024-02-07T15:19:33.852Z"
   },
   {
    "duration": 42,
    "start_time": "2024-02-07T15:19:33.895Z"
   },
   {
    "duration": 27,
    "start_time": "2024-02-07T15:19:33.938Z"
   },
   {
    "duration": 10,
    "start_time": "2024-02-07T15:19:33.966Z"
   },
   {
    "duration": 32,
    "start_time": "2024-02-07T15:19:33.978Z"
   },
   {
    "duration": 24,
    "start_time": "2024-02-07T15:19:34.012Z"
   },
   {
    "duration": 25,
    "start_time": "2024-02-07T15:19:34.038Z"
   },
   {
    "duration": 19,
    "start_time": "2024-02-07T15:19:34.064Z"
   },
   {
    "duration": 37,
    "start_time": "2024-02-07T15:19:34.085Z"
   },
   {
    "duration": 7,
    "start_time": "2024-02-07T15:19:34.124Z"
   },
   {
    "duration": 155,
    "start_time": "2024-02-07T15:19:34.132Z"
   },
   {
    "duration": 15,
    "start_time": "2024-02-07T15:19:34.288Z"
   },
   {
    "duration": 18,
    "start_time": "2024-02-07T15:19:34.305Z"
   },
   {
    "duration": 9,
    "start_time": "2024-02-07T15:19:34.324Z"
   },
   {
    "duration": 39,
    "start_time": "2024-02-07T15:19:34.334Z"
   },
   {
    "duration": 21,
    "start_time": "2024-02-07T15:19:34.376Z"
   },
   {
    "duration": 172,
    "start_time": "2024-02-07T15:19:34.399Z"
   },
   {
    "duration": 17,
    "start_time": "2024-02-07T15:19:34.573Z"
   },
   {
    "duration": 3,
    "start_time": "2024-02-07T15:19:34.592Z"
   },
   {
    "duration": 13,
    "start_time": "2024-02-07T15:19:34.597Z"
   },
   {
    "duration": 3,
    "start_time": "2024-02-07T15:19:34.612Z"
   },
   {
    "duration": 4,
    "start_time": "2024-02-07T15:19:34.616Z"
   },
   {
    "duration": 14,
    "start_time": "2024-02-07T15:19:34.622Z"
   },
   {
    "duration": 4,
    "start_time": "2024-02-07T15:19:34.637Z"
   },
   {
    "duration": 241,
    "start_time": "2024-02-07T15:19:34.642Z"
   },
   {
    "duration": 224,
    "start_time": "2024-02-07T15:19:34.887Z"
   },
   {
    "duration": 174,
    "start_time": "2024-02-07T15:19:35.113Z"
   },
   {
    "duration": 4,
    "start_time": "2024-02-07T15:19:35.288Z"
   },
   {
    "duration": 6,
    "start_time": "2024-02-07T15:19:35.293Z"
   },
   {
    "duration": 7,
    "start_time": "2024-02-07T15:19:35.300Z"
   },
   {
    "duration": 5,
    "start_time": "2024-02-07T15:19:35.309Z"
   },
   {
    "duration": 120,
    "start_time": "2024-02-07T15:19:35.315Z"
   },
   {
    "duration": 255,
    "start_time": "2024-02-07T15:19:35.437Z"
   },
   {
    "duration": 398,
    "start_time": "2024-02-07T15:19:35.693Z"
   },
   {
    "duration": 269,
    "start_time": "2024-02-07T15:19:36.092Z"
   },
   {
    "duration": 44,
    "start_time": "2024-02-07T15:19:36.362Z"
   },
   {
    "duration": 4,
    "start_time": "2024-02-07T15:19:36.407Z"
   },
   {
    "duration": 27,
    "start_time": "2024-02-07T15:19:36.412Z"
   },
   {
    "duration": 16,
    "start_time": "2024-02-07T15:19:36.440Z"
   },
   {
    "duration": 601,
    "start_time": "2024-02-07T15:19:36.458Z"
   },
   {
    "duration": 689,
    "start_time": "2024-02-07T15:19:37.061Z"
   },
   {
    "duration": 488,
    "start_time": "2024-02-07T15:19:37.751Z"
   },
   {
    "duration": 1142,
    "start_time": "2024-02-07T15:19:51.150Z"
   },
   {
    "duration": 68,
    "start_time": "2024-02-07T15:19:52.294Z"
   },
   {
    "duration": 13,
    "start_time": "2024-02-07T15:19:52.363Z"
   },
   {
    "duration": 18,
    "start_time": "2024-02-07T15:19:52.379Z"
   },
   {
    "duration": 13,
    "start_time": "2024-02-07T15:19:52.399Z"
   },
   {
    "duration": 30,
    "start_time": "2024-02-07T15:19:52.414Z"
   },
   {
    "duration": 18,
    "start_time": "2024-02-07T15:19:52.446Z"
   },
   {
    "duration": 9,
    "start_time": "2024-02-07T15:19:52.466Z"
   },
   {
    "duration": 15,
    "start_time": "2024-02-07T15:19:52.476Z"
   },
   {
    "duration": 7,
    "start_time": "2024-02-07T15:19:52.493Z"
   },
   {
    "duration": 8,
    "start_time": "2024-02-07T15:19:52.502Z"
   },
   {
    "duration": 17,
    "start_time": "2024-02-07T15:19:52.512Z"
   },
   {
    "duration": 6,
    "start_time": "2024-02-07T15:19:52.531Z"
   },
   {
    "duration": 12,
    "start_time": "2024-02-07T15:19:52.538Z"
   },
   {
    "duration": 36,
    "start_time": "2024-02-07T15:19:52.552Z"
   },
   {
    "duration": 24,
    "start_time": "2024-02-07T15:19:52.590Z"
   },
   {
    "duration": 26,
    "start_time": "2024-02-07T15:19:52.616Z"
   },
   {
    "duration": 18,
    "start_time": "2024-02-07T15:19:52.644Z"
   },
   {
    "duration": 5,
    "start_time": "2024-02-07T15:19:52.664Z"
   },
   {
    "duration": 17,
    "start_time": "2024-02-07T15:19:52.671Z"
   },
   {
    "duration": 30,
    "start_time": "2024-02-07T15:19:52.690Z"
   },
   {
    "duration": 7,
    "start_time": "2024-02-07T15:19:52.721Z"
   },
   {
    "duration": 149,
    "start_time": "2024-02-07T15:19:52.729Z"
   },
   {
    "duration": 20,
    "start_time": "2024-02-07T15:19:52.880Z"
   },
   {
    "duration": 6,
    "start_time": "2024-02-07T15:19:52.901Z"
   },
   {
    "duration": 15,
    "start_time": "2024-02-07T15:19:52.909Z"
   },
   {
    "duration": 14,
    "start_time": "2024-02-07T15:19:52.926Z"
   },
   {
    "duration": 39,
    "start_time": "2024-02-07T15:19:52.943Z"
   },
   {
    "duration": 131,
    "start_time": "2024-02-07T15:19:52.984Z"
   },
   {
    "duration": 13,
    "start_time": "2024-02-07T15:19:53.117Z"
   },
   {
    "duration": 6,
    "start_time": "2024-02-07T15:19:53.132Z"
   },
   {
    "duration": 15,
    "start_time": "2024-02-07T15:19:53.139Z"
   },
   {
    "duration": 4,
    "start_time": "2024-02-07T15:19:53.155Z"
   },
   {
    "duration": 26,
    "start_time": "2024-02-07T15:19:53.161Z"
   },
   {
    "duration": 19,
    "start_time": "2024-02-07T15:19:53.189Z"
   },
   {
    "duration": 7,
    "start_time": "2024-02-07T15:19:53.210Z"
   },
   {
    "duration": 232,
    "start_time": "2024-02-07T15:19:53.218Z"
   },
   {
    "duration": 223,
    "start_time": "2024-02-07T15:19:53.452Z"
   },
   {
    "duration": 184,
    "start_time": "2024-02-07T15:19:53.677Z"
   },
   {
    "duration": 6,
    "start_time": "2024-02-07T15:19:53.863Z"
   },
   {
    "duration": 5,
    "start_time": "2024-02-07T15:19:53.887Z"
   },
   {
    "duration": 10,
    "start_time": "2024-02-07T15:19:53.894Z"
   },
   {
    "duration": 7,
    "start_time": "2024-02-07T15:19:53.905Z"
   },
   {
    "duration": 108,
    "start_time": "2024-02-07T15:19:53.913Z"
   },
   {
    "duration": 265,
    "start_time": "2024-02-07T15:19:54.023Z"
   },
   {
    "duration": 419,
    "start_time": "2024-02-07T15:19:54.289Z"
   },
   {
    "duration": 267,
    "start_time": "2024-02-07T15:19:54.709Z"
   },
   {
    "duration": 39,
    "start_time": "2024-02-07T15:19:54.977Z"
   },
   {
    "duration": 3,
    "start_time": "2024-02-07T15:19:55.018Z"
   },
   {
    "duration": 36,
    "start_time": "2024-02-07T15:19:55.022Z"
   },
   {
    "duration": 17,
    "start_time": "2024-02-07T15:19:55.059Z"
   },
   {
    "duration": 596,
    "start_time": "2024-02-07T15:19:55.086Z"
   },
   {
    "duration": 663,
    "start_time": "2024-02-07T15:19:55.687Z"
   },
   {
    "duration": 493,
    "start_time": "2024-02-07T15:19:56.352Z"
   },
   {
    "duration": 99,
    "start_time": "2024-02-07T15:35:36.993Z"
   },
   {
    "duration": 635,
    "start_time": "2024-02-07T15:35:46.217Z"
   },
   {
    "duration": 27,
    "start_time": "2024-02-07T16:01:43.753Z"
   },
   {
    "duration": 27,
    "start_time": "2024-02-07T16:01:53.170Z"
   },
   {
    "duration": 1019,
    "start_time": "2024-02-07T16:09:30.881Z"
   },
   {
    "duration": 998,
    "start_time": "2024-02-07T16:09:42.742Z"
   },
   {
    "duration": 31,
    "start_time": "2024-02-07T16:10:09.894Z"
   },
   {
    "duration": 25,
    "start_time": "2024-02-07T16:10:13.209Z"
   },
   {
    "duration": 8,
    "start_time": "2024-02-07T16:12:10.911Z"
   },
   {
    "duration": 7,
    "start_time": "2024-02-07T16:12:19.734Z"
   },
   {
    "duration": 7,
    "start_time": "2024-02-07T21:38:20.965Z"
   },
   {
    "duration": 5,
    "start_time": "2024-02-07T23:02:15.631Z"
   },
   {
    "duration": 4,
    "start_time": "2024-02-07T23:02:37.417Z"
   },
   {
    "duration": 5,
    "start_time": "2024-02-07T23:02:41.455Z"
   },
   {
    "duration": 4,
    "start_time": "2024-02-07T23:02:50.118Z"
   },
   {
    "duration": 5,
    "start_time": "2024-02-07T23:03:01.018Z"
   },
   {
    "duration": 1331,
    "start_time": "2024-02-08T05:01:54.615Z"
   },
   {
    "duration": 185,
    "start_time": "2024-02-08T05:01:55.948Z"
   },
   {
    "duration": 12,
    "start_time": "2024-02-08T05:01:56.135Z"
   },
   {
    "duration": 10,
    "start_time": "2024-02-08T05:01:56.148Z"
   },
   {
    "duration": 6,
    "start_time": "2024-02-08T05:01:56.160Z"
   },
   {
    "duration": 13,
    "start_time": "2024-02-08T05:01:56.167Z"
   },
   {
    "duration": 14,
    "start_time": "2024-02-08T05:01:56.181Z"
   },
   {
    "duration": 39,
    "start_time": "2024-02-08T05:01:56.197Z"
   },
   {
    "duration": 11,
    "start_time": "2024-02-08T05:01:56.238Z"
   },
   {
    "duration": 7,
    "start_time": "2024-02-08T05:01:56.251Z"
   },
   {
    "duration": 12,
    "start_time": "2024-02-08T05:01:56.259Z"
   },
   {
    "duration": 27,
    "start_time": "2024-02-08T05:01:56.273Z"
   },
   {
    "duration": 31,
    "start_time": "2024-02-08T05:01:56.302Z"
   },
   {
    "duration": 10,
    "start_time": "2024-02-08T05:01:56.337Z"
   },
   {
    "duration": 21,
    "start_time": "2024-02-08T05:01:56.348Z"
   },
   {
    "duration": 7,
    "start_time": "2024-02-08T05:01:56.370Z"
   },
   {
    "duration": 15,
    "start_time": "2024-02-08T05:01:56.378Z"
   },
   {
    "duration": 13,
    "start_time": "2024-02-08T05:01:56.394Z"
   },
   {
    "duration": 5,
    "start_time": "2024-02-08T05:01:56.408Z"
   },
   {
    "duration": 5,
    "start_time": "2024-02-08T05:01:56.433Z"
   },
   {
    "duration": 19,
    "start_time": "2024-02-08T05:01:56.440Z"
   },
   {
    "duration": 7,
    "start_time": "2024-02-08T05:01:56.460Z"
   },
   {
    "duration": 167,
    "start_time": "2024-02-08T05:01:56.468Z"
   },
   {
    "duration": 15,
    "start_time": "2024-02-08T05:01:56.637Z"
   },
   {
    "duration": 6,
    "start_time": "2024-02-08T05:01:56.653Z"
   },
   {
    "duration": 5,
    "start_time": "2024-02-08T05:01:56.660Z"
   },
   {
    "duration": 7,
    "start_time": "2024-02-08T05:01:56.666Z"
   },
   {
    "duration": 11,
    "start_time": "2024-02-08T05:01:56.674Z"
   },
   {
    "duration": 166,
    "start_time": "2024-02-08T05:01:56.687Z"
   },
   {
    "duration": 13,
    "start_time": "2024-02-08T05:01:56.854Z"
   },
   {
    "duration": 10,
    "start_time": "2024-02-08T05:01:56.868Z"
   },
   {
    "duration": 15,
    "start_time": "2024-02-08T05:01:56.879Z"
   },
   {
    "duration": 3,
    "start_time": "2024-02-08T05:01:56.896Z"
   },
   {
    "duration": 34,
    "start_time": "2024-02-08T05:01:56.900Z"
   },
   {
    "duration": 7,
    "start_time": "2024-02-08T05:01:56.936Z"
   },
   {
    "duration": 4,
    "start_time": "2024-02-08T05:01:56.944Z"
   },
   {
    "duration": 248,
    "start_time": "2024-02-08T05:01:56.950Z"
   },
   {
    "duration": 214,
    "start_time": "2024-02-08T05:01:57.200Z"
   },
   {
    "duration": 165,
    "start_time": "2024-02-08T05:01:57.416Z"
   },
   {
    "duration": 4,
    "start_time": "2024-02-08T05:01:57.583Z"
   },
   {
    "duration": 5,
    "start_time": "2024-02-08T05:01:57.591Z"
   },
   {
    "duration": 9,
    "start_time": "2024-02-08T05:01:57.597Z"
   },
   {
    "duration": 26,
    "start_time": "2024-02-08T05:01:57.608Z"
   },
   {
    "duration": 122,
    "start_time": "2024-02-08T05:01:57.636Z"
   },
   {
    "duration": 258,
    "start_time": "2024-02-08T05:01:57.760Z"
   },
   {
    "duration": 387,
    "start_time": "2024-02-08T05:01:58.019Z"
   },
   {
    "duration": 260,
    "start_time": "2024-02-08T05:01:58.408Z"
   },
   {
    "duration": 37,
    "start_time": "2024-02-08T05:01:58.669Z"
   },
   {
    "duration": 4,
    "start_time": "2024-02-08T05:01:58.707Z"
   },
   {
    "duration": 36,
    "start_time": "2024-02-08T05:01:58.713Z"
   },
   {
    "duration": 17,
    "start_time": "2024-02-08T05:01:58.751Z"
   },
   {
    "duration": 649,
    "start_time": "2024-02-08T05:01:58.770Z"
   },
   {
    "duration": 669,
    "start_time": "2024-02-08T05:01:59.420Z"
   },
   {
    "duration": 489,
    "start_time": "2024-02-08T05:02:00.091Z"
   },
   {
    "duration": 599,
    "start_time": "2024-02-08T05:02:00.582Z"
   },
   {
    "duration": 31,
    "start_time": "2024-02-08T05:02:01.183Z"
   },
   {
    "duration": 22,
    "start_time": "2024-02-08T05:02:01.216Z"
   },
   {
    "duration": 32,
    "start_time": "2024-02-08T05:02:01.240Z"
   },
   {
    "duration": 37,
    "start_time": "2024-02-08T05:02:01.274Z"
   },
   {
    "duration": 34,
    "start_time": "2024-02-08T05:02:01.312Z"
   },
   {
    "duration": 5,
    "start_time": "2024-02-08T06:00:30.913Z"
   },
   {
    "duration": 4,
    "start_time": "2024-02-08T06:05:03.671Z"
   },
   {
    "duration": 10,
    "start_time": "2024-02-08T06:14:08.875Z"
   },
   {
    "duration": 108,
    "start_time": "2024-02-08T06:14:34.154Z"
   },
   {
    "duration": 10,
    "start_time": "2024-02-08T06:15:05.204Z"
   },
   {
    "duration": 8,
    "start_time": "2024-02-08T06:22:30.354Z"
   },
   {
    "duration": 1159,
    "start_time": "2024-02-08T07:52:38.867Z"
   },
   {
    "duration": 185,
    "start_time": "2024-02-08T07:52:40.027Z"
   },
   {
    "duration": 11,
    "start_time": "2024-02-08T07:52:40.213Z"
   },
   {
    "duration": 10,
    "start_time": "2024-02-08T07:52:40.226Z"
   },
   {
    "duration": 17,
    "start_time": "2024-02-08T07:52:40.237Z"
   },
   {
    "duration": 11,
    "start_time": "2024-02-08T07:52:40.255Z"
   },
   {
    "duration": 12,
    "start_time": "2024-02-08T07:52:40.267Z"
   },
   {
    "duration": 6,
    "start_time": "2024-02-08T07:52:40.281Z"
   },
   {
    "duration": 29,
    "start_time": "2024-02-08T07:52:40.289Z"
   },
   {
    "duration": 7,
    "start_time": "2024-02-08T07:52:40.320Z"
   },
   {
    "duration": 7,
    "start_time": "2024-02-08T07:52:40.328Z"
   },
   {
    "duration": 28,
    "start_time": "2024-02-08T07:52:40.337Z"
   },
   {
    "duration": 6,
    "start_time": "2024-02-08T07:52:40.366Z"
   },
   {
    "duration": 13,
    "start_time": "2024-02-08T07:52:40.373Z"
   },
   {
    "duration": 7,
    "start_time": "2024-02-08T07:52:40.387Z"
   },
   {
    "duration": 4,
    "start_time": "2024-02-08T07:52:40.395Z"
   },
   {
    "duration": 15,
    "start_time": "2024-02-08T07:52:40.401Z"
   },
   {
    "duration": 35,
    "start_time": "2024-02-08T07:52:40.417Z"
   },
   {
    "duration": 5,
    "start_time": "2024-02-08T07:52:40.453Z"
   },
   {
    "duration": 9,
    "start_time": "2024-02-08T07:52:40.459Z"
   },
   {
    "duration": 16,
    "start_time": "2024-02-08T07:52:40.469Z"
   },
   {
    "duration": 7,
    "start_time": "2024-02-08T07:52:40.487Z"
   },
   {
    "duration": 158,
    "start_time": "2024-02-08T07:52:40.495Z"
   },
   {
    "duration": 13,
    "start_time": "2024-02-08T07:52:40.655Z"
   },
   {
    "duration": 5,
    "start_time": "2024-02-08T07:52:40.670Z"
   },
   {
    "duration": 9,
    "start_time": "2024-02-08T07:52:40.676Z"
   },
   {
    "duration": 31,
    "start_time": "2024-02-08T07:52:40.686Z"
   },
   {
    "duration": 53,
    "start_time": "2024-02-08T07:52:40.720Z"
   },
   {
    "duration": 125,
    "start_time": "2024-02-08T07:52:40.775Z"
   },
   {
    "duration": 13,
    "start_time": "2024-02-08T07:52:40.901Z"
   },
   {
    "duration": 11,
    "start_time": "2024-02-08T07:52:40.915Z"
   },
   {
    "duration": 15,
    "start_time": "2024-02-08T07:52:40.927Z"
   },
   {
    "duration": 9,
    "start_time": "2024-02-08T07:52:40.943Z"
   },
   {
    "duration": 3,
    "start_time": "2024-02-08T07:52:40.953Z"
   },
   {
    "duration": 6,
    "start_time": "2024-02-08T07:52:40.957Z"
   },
   {
    "duration": 4,
    "start_time": "2024-02-08T07:52:40.964Z"
   },
   {
    "duration": 205,
    "start_time": "2024-02-08T07:52:40.970Z"
   },
   {
    "duration": 206,
    "start_time": "2024-02-08T07:52:41.177Z"
   },
   {
    "duration": 159,
    "start_time": "2024-02-08T07:52:41.384Z"
   },
   {
    "duration": 11,
    "start_time": "2024-02-08T07:52:41.544Z"
   },
   {
    "duration": 27,
    "start_time": "2024-02-08T07:52:41.556Z"
   },
   {
    "duration": 7,
    "start_time": "2024-02-08T07:52:41.585Z"
   },
   {
    "duration": 22,
    "start_time": "2024-02-08T07:52:41.594Z"
   },
   {
    "duration": 108,
    "start_time": "2024-02-08T07:52:41.618Z"
   },
   {
    "duration": 231,
    "start_time": "2024-02-08T07:52:41.727Z"
   },
   {
    "duration": 357,
    "start_time": "2024-02-08T07:52:41.959Z"
   },
   {
    "duration": 251,
    "start_time": "2024-02-08T07:52:42.317Z"
   },
   {
    "duration": 33,
    "start_time": "2024-02-08T07:52:42.570Z"
   },
   {
    "duration": 4,
    "start_time": "2024-02-08T07:52:42.605Z"
   },
   {
    "duration": 43,
    "start_time": "2024-02-08T07:52:42.610Z"
   },
   {
    "duration": 17,
    "start_time": "2024-02-08T07:52:42.655Z"
   },
   {
    "duration": 572,
    "start_time": "2024-02-08T07:52:42.674Z"
   },
   {
    "duration": 614,
    "start_time": "2024-02-08T07:52:43.247Z"
   },
   {
    "duration": 530,
    "start_time": "2024-02-08T07:52:43.862Z"
   },
   {
    "duration": 592,
    "start_time": "2024-02-08T07:52:44.394Z"
   },
   {
    "duration": 29,
    "start_time": "2024-02-08T07:52:44.988Z"
   },
   {
    "duration": 22,
    "start_time": "2024-02-08T07:52:45.019Z"
   },
   {
    "duration": 44,
    "start_time": "2024-02-08T07:52:45.043Z"
   },
   {
    "duration": 34,
    "start_time": "2024-02-08T07:52:45.089Z"
   },
   {
    "duration": 7,
    "start_time": "2024-02-08T07:52:45.125Z"
   },
   {
    "duration": 36,
    "start_time": "2024-02-08T07:52:45.134Z"
   },
   {
    "duration": 21,
    "start_time": "2024-02-08T07:52:45.171Z"
   },
   {
    "duration": 25,
    "start_time": "2024-02-08T07:52:45.194Z"
   },
   {
    "duration": 13,
    "start_time": "2024-02-08T07:52:45.220Z"
   },
   {
    "duration": 103,
    "start_time": "2024-02-08T08:00:32.904Z"
   },
   {
    "duration": 18,
    "start_time": "2024-02-08T08:00:44.771Z"
   },
   {
    "duration": 6,
    "start_time": "2024-02-08T08:00:53.088Z"
   },
   {
    "duration": 1107,
    "start_time": "2024-02-08T08:02:42.721Z"
   },
   {
    "duration": 67,
    "start_time": "2024-02-08T08:02:43.830Z"
   },
   {
    "duration": 12,
    "start_time": "2024-02-08T08:02:43.899Z"
   },
   {
    "duration": 26,
    "start_time": "2024-02-08T08:02:43.913Z"
   },
   {
    "duration": 8,
    "start_time": "2024-02-08T08:02:43.941Z"
   },
   {
    "duration": 18,
    "start_time": "2024-02-08T08:02:43.951Z"
   },
   {
    "duration": 24,
    "start_time": "2024-02-08T08:02:43.971Z"
   },
   {
    "duration": 8,
    "start_time": "2024-02-08T08:02:43.997Z"
   },
   {
    "duration": 30,
    "start_time": "2024-02-08T08:02:44.007Z"
   },
   {
    "duration": 13,
    "start_time": "2024-02-08T08:02:44.040Z"
   },
   {
    "duration": 12,
    "start_time": "2024-02-08T08:02:44.055Z"
   },
   {
    "duration": 27,
    "start_time": "2024-02-08T08:02:44.069Z"
   },
   {
    "duration": 9,
    "start_time": "2024-02-08T08:02:44.098Z"
   },
   {
    "duration": 21,
    "start_time": "2024-02-08T08:02:44.108Z"
   },
   {
    "duration": 29,
    "start_time": "2024-02-08T08:02:44.130Z"
   },
   {
    "duration": 19,
    "start_time": "2024-02-08T08:02:44.161Z"
   },
   {
    "duration": 46,
    "start_time": "2024-02-08T08:02:44.181Z"
   },
   {
    "duration": 19,
    "start_time": "2024-02-08T08:02:44.228Z"
   },
   {
    "duration": 5,
    "start_time": "2024-02-08T08:02:44.248Z"
   },
   {
    "duration": 15,
    "start_time": "2024-02-08T08:02:44.254Z"
   },
   {
    "duration": 32,
    "start_time": "2024-02-08T08:02:44.270Z"
   },
   {
    "duration": 26,
    "start_time": "2024-02-08T08:02:44.305Z"
   },
   {
    "duration": 167,
    "start_time": "2024-02-08T08:02:44.333Z"
   },
   {
    "duration": 14,
    "start_time": "2024-02-08T08:02:44.501Z"
   },
   {
    "duration": 5,
    "start_time": "2024-02-08T08:02:44.517Z"
   },
   {
    "duration": 27,
    "start_time": "2024-02-08T08:02:44.524Z"
   },
   {
    "duration": 17,
    "start_time": "2024-02-08T08:02:44.552Z"
   },
   {
    "duration": 16,
    "start_time": "2024-02-08T08:02:44.572Z"
   },
   {
    "duration": 120,
    "start_time": "2024-02-08T08:02:44.589Z"
   },
   {
    "duration": 13,
    "start_time": "2024-02-08T08:02:44.711Z"
   },
   {
    "duration": 9,
    "start_time": "2024-02-08T08:02:44.725Z"
   },
   {
    "duration": 23,
    "start_time": "2024-02-08T08:02:44.736Z"
   },
   {
    "duration": 3,
    "start_time": "2024-02-08T08:02:44.761Z"
   },
   {
    "duration": 13,
    "start_time": "2024-02-08T08:02:44.765Z"
   },
   {
    "duration": 22,
    "start_time": "2024-02-08T08:02:44.780Z"
   },
   {
    "duration": 17,
    "start_time": "2024-02-08T08:02:44.803Z"
   },
   {
    "duration": 213,
    "start_time": "2024-02-08T08:02:44.821Z"
   },
   {
    "duration": 232,
    "start_time": "2024-02-08T08:02:45.036Z"
   },
   {
    "duration": 166,
    "start_time": "2024-02-08T08:02:45.270Z"
   },
   {
    "duration": 15,
    "start_time": "2024-02-08T08:02:45.438Z"
   },
   {
    "duration": 25,
    "start_time": "2024-02-08T08:02:45.454Z"
   },
   {
    "duration": 29,
    "start_time": "2024-02-08T08:02:45.480Z"
   },
   {
    "duration": 21,
    "start_time": "2024-02-08T08:02:45.511Z"
   },
   {
    "duration": 110,
    "start_time": "2024-02-08T08:02:45.534Z"
   },
   {
    "duration": 242,
    "start_time": "2024-02-08T08:02:45.651Z"
   },
   {
    "duration": 361,
    "start_time": "2024-02-08T08:02:45.895Z"
   },
   {
    "duration": 266,
    "start_time": "2024-02-08T08:02:46.259Z"
   },
   {
    "duration": 45,
    "start_time": "2024-02-08T08:02:46.527Z"
   },
   {
    "duration": 4,
    "start_time": "2024-02-08T08:02:46.574Z"
   },
   {
    "duration": 52,
    "start_time": "2024-02-08T08:02:46.580Z"
   },
   {
    "duration": 16,
    "start_time": "2024-02-08T08:02:46.633Z"
   },
   {
    "duration": 588,
    "start_time": "2024-02-08T08:02:46.651Z"
   },
   {
    "duration": 639,
    "start_time": "2024-02-08T08:02:47.241Z"
   },
   {
    "duration": 498,
    "start_time": "2024-02-08T08:02:47.882Z"
   },
   {
    "duration": 648,
    "start_time": "2024-02-08T08:02:48.382Z"
   },
   {
    "duration": 40,
    "start_time": "2024-02-08T08:02:49.032Z"
   },
   {
    "duration": 34,
    "start_time": "2024-02-08T08:02:49.074Z"
   },
   {
    "duration": 9,
    "start_time": "2024-02-08T08:02:49.110Z"
   },
   {
    "duration": 5,
    "start_time": "2024-02-08T08:02:49.121Z"
   },
   {
    "duration": 24,
    "start_time": "2024-02-08T08:02:49.128Z"
   },
   {
    "duration": 5,
    "start_time": "2024-02-08T08:02:49.154Z"
   },
   {
    "duration": 20,
    "start_time": "2024-02-08T08:02:49.161Z"
   },
   {
    "duration": 22,
    "start_time": "2024-02-08T08:02:49.183Z"
   },
   {
    "duration": 14,
    "start_time": "2024-02-08T08:02:49.207Z"
   },
   {
    "duration": 5,
    "start_time": "2024-02-08T08:11:11.977Z"
   },
   {
    "duration": 4,
    "start_time": "2024-02-08T08:11:35.973Z"
   },
   {
    "duration": 5,
    "start_time": "2024-02-08T08:12:16.455Z"
   },
   {
    "duration": 5,
    "start_time": "2024-02-08T08:12:20.032Z"
   },
   {
    "duration": 5,
    "start_time": "2024-02-08T08:12:27.593Z"
   },
   {
    "duration": 5,
    "start_time": "2024-02-08T08:12:31.244Z"
   },
   {
    "duration": 5,
    "start_time": "2024-02-08T08:13:37.376Z"
   },
   {
    "duration": 1135,
    "start_time": "2024-02-08T08:13:44.336Z"
   },
   {
    "duration": 68,
    "start_time": "2024-02-08T08:13:45.473Z"
   },
   {
    "duration": 11,
    "start_time": "2024-02-08T08:13:45.542Z"
   },
   {
    "duration": 13,
    "start_time": "2024-02-08T08:13:45.555Z"
   },
   {
    "duration": 21,
    "start_time": "2024-02-08T08:13:45.570Z"
   },
   {
    "duration": 15,
    "start_time": "2024-02-08T08:13:45.593Z"
   },
   {
    "duration": 16,
    "start_time": "2024-02-08T08:13:45.610Z"
   },
   {
    "duration": 13,
    "start_time": "2024-02-08T08:13:45.627Z"
   },
   {
    "duration": 12,
    "start_time": "2024-02-08T08:13:45.641Z"
   },
   {
    "duration": 7,
    "start_time": "2024-02-08T08:13:45.656Z"
   },
   {
    "duration": 11,
    "start_time": "2024-02-08T08:13:45.665Z"
   },
   {
    "duration": 22,
    "start_time": "2024-02-08T08:13:45.677Z"
   },
   {
    "duration": 35,
    "start_time": "2024-02-08T08:13:45.700Z"
   },
   {
    "duration": 14,
    "start_time": "2024-02-08T08:13:45.736Z"
   },
   {
    "duration": 17,
    "start_time": "2024-02-08T08:13:45.752Z"
   },
   {
    "duration": 7,
    "start_time": "2024-02-08T08:13:45.771Z"
   },
   {
    "duration": 27,
    "start_time": "2024-02-08T08:13:45.780Z"
   },
   {
    "duration": 30,
    "start_time": "2024-02-08T08:13:45.813Z"
   },
   {
    "duration": 27,
    "start_time": "2024-02-08T08:13:45.844Z"
   },
   {
    "duration": 24,
    "start_time": "2024-02-08T08:13:45.873Z"
   },
   {
    "duration": 36,
    "start_time": "2024-02-08T08:13:45.898Z"
   },
   {
    "duration": 12,
    "start_time": "2024-02-08T08:13:45.935Z"
   },
   {
    "duration": 178,
    "start_time": "2024-02-08T08:13:45.949Z"
   },
   {
    "duration": 16,
    "start_time": "2024-02-08T08:13:46.132Z"
   },
   {
    "duration": 6,
    "start_time": "2024-02-08T08:13:46.149Z"
   },
   {
    "duration": 4,
    "start_time": "2024-02-08T08:13:46.156Z"
   },
   {
    "duration": 14,
    "start_time": "2024-02-08T08:13:46.161Z"
   },
   {
    "duration": 12,
    "start_time": "2024-02-08T08:13:46.178Z"
   },
   {
    "duration": 143,
    "start_time": "2024-02-08T08:13:46.192Z"
   },
   {
    "duration": 14,
    "start_time": "2024-02-08T08:13:46.337Z"
   },
   {
    "duration": 3,
    "start_time": "2024-02-08T08:13:46.353Z"
   },
   {
    "duration": 19,
    "start_time": "2024-02-08T08:13:46.358Z"
   },
   {
    "duration": 4,
    "start_time": "2024-02-08T08:13:46.378Z"
   },
   {
    "duration": 20,
    "start_time": "2024-02-08T08:13:46.383Z"
   },
   {
    "duration": 6,
    "start_time": "2024-02-08T08:13:46.404Z"
   },
   {
    "duration": 5,
    "start_time": "2024-02-08T08:13:46.412Z"
   },
   {
    "duration": 210,
    "start_time": "2024-02-08T08:13:46.432Z"
   },
   {
    "duration": 226,
    "start_time": "2024-02-08T08:13:46.643Z"
   },
   {
    "duration": 157,
    "start_time": "2024-02-08T08:13:46.871Z"
   },
   {
    "duration": 4,
    "start_time": "2024-02-08T08:13:47.030Z"
   },
   {
    "duration": 6,
    "start_time": "2024-02-08T08:13:47.035Z"
   },
   {
    "duration": 4,
    "start_time": "2024-02-08T08:13:47.043Z"
   },
   {
    "duration": 6,
    "start_time": "2024-02-08T08:13:47.048Z"
   },
   {
    "duration": 110,
    "start_time": "2024-02-08T08:13:47.056Z"
   },
   {
    "duration": 248,
    "start_time": "2024-02-08T08:13:47.167Z"
   },
   {
    "duration": 372,
    "start_time": "2024-02-08T08:13:47.417Z"
   },
   {
    "duration": 260,
    "start_time": "2024-02-08T08:13:47.791Z"
   },
   {
    "duration": 40,
    "start_time": "2024-02-08T08:13:48.053Z"
   },
   {
    "duration": 7,
    "start_time": "2024-02-08T08:13:48.095Z"
   },
   {
    "duration": 45,
    "start_time": "2024-02-08T08:13:48.106Z"
   },
   {
    "duration": 17,
    "start_time": "2024-02-08T08:13:48.153Z"
   },
   {
    "duration": 537,
    "start_time": "2024-02-08T08:13:48.172Z"
   },
   {
    "duration": 667,
    "start_time": "2024-02-08T08:13:48.710Z"
   },
   {
    "duration": 485,
    "start_time": "2024-02-08T08:13:49.379Z"
   },
   {
    "duration": 640,
    "start_time": "2024-02-08T08:13:49.865Z"
   },
   {
    "duration": 31,
    "start_time": "2024-02-08T08:13:50.507Z"
   },
   {
    "duration": 19,
    "start_time": "2024-02-08T08:13:50.540Z"
   },
   {
    "duration": 7,
    "start_time": "2024-02-08T08:13:50.561Z"
   },
   {
    "duration": 11,
    "start_time": "2024-02-08T08:13:50.570Z"
   },
   {
    "duration": 4,
    "start_time": "2024-02-08T08:13:50.583Z"
   },
   {
    "duration": 18,
    "start_time": "2024-02-08T08:13:50.588Z"
   },
   {
    "duration": 9,
    "start_time": "2024-02-08T08:13:50.608Z"
   },
   {
    "duration": 23,
    "start_time": "2024-02-08T08:13:50.619Z"
   },
   {
    "duration": 7,
    "start_time": "2024-02-08T08:13:50.644Z"
   },
   {
    "duration": 5,
    "start_time": "2024-02-08T08:14:13.249Z"
   },
   {
    "duration": 1096,
    "start_time": "2024-02-08T08:21:25.961Z"
   },
   {
    "duration": 65,
    "start_time": "2024-02-08T08:21:27.059Z"
   },
   {
    "duration": 14,
    "start_time": "2024-02-08T08:21:27.126Z"
   },
   {
    "duration": 22,
    "start_time": "2024-02-08T08:21:27.143Z"
   },
   {
    "duration": 26,
    "start_time": "2024-02-08T08:21:27.168Z"
   },
   {
    "duration": 12,
    "start_time": "2024-02-08T08:21:27.196Z"
   },
   {
    "duration": 21,
    "start_time": "2024-02-08T08:21:27.209Z"
   },
   {
    "duration": 18,
    "start_time": "2024-02-08T08:21:27.232Z"
   },
   {
    "duration": 24,
    "start_time": "2024-02-08T08:21:27.251Z"
   },
   {
    "duration": 31,
    "start_time": "2024-02-08T08:21:27.278Z"
   },
   {
    "duration": 43,
    "start_time": "2024-02-08T08:21:27.311Z"
   },
   {
    "duration": 21,
    "start_time": "2024-02-08T08:21:27.357Z"
   },
   {
    "duration": 11,
    "start_time": "2024-02-08T08:21:27.380Z"
   },
   {
    "duration": 27,
    "start_time": "2024-02-08T08:21:27.392Z"
   },
   {
    "duration": 9,
    "start_time": "2024-02-08T08:21:27.420Z"
   },
   {
    "duration": 13,
    "start_time": "2024-02-08T08:21:27.431Z"
   },
   {
    "duration": 38,
    "start_time": "2024-02-08T08:21:27.445Z"
   },
   {
    "duration": 16,
    "start_time": "2024-02-08T08:21:27.485Z"
   },
   {
    "duration": 8,
    "start_time": "2024-02-08T08:21:27.502Z"
   },
   {
    "duration": 26,
    "start_time": "2024-02-08T08:21:27.511Z"
   },
   {
    "duration": 27,
    "start_time": "2024-02-08T08:21:27.538Z"
   },
   {
    "duration": 17,
    "start_time": "2024-02-08T08:21:27.567Z"
   },
   {
    "duration": 154,
    "start_time": "2024-02-08T08:21:27.585Z"
   },
   {
    "duration": 25,
    "start_time": "2024-02-08T08:21:27.741Z"
   },
   {
    "duration": 7,
    "start_time": "2024-02-08T08:21:27.768Z"
   },
   {
    "duration": 29,
    "start_time": "2024-02-08T08:21:27.777Z"
   },
   {
    "duration": 20,
    "start_time": "2024-02-08T08:21:27.808Z"
   },
   {
    "duration": 18,
    "start_time": "2024-02-08T08:21:27.834Z"
   },
   {
    "duration": 145,
    "start_time": "2024-02-08T08:21:27.854Z"
   },
   {
    "duration": 15,
    "start_time": "2024-02-08T08:21:28.001Z"
   },
   {
    "duration": 8,
    "start_time": "2024-02-08T08:21:28.017Z"
   },
   {
    "duration": 32,
    "start_time": "2024-02-08T08:21:28.027Z"
   },
   {
    "duration": 5,
    "start_time": "2024-02-08T08:21:28.061Z"
   },
   {
    "duration": 13,
    "start_time": "2024-02-08T08:21:28.067Z"
   },
   {
    "duration": 12,
    "start_time": "2024-02-08T08:21:28.082Z"
   },
   {
    "duration": 9,
    "start_time": "2024-02-08T08:21:28.096Z"
   },
   {
    "duration": 236,
    "start_time": "2024-02-08T08:21:28.107Z"
   },
   {
    "duration": 212,
    "start_time": "2024-02-08T08:21:28.345Z"
   },
   {
    "duration": 167,
    "start_time": "2024-02-08T08:21:28.558Z"
   },
   {
    "duration": 4,
    "start_time": "2024-02-08T08:21:28.726Z"
   },
   {
    "duration": 20,
    "start_time": "2024-02-08T08:21:28.731Z"
   },
   {
    "duration": 6,
    "start_time": "2024-02-08T08:21:28.752Z"
   },
   {
    "duration": 4,
    "start_time": "2024-02-08T08:21:28.760Z"
   },
   {
    "duration": 107,
    "start_time": "2024-02-08T08:21:28.765Z"
   },
   {
    "duration": 247,
    "start_time": "2024-02-08T08:21:28.874Z"
   },
   {
    "duration": 403,
    "start_time": "2024-02-08T08:21:29.122Z"
   },
   {
    "duration": 273,
    "start_time": "2024-02-08T08:21:29.527Z"
   },
   {
    "duration": 32,
    "start_time": "2024-02-08T08:21:29.801Z"
   },
   {
    "duration": 4,
    "start_time": "2024-02-08T08:21:29.834Z"
   },
   {
    "duration": 22,
    "start_time": "2024-02-08T08:21:29.853Z"
   },
   {
    "duration": 18,
    "start_time": "2024-02-08T08:21:29.876Z"
   },
   {
    "duration": 622,
    "start_time": "2024-02-08T08:21:29.896Z"
   },
   {
    "duration": 696,
    "start_time": "2024-02-08T08:21:30.520Z"
   },
   {
    "duration": 477,
    "start_time": "2024-02-08T08:21:31.218Z"
   },
   {
    "duration": 609,
    "start_time": "2024-02-08T08:21:31.697Z"
   },
   {
    "duration": 46,
    "start_time": "2024-02-08T08:21:32.308Z"
   },
   {
    "duration": 19,
    "start_time": "2024-02-08T08:21:32.356Z"
   },
   {
    "duration": 15,
    "start_time": "2024-02-08T08:21:32.376Z"
   },
   {
    "duration": 6,
    "start_time": "2024-02-08T08:21:32.392Z"
   },
   {
    "duration": 5,
    "start_time": "2024-02-08T08:21:32.400Z"
   },
   {
    "duration": 24,
    "start_time": "2024-02-08T08:21:32.406Z"
   },
   {
    "duration": 4,
    "start_time": "2024-02-08T08:21:32.432Z"
   },
   {
    "duration": 26,
    "start_time": "2024-02-08T08:21:32.437Z"
   },
   {
    "duration": 8,
    "start_time": "2024-02-08T08:21:32.464Z"
   }
  ],
  "kernelspec": {
   "display_name": "Python 3 (ipykernel)",
   "language": "python",
   "name": "python3"
  },
  "language_info": {
   "codemirror_mode": {
    "name": "ipython",
    "version": 3
   },
   "file_extension": ".py",
   "mimetype": "text/x-python",
   "name": "python",
   "nbconvert_exporter": "python",
   "pygments_lexer": "ipython3",
   "version": "3.9.5"
  },
  "toc": {
   "base_numbering": 1,
   "nav_menu": {},
   "number_sections": true,
   "sideBar": true,
   "skip_h1_title": true,
   "title_cell": "Table of Contents",
   "title_sidebar": "Contents",
   "toc_cell": false,
   "toc_position": {},
   "toc_section_display": true,
   "toc_window_display": false
  }
 },
 "nbformat": 4,
 "nbformat_minor": 5
}
